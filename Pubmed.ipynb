{
  "cells": [
    {
      "cell_type": "code",
      "execution_count": null,
      "id": "75b86b72",
      "metadata": {
        "colab": {
          "base_uri": "https://localhost:8080/"
        },
        "execution": {
          "iopub.execute_input": "2023-05-25T10:22:15.012111Z",
          "iopub.status.busy": "2023-05-25T10:22:15.011552Z",
          "iopub.status.idle": "2023-05-25T10:22:56.479735Z",
          "shell.execute_reply": "2023-05-25T10:22:56.478560Z"
        },
        "id": "75b86b72",
        "outputId": "b7aa8b5d-b657-4dd5-f810-df79c6830a9d",
        "papermill": {
          "duration": 41.500011,
          "end_time": "2023-05-25T10:22:56.482261",
          "exception": false,
          "start_time": "2023-05-25T10:22:14.982250",
          "status": "completed"
        },
        "tags": []
      },
      "outputs": [
        {
          "name": "stdout",
          "output_type": "stream",
          "text": [
            "\u001b[2K     \u001b[90m━━━━━━━━━━━━━━━━━━━━━━━━━━━━━━━━━━━━━━━━\u001b[0m \u001b[32m5.5/5.5 MB\u001b[0m \u001b[31m33.2 MB/s\u001b[0m eta \u001b[36m0:00:00\u001b[0m\n",
            "\u001b[2K     \u001b[90m━━━━━━━━━━━━━━━━━━━━━━━━━━━━━━━━━━━━━━\u001b[0m \u001b[32m295.0/295.0 kB\u001b[0m \u001b[31m29.2 MB/s\u001b[0m eta \u001b[36m0:00:00\u001b[0m\n",
            "\u001b[2K     \u001b[90m━━━━━━━━━━━━━━━━━━━━━━━━━━━━━━━━━━━━━━━━\u001b[0m \u001b[32m7.8/7.8 MB\u001b[0m \u001b[31m77.4 MB/s\u001b[0m eta \u001b[36m0:00:00\u001b[0m\n",
            "\u001b[2K     \u001b[90m━━━━━━━━━━━━━━━━━━━━━━━━━━━━━━━━━━━━━━━━\u001b[0m \u001b[32m20.2/20.2 MB\u001b[0m \u001b[31m62.6 MB/s\u001b[0m eta \u001b[36m0:00:00\u001b[0m\n",
            "\u001b[2K     \u001b[90m━━━━━━━━━━━━━━━━━━━━━━━━━━━━━━━━━━━━━━━━\u001b[0m \u001b[32m66.3/66.3 kB\u001b[0m \u001b[31m8.7 MB/s\u001b[0m eta \u001b[36m0:00:00\u001b[0m\n",
            "\u001b[?25h  Preparing metadata (setup.py) ... \u001b[?25l\u001b[?25hdone\n",
            "\u001b[2K     \u001b[90m━━━━━━━━━━━━━━━━━━━━━━━━━━━━━━━━━━━━━━\u001b[0m \u001b[32m298.4/298.4 kB\u001b[0m \u001b[31m28.9 MB/s\u001b[0m eta \u001b[36m0:00:00\u001b[0m\n",
            "\u001b[2K     \u001b[90m━━━━━━━━━━━━━━━━━━━━━━━━━━━━━━━━━━━━━━━━\u001b[0m \u001b[32m75.7/75.7 kB\u001b[0m \u001b[31m8.9 MB/s\u001b[0m eta \u001b[36m0:00:00\u001b[0m\n",
            "\u001b[2K     \u001b[90m━━━━━━━━━━━━━━━━━━━━━━━━━━━━━━━━━━━━━━━\u001b[0m \u001b[32m138.7/138.7 kB\u001b[0m \u001b[31m7.9 MB/s\u001b[0m eta \u001b[36m0:00:00\u001b[0m\n",
            "\u001b[2K     \u001b[90m━━━━━━━━━━━━━━━━━━━━━━━━━━━━━━━━━━━━━━━━\u001b[0m \u001b[32m45.7/45.7 kB\u001b[0m \u001b[31m6.2 MB/s\u001b[0m eta \u001b[36m0:00:00\u001b[0m\n",
            "\u001b[2K     \u001b[90m━━━━━━━━━━━━━━━━━━━━━━━━━━━━━━━━━━━━━━━━\u001b[0m \u001b[32m59.5/59.5 kB\u001b[0m \u001b[31m7.7 MB/s\u001b[0m eta \u001b[36m0:00:00\u001b[0m\n",
            "\u001b[2K     \u001b[90m━━━━━━━━━━━━━━━━━━━━━━━━━━━━━━━━━━━━━━\u001b[0m \u001b[32m129.9/129.9 kB\u001b[0m \u001b[31m13.4 MB/s\u001b[0m eta \u001b[36m0:00:00\u001b[0m\n",
            "\u001b[2K     \u001b[90m━━━━━━━━━━━━━━━━━━━━━━━━━━━━━━━━━━━━━━━━\u001b[0m \u001b[32m58.3/58.3 kB\u001b[0m \u001b[31m6.3 MB/s\u001b[0m eta \u001b[36m0:00:00\u001b[0m\n",
            "\u001b[2K     \u001b[90m━━━━━━━━━━━━━━━━━━━━━━━━━━━━━━━━━━━━━━━━\u001b[0m \u001b[32m67.0/67.0 kB\u001b[0m \u001b[31m8.5 MB/s\u001b[0m eta \u001b[36m0:00:00\u001b[0m\n",
            "\u001b[2K     \u001b[90m━━━━━━━━━━━━━━━━━━━━━━━━━━━━━━━━━━━━━━━━\u001b[0m \u001b[32m76.0/76.0 kB\u001b[0m \u001b[31m10.0 MB/s\u001b[0m eta \u001b[36m0:00:00\u001b[0m\n",
            "\u001b[?25h  Building wheel for ffmpy (setup.py) ... \u001b[?25l\u001b[?25hdone\n",
            "Reading package lists... Done\n",
            "Building dependency tree... Done\n",
            "Reading state information... Done\n",
            "git-lfs is already the newest version (3.0.2-1ubuntu0.2).\n",
            "0 upgraded, 0 newly installed, 0 to remove and 18 not upgraded.\n",
            "Git LFS initialized.\n"
          ]
        }
      ],
      "source": [
        "! pip install -q transformers==4.24.0\n",
        "\n",
        "!pip install -q gradio\n",
        "!sudo apt-get install git-lfs\n",
        "!git lfs install"
      ]
    },
    {
      "cell_type": "markdown",
      "id": "35c07022",
      "metadata": {
        "id": "35c07022",
        "papermill": {
          "duration": 0.017956,
          "end_time": "2023-05-25T10:22:56.518290",
          "exception": false,
          "start_time": "2023-05-25T10:22:56.500334",
          "status": "completed"
        },
        "tags": []
      },
      "source": [
        "<a id=\"1\"></a>\n",
        "## <p style=\"background-color:#1a0a36;font-family:newtimeroman;color:#FFF9ED;font-size:140%;text-align:center;border-radius:10px 10px;\">IMPORTING LIBRARIES</p>\n",
        "#### [Top ↑](#top)"
      ]
    },
    {
      "cell_type": "code",
      "execution_count": null,
      "id": "LhUn8R9WU80N",
      "metadata": {
        "colab": {
          "base_uri": "https://localhost:8080/"
        },
        "id": "LhUn8R9WU80N",
        "outputId": "c1a51d63-c3ad-4026-a823-0a17d1526f21"
      },
      "outputs": [
        {
          "name": "stdout",
          "output_type": "stream",
          "text": [
            "Collecting wandb\n",
            "  Downloading wandb-0.15.11-py3-none-any.whl (2.1 MB)\n",
            "\u001b[?25l     \u001b[90m━━━━━━━━━━━━━━━━━━━━━━━━━━━━━━━━━━━━━━━━\u001b[0m \u001b[32m0.0/2.1 MB\u001b[0m \u001b[31m?\u001b[0m eta \u001b[36m-:--:--\u001b[0m\r\u001b[2K     \u001b[91m━━━\u001b[0m\u001b[90m╺\u001b[0m\u001b[90m━━━━━━━━━━━━━━━━━━━━━━━━━━━━━━━━━━━━\u001b[0m \u001b[32m0.2/2.1 MB\u001b[0m \u001b[31m5.7 MB/s\u001b[0m eta \u001b[36m0:00:01\u001b[0m\r\u001b[2K     \u001b[91m━━━━━━━━━━━━━━━━━━━━━━━━━━━━━━━━━━━━━\u001b[0m\u001b[90m╺\u001b[0m\u001b[90m━━\u001b[0m \u001b[32m2.0/2.1 MB\u001b[0m \u001b[31m31.6 MB/s\u001b[0m eta \u001b[36m0:00:01\u001b[0m\r\u001b[2K     \u001b[90m━━━━━━━━━━━━━━━━━━━━━━━━━━━━━━━━━━━━━━━━\u001b[0m \u001b[32m2.1/2.1 MB\u001b[0m \u001b[31m26.3 MB/s\u001b[0m eta \u001b[36m0:00:00\u001b[0m\n",
            "\u001b[?25hRequirement already satisfied: Click!=8.0.0,>=7.1 in /usr/local/lib/python3.10/dist-packages (from wandb) (8.1.7)\n",
            "Collecting GitPython!=3.1.29,>=1.0.0 (from wandb)\n",
            "  Downloading GitPython-3.1.37-py3-none-any.whl (190 kB)\n",
            "\u001b[2K     \u001b[90m━━━━━━━━━━━━━━━━━━━━━━━━━━━━━━━━━━━━━━\u001b[0m \u001b[32m190.0/190.0 kB\u001b[0m \u001b[31m21.7 MB/s\u001b[0m eta \u001b[36m0:00:00\u001b[0m\n",
            "\u001b[?25hRequirement already satisfied: requests<3,>=2.0.0 in /usr/local/lib/python3.10/dist-packages (from wandb) (2.31.0)\n",
            "Requirement already satisfied: psutil>=5.0.0 in /usr/local/lib/python3.10/dist-packages (from wandb) (5.9.5)\n",
            "Collecting sentry-sdk>=1.0.0 (from wandb)\n",
            "  Downloading sentry_sdk-1.31.0-py2.py3-none-any.whl (224 kB)\n",
            "\u001b[2K     \u001b[90m━━━━━━━━━━━━━━━━━━━━━━━━━━━━━━━━━━━━━━\u001b[0m \u001b[32m224.8/224.8 kB\u001b[0m \u001b[31m23.0 MB/s\u001b[0m eta \u001b[36m0:00:00\u001b[0m\n",
            "\u001b[?25hCollecting docker-pycreds>=0.4.0 (from wandb)\n",
            "  Downloading docker_pycreds-0.4.0-py2.py3-none-any.whl (9.0 kB)\n",
            "Requirement already satisfied: PyYAML in /usr/local/lib/python3.10/dist-packages (from wandb) (6.0.1)\n",
            "Collecting pathtools (from wandb)\n",
            "  Downloading pathtools-0.1.2.tar.gz (11 kB)\n",
            "  Preparing metadata (setup.py) ... \u001b[?25l\u001b[?25hdone\n",
            "Collecting setproctitle (from wandb)\n",
            "  Downloading setproctitle-1.3.2-cp310-cp310-manylinux_2_5_x86_64.manylinux1_x86_64.manylinux_2_17_x86_64.manylinux2014_x86_64.whl (30 kB)\n",
            "Requirement already satisfied: setuptools in /usr/local/lib/python3.10/dist-packages (from wandb) (67.7.2)\n",
            "Requirement already satisfied: appdirs>=1.4.3 in /usr/local/lib/python3.10/dist-packages (from wandb) (1.4.4)\n",
            "Requirement already satisfied: protobuf!=4.21.0,<5,>=3.19.0 in /usr/local/lib/python3.10/dist-packages (from wandb) (3.20.3)\n",
            "Requirement already satisfied: six>=1.4.0 in /usr/local/lib/python3.10/dist-packages (from docker-pycreds>=0.4.0->wandb) (1.16.0)\n",
            "Collecting gitdb<5,>=4.0.1 (from GitPython!=3.1.29,>=1.0.0->wandb)\n",
            "  Downloading gitdb-4.0.10-py3-none-any.whl (62 kB)\n",
            "\u001b[2K     \u001b[90m━━━━━━━━━━━━━━━━━━━━━━━━━━━━━━━━━━━━━━━━\u001b[0m \u001b[32m62.7/62.7 kB\u001b[0m \u001b[31m9.5 MB/s\u001b[0m eta \u001b[36m0:00:00\u001b[0m\n",
            "\u001b[?25hRequirement already satisfied: charset-normalizer<4,>=2 in /usr/local/lib/python3.10/dist-packages (from requests<3,>=2.0.0->wandb) (3.2.0)\n",
            "Requirement already satisfied: idna<4,>=2.5 in /usr/local/lib/python3.10/dist-packages (from requests<3,>=2.0.0->wandb) (3.4)\n",
            "Requirement already satisfied: urllib3<3,>=1.21.1 in /usr/local/lib/python3.10/dist-packages (from requests<3,>=2.0.0->wandb) (2.0.4)\n",
            "Requirement already satisfied: certifi>=2017.4.17 in /usr/local/lib/python3.10/dist-packages (from requests<3,>=2.0.0->wandb) (2023.7.22)\n",
            "Collecting smmap<6,>=3.0.1 (from gitdb<5,>=4.0.1->GitPython!=3.1.29,>=1.0.0->wandb)\n",
            "  Downloading smmap-5.0.1-py3-none-any.whl (24 kB)\n",
            "Building wheels for collected packages: pathtools\n",
            "  Building wheel for pathtools (setup.py) ... \u001b[?25l\u001b[?25hdone\n",
            "  Created wheel for pathtools: filename=pathtools-0.1.2-py3-none-any.whl size=8791 sha256=576fe7fc2713f3a53aaa12f866fa4959c8e09758f18bcca14d51e1077a3c12cf\n",
            "  Stored in directory: /root/.cache/pip/wheels/e7/f3/22/152153d6eb222ee7a56ff8617d80ee5207207a8c00a7aab794\n",
            "Successfully built pathtools\n",
            "Installing collected packages: pathtools, smmap, setproctitle, sentry-sdk, docker-pycreds, gitdb, GitPython, wandb\n",
            "Successfully installed GitPython-3.1.37 docker-pycreds-0.4.0 gitdb-4.0.10 pathtools-0.1.2 sentry-sdk-1.31.0 setproctitle-1.3.2 smmap-5.0.1 wandb-0.15.11\n"
          ]
        }
      ],
      "source": [
        "pip install wandb"
      ]
    },
    {
      "cell_type": "code",
      "execution_count": null,
      "id": "eccbdd70",
      "metadata": {
        "_cell_guid": "b1076dfc-b9ad-4769-8c92-a6c4dae69d19",
        "_uuid": "8f2839f25d086af736a60e9eeb907d3b93b6e0e5",
        "execution": {
          "iopub.execute_input": "2023-05-25T10:22:56.554499Z",
          "iopub.status.busy": "2023-05-25T10:22:56.554135Z",
          "iopub.status.idle": "2023-05-25T10:23:07.214805Z",
          "shell.execute_reply": "2023-05-25T10:23:07.213782Z"
        },
        "id": "eccbdd70",
        "papermill": {
          "duration": 10.682295,
          "end_time": "2023-05-25T10:23:07.217962",
          "exception": false,
          "start_time": "2023-05-25T10:22:56.535667",
          "status": "completed"
        },
        "tags": []
      },
      "outputs": [],
      "source": [
        "import os\n",
        "import wandb\n",
        "import torch\n",
        "import pickle\n",
        "import numpy as np\n",
        "%matplotlib inline\n",
        "import pandas as pd\n",
        "import gradio as gr\n",
        "import seaborn as sns\n",
        "import tensorflow as tf\n",
        "from typing import Dict\n",
        "from ast import literal_eval\n",
        "from torch.optim import AdamW\n",
        "from tqdm import tqdm, trange\n",
        "import matplotlib.pyplot as plt\n",
        "from torch.nn import BCEWithLogitsLoss, BCELoss\n",
        "from sklearn.model_selection import train_test_split\n",
        "from sklearn.preprocessing import MultiLabelBinarizer\n",
        "from keras.preprocessing.sequence import pad_sequences\n",
        "from torch.utils.data import TensorDataset, DataLoader, RandomSampler, SequentialSampler\n",
        "from sklearn.metrics import classification_report, confusion_matrix, multilabel_confusion_matrix, f1_score, accuracy_score\n",
        "from transformers import XLNetForSequenceClassification, XLNetTokenizer,BertForSequenceClassification,BertTokenizer, RobertaForSequenceClassification,RobertaTokenizer\n",
        "\n",
        "# pd.set_option('Display.max_colwidth',None)"
      ]
    },
    {
      "cell_type": "code",
      "execution_count": null,
      "id": "GZxBpCeB66_L",
      "metadata": {
        "colab": {
          "base_uri": "https://localhost:8080/"
        },
        "id": "GZxBpCeB66_L",
        "outputId": "84d9d6b7-db79-445e-907e-e7715b287979"
      },
      "outputs": [
        {
          "name": "stdout",
          "output_type": "stream",
          "text": [
            "Requirement already satisfied: transformers in /usr/local/lib/python3.10/dist-packages (4.24.0)\n",
            "Requirement already satisfied: filelock in /usr/local/lib/python3.10/dist-packages (from transformers) (3.12.2)\n",
            "Requirement already satisfied: huggingface-hub<1.0,>=0.10.0 in /usr/local/lib/python3.10/dist-packages (from transformers) (0.17.3)\n",
            "Requirement already satisfied: numpy>=1.17 in /usr/local/lib/python3.10/dist-packages (from transformers) (1.23.5)\n",
            "Requirement already satisfied: packaging>=20.0 in /usr/local/lib/python3.10/dist-packages (from transformers) (23.1)\n",
            "Requirement already satisfied: pyyaml>=5.1 in /usr/local/lib/python3.10/dist-packages (from transformers) (6.0.1)\n",
            "Requirement already satisfied: regex!=2019.12.17 in /usr/local/lib/python3.10/dist-packages (from transformers) (2023.6.3)\n",
            "Requirement already satisfied: requests in /usr/local/lib/python3.10/dist-packages (from transformers) (2.31.0)\n",
            "Requirement already satisfied: tokenizers!=0.11.3,<0.14,>=0.11.1 in /usr/local/lib/python3.10/dist-packages (from transformers) (0.13.3)\n",
            "Requirement already satisfied: tqdm>=4.27 in /usr/local/lib/python3.10/dist-packages (from transformers) (4.66.1)\n",
            "Requirement already satisfied: fsspec in /usr/local/lib/python3.10/dist-packages (from huggingface-hub<1.0,>=0.10.0->transformers) (2023.6.0)\n",
            "Requirement already satisfied: typing-extensions>=3.7.4.3 in /usr/local/lib/python3.10/dist-packages (from huggingface-hub<1.0,>=0.10.0->transformers) (4.5.0)\n",
            "Requirement already satisfied: charset-normalizer<4,>=2 in /usr/local/lib/python3.10/dist-packages (from requests->transformers) (3.2.0)\n",
            "Requirement already satisfied: idna<4,>=2.5 in /usr/local/lib/python3.10/dist-packages (from requests->transformers) (3.4)\n",
            "Requirement already satisfied: urllib3<3,>=1.21.1 in /usr/local/lib/python3.10/dist-packages (from requests->transformers) (2.0.4)\n",
            "Requirement already satisfied: certifi>=2017.4.17 in /usr/local/lib/python3.10/dist-packages (from requests->transformers) (2023.7.22)\n"
          ]
        }
      ],
      "source": [
        "!pip install transformers\n",
        "\n",
        "\n"
      ]
    },
    {
      "cell_type": "code",
      "execution_count": null,
      "id": "95f5f9ef",
      "metadata": {
        "execution": {
          "iopub.execute_input": "2023-05-25T10:23:07.254743Z",
          "iopub.status.busy": "2023-05-25T10:23:07.254024Z",
          "iopub.status.idle": "2023-05-25T10:23:07.259359Z",
          "shell.execute_reply": "2023-05-25T10:23:07.258364Z"
        },
        "id": "95f5f9ef",
        "papermill": {
          "duration": 0.025642,
          "end_time": "2023-05-25T10:23:07.261450",
          "exception": false,
          "start_time": "2023-05-25T10:23:07.235808",
          "status": "completed"
        },
        "tags": []
      },
      "outputs": [],
      "source": [
        "def warn(*args, **kwargs):\n",
        "    pass\n",
        "import warnings\n",
        "warnings.warn = warn"
      ]
    },
    {
      "cell_type": "code",
      "execution_count": null,
      "id": "02e9df82",
      "metadata": {
        "colab": {
          "base_uri": "https://localhost:8080/",
          "height": 35
        },
        "execution": {
          "iopub.execute_input": "2023-05-25T10:23:07.298090Z",
          "iopub.status.busy": "2023-05-25T10:23:07.296517Z",
          "iopub.status.idle": "2023-05-25T10:23:07.306189Z",
          "shell.execute_reply": "2023-05-25T10:23:07.305261Z"
        },
        "id": "02e9df82",
        "outputId": "249674e7-7cda-4674-bd64-de985e961a3c",
        "papermill": {
          "duration": 0.029793,
          "end_time": "2023-05-25T10:23:07.308274",
          "exception": false,
          "start_time": "2023-05-25T10:23:07.278481",
          "status": "completed"
        },
        "tags": []
      },
      "outputs": [
        {
          "data": {
            "application/vnd.google.colaboratory.intrinsic+json": {
              "type": "string"
            },
            "text/plain": [
              "'2.0.1+cu118'"
            ]
          },
          "execution_count": 8,
          "metadata": {},
          "output_type": "execute_result"
        }
      ],
      "source": [
        "torch.__version__"
      ]
    },
    {
      "cell_type": "code",
      "execution_count": null,
      "id": "f25309ac",
      "metadata": {
        "colab": {
          "base_uri": "https://localhost:8080/"
        },
        "execution": {
          "iopub.execute_input": "2023-05-25T10:23:07.345116Z",
          "iopub.status.busy": "2023-05-25T10:23:07.343647Z",
          "iopub.status.idle": "2023-05-25T10:23:12.034930Z",
          "shell.execute_reply": "2023-05-25T10:23:12.033272Z"
        },
        "id": "f25309ac",
        "outputId": "e193dfe8-2123-496a-9f64-31fe77ed3e3e",
        "papermill": {
          "duration": 4.711733,
          "end_time": "2023-05-25T10:23:12.037220",
          "exception": false,
          "start_time": "2023-05-25T10:23:07.325487",
          "status": "completed"
        },
        "tags": []
      },
      "outputs": [
        {
          "name": "stdout",
          "output_type": "stream",
          "text": [
            "Found GPU at: /device:GPU:0\n"
          ]
        }
      ],
      "source": [
        "device_name = tf.test.gpu_device_name()\n",
        "if device_name != '/device:GPU:0':\n",
        "    raise SystemError('GPU device not found')\n",
        "print('Found GPU at: {}'.format(device_name))"
      ]
    },
    {
      "cell_type": "code",
      "execution_count": null,
      "id": "ea68c794",
      "metadata": {
        "colab": {
          "base_uri": "https://localhost:8080/",
          "height": 35
        },
        "execution": {
          "iopub.execute_input": "2023-05-25T10:23:12.074482Z",
          "iopub.status.busy": "2023-05-25T10:23:12.074133Z",
          "iopub.status.idle": "2023-05-25T10:23:12.084024Z",
          "shell.execute_reply": "2023-05-25T10:23:12.082921Z"
        },
        "id": "ea68c794",
        "outputId": "f51427c0-dd74-400c-ea0c-d87d0fe6ec75",
        "papermill": {
          "duration": 0.032595,
          "end_time": "2023-05-25T10:23:12.087589",
          "exception": false,
          "start_time": "2023-05-25T10:23:12.054994",
          "status": "completed"
        },
        "tags": []
      },
      "outputs": [
        {
          "data": {
            "application/vnd.google.colaboratory.intrinsic+json": {
              "type": "string"
            },
            "text/plain": [
              "'Tesla T4'"
            ]
          },
          "execution_count": 10,
          "metadata": {},
          "output_type": "execute_result"
        }
      ],
      "source": [
        "device = torch.device(\"cuda\" if torch.cuda.is_available() else \"cpu\")\n",
        "n_gpu = torch.cuda.device_count()\n",
        "torch.cuda.get_device_name(0)"
      ]
    },
    {
      "cell_type": "markdown",
      "id": "d387accf",
      "metadata": {
        "id": "d387accf",
        "papermill": {
          "duration": 0.017213,
          "end_time": "2023-05-25T10:23:12.122280",
          "exception": false,
          "start_time": "2023-05-25T10:23:12.105067",
          "status": "completed"
        },
        "tags": []
      },
      "source": [
        "\n",
        "<img src=\"https://camo.githubusercontent.com/dd842f7b0be57140e68b2ab9cb007992acd131c48284eaf6b1aca758bfea358b/68747470733a2f2f692e696d6775722e636f6d2f52557469567a482e706e67\">\n",
        "\n",
        "> I will be integrating W&B for visualizations and logging artifacts and comparisons of different models!\n",
        ">\n",
        "> [Multi Label Classification of PubMed Articles (Paper Night Presentation)]\n",
        "> https://wandb.ai/owaiskhan9515/Multi%20Label%20Classification%20of%20PubMed%20Articles%20(Paper%20Night%20Presentation)\n",
        "\n",
        "\n",
        ">\n",
        "> - To get the API key, create an account in the [website](https://wandb.ai/site) .\n",
        "> - Use secrets to use API Keys more securely"
      ]
    },
    {
      "cell_type": "code",
      "execution_count": null,
      "id": "6b192b14",
      "metadata": {
        "colab": {
          "base_uri": "https://localhost:8080/",
          "height": 246
        },
        "execution": {
          "iopub.execute_input": "2023-05-25T10:23:12.159299Z",
          "iopub.status.busy": "2023-05-25T10:23:12.158980Z",
          "iopub.status.idle": "2023-05-25T10:23:16.852191Z",
          "shell.execute_reply": "2023-05-25T10:23:16.851230Z"
        },
        "id": "6b192b14",
        "outputId": "5f1ee657-c237-435b-d3d8-49707e5591fd",
        "papermill": {
          "duration": 4.714202,
          "end_time": "2023-05-25T10:23:16.854606",
          "exception": false,
          "start_time": "2023-05-25T10:23:12.140404",
          "status": "completed"
        },
        "tags": []
      },
      "outputs": [
        {
          "name": "stdout",
          "output_type": "stream",
          "text": [
            "If you want to use your W&B account, go to Add-ons -> Secrets and provide your W&B access token. Use the Label name as wandb_api. \n",
            "Get your W&B access token from here: https://wandb.ai/authorize\n"
          ]
        },
        {
          "data": {
            "application/javascript": "\n        window._wandbApiKey = new Promise((resolve, reject) => {\n            function loadScript(url) {\n            return new Promise(function(resolve, reject) {\n                let newScript = document.createElement(\"script\");\n                newScript.onerror = reject;\n                newScript.onload = resolve;\n                document.body.appendChild(newScript);\n                newScript.src = url;\n            });\n            }\n            loadScript(\"https://cdn.jsdelivr.net/npm/postmate/build/postmate.min.js\").then(() => {\n            const iframe = document.createElement('iframe')\n            iframe.style.cssText = \"width:0;height:0;border:none\"\n            document.body.appendChild(iframe)\n            const handshake = new Postmate({\n                container: iframe,\n                url: 'https://wandb.ai/authorize'\n            });\n            const timeout = setTimeout(() => reject(\"Couldn't auto authenticate\"), 5000)\n            handshake.then(function(child) {\n                child.on('authorize', data => {\n                    clearTimeout(timeout)\n                    resolve(data)\n                });\n            });\n            })\n        });\n    ",
            "text/plain": [
              "<IPython.core.display.Javascript object>"
            ]
          },
          "metadata": {},
          "output_type": "display_data"
        },
        {
          "name": "stderr",
          "output_type": "stream",
          "text": [
            "\u001b[34m\u001b[1mwandb\u001b[0m: Logging into wandb.ai. (Learn how to deploy a W&B server locally: https://wandb.me/wandb-server)\n",
            "\u001b[34m\u001b[1mwandb\u001b[0m: You can find your API key in your browser here: https://wandb.ai/authorize\n",
            "wandb: Paste an API key from your profile and hit enter, or press ctrl+c to quit:"
          ]
        },
        {
          "name": "stdout",
          "output_type": "stream",
          "text": [
            " ··········\n"
          ]
        },
        {
          "name": "stderr",
          "output_type": "stream",
          "text": [
            "\u001b[34m\u001b[1mwandb\u001b[0m: Appending key for api.wandb.ai to your netrc file: /root/.netrc\n"
          ]
        },
        {
          "data": {
            "text/html": [
              "Tracking run with wandb version 0.15.11"
            ],
            "text/plain": [
              "<IPython.core.display.HTML object>"
            ]
          },
          "metadata": {},
          "output_type": "display_data"
        },
        {
          "data": {
            "text/html": [
              "Run data is saved locally in <code>/content/wandb/run-20231003_161938-ak2mz443</code>"
            ],
            "text/plain": [
              "<IPython.core.display.HTML object>"
            ]
          },
          "metadata": {},
          "output_type": "display_data"
        },
        {
          "data": {
            "text/html": [
              "Syncing run <strong><a href='https://wandb.ai/mithil-kashid-btech2020/Multi%20Label%20Classification%20of%20PubMed%20Articles%20%28Paper%20Night%20Presentation%29/runs/ak2mz443' target=\"_blank\">42.Biobert-base-cased-v1.2-Run-27</a></strong> to <a href='https://wandb.ai/mithil-kashid-btech2020/Multi%20Label%20Classification%20of%20PubMed%20Articles%20%28Paper%20Night%20Presentation%29' target=\"_blank\">Weights & Biases</a> (<a href='https://wandb.me/run' target=\"_blank\">docs</a>)<br/>"
            ],
            "text/plain": [
              "<IPython.core.display.HTML object>"
            ]
          },
          "metadata": {},
          "output_type": "display_data"
        },
        {
          "data": {
            "text/html": [
              " View project at <a href='https://wandb.ai/mithil-kashid-btech2020/Multi%20Label%20Classification%20of%20PubMed%20Articles%20%28Paper%20Night%20Presentation%29' target=\"_blank\">https://wandb.ai/mithil-kashid-btech2020/Multi%20Label%20Classification%20of%20PubMed%20Articles%20%28Paper%20Night%20Presentation%29</a>"
            ],
            "text/plain": [
              "<IPython.core.display.HTML object>"
            ]
          },
          "metadata": {},
          "output_type": "display_data"
        },
        {
          "data": {
            "text/html": [
              " View run at <a href='https://wandb.ai/mithil-kashid-btech2020/Multi%20Label%20Classification%20of%20PubMed%20Articles%20%28Paper%20Night%20Presentation%29/runs/ak2mz443' target=\"_blank\">https://wandb.ai/mithil-kashid-btech2020/Multi%20Label%20Classification%20of%20PubMed%20Articles%20%28Paper%20Night%20Presentation%29/runs/ak2mz443</a>"
            ],
            "text/plain": [
              "<IPython.core.display.HTML object>"
            ]
          },
          "metadata": {},
          "output_type": "display_data"
        },
        {
          "data": {
            "text/html": [
              "<button onClick=\"this.nextSibling.style.display='block';this.style.display='none';\">Display W&B run</button><iframe src='https://wandb.ai/mithil-kashid-btech2020/Multi%20Label%20Classification%20of%20PubMed%20Articles%20%28Paper%20Night%20Presentation%29/runs/ak2mz443?jupyter=true' style='border:none;width:100%;height:420px;display:none;'></iframe>"
            ],
            "text/plain": [
              "<wandb.sdk.wandb_run.Run at 0x7b85400c52a0>"
            ]
          },
          "execution_count": 11,
          "metadata": {},
          "output_type": "execute_result"
        }
      ],
      "source": [
        "try:\n",
        "    from kaggle_secrets import UserSecretsClient\n",
        "    user_secrets = UserSecretsClient()\n",
        "    secret_value_0 = user_secrets.get_secret(\"wandb_api\")\n",
        "    wandb.login(key=secret_value_0)\n",
        "    anony=None\n",
        "except:\n",
        "    anony = \"must\"\n",
        "    print('If you want to use your W&B account, go to Add-ons -> Secrets and provide your W&B access token. Use the Label name as wandb_api. \\nGet your W&B access token from here: https://wandb.ai/authorize')\n",
        "\n",
        "\n",
        "\n",
        "wandb.init(project=\"Multi Label Classification of PubMed Articles (Paper Night Presentation)\",name=f\"42.Biobert-base-cased-v1.2-Run-27\")"
      ]
    },
    {
      "cell_type": "markdown",
      "id": "f31f9c5f",
      "metadata": {
        "id": "f31f9c5f",
        "papermill": {
          "duration": 0.018377,
          "end_time": "2023-05-25T10:23:16.892325",
          "exception": false,
          "start_time": "2023-05-25T10:23:16.873948",
          "status": "completed"
        },
        "tags": []
      },
      "source": [
        "<a id=\"2\"></a>\n",
        "## <p style=\"background-color:#1a0a36;font-family:newtimeroman;color:#FFF9ED;font-size:150%;text-align:center;border-radius:10px 10px;\"> Reading BioASQ Processed Dataset</p>\n",
        "#### [Top ↑](#top)"
      ]
    },
    {
      "cell_type": "code",
      "execution_count": null,
      "id": "c617be48",
      "metadata": {
        "colab": {
          "base_uri": "https://localhost:8080/",
          "height": 213
        },
        "execution": {
          "iopub.execute_input": "2023-05-25T10:23:16.934066Z",
          "iopub.status.busy": "2023-05-25T10:23:16.933147Z",
          "iopub.status.idle": "2023-05-25T10:23:19.222748Z",
          "shell.execute_reply": "2023-05-25T10:23:19.221689Z"
        },
        "id": "c617be48",
        "outputId": "47d7613e-3e78-47ca-b0de-e0ad13a02ddf",
        "papermill": {
          "duration": 2.311697,
          "end_time": "2023-05-25T10:23:19.225151",
          "exception": false,
          "start_time": "2023-05-25T10:23:16.913454",
          "status": "completed"
        },
        "tags": []
      },
      "outputs": [
        {
          "data": {
            "text/html": [
              "\n",
              "  <div id=\"df-b6dd8e52-4a75-4532-ae77-5718f38c94bd\" class=\"colab-df-container\">\n",
              "    <div>\n",
              "<style scoped>\n",
              "    .dataframe tbody tr th:only-of-type {\n",
              "        vertical-align: middle;\n",
              "    }\n",
              "\n",
              "    .dataframe tbody tr th {\n",
              "        vertical-align: top;\n",
              "    }\n",
              "\n",
              "    .dataframe thead th {\n",
              "        text-align: right;\n",
              "    }\n",
              "</style>\n",
              "<table border=\"1\" class=\"dataframe\">\n",
              "  <thead>\n",
              "    <tr style=\"text-align: right;\">\n",
              "      <th></th>\n",
              "      <th>Title</th>\n",
              "      <th>abstractText</th>\n",
              "      <th>meshMajor</th>\n",
              "      <th>pmid</th>\n",
              "      <th>meshid</th>\n",
              "      <th>meshroot</th>\n",
              "      <th>A</th>\n",
              "      <th>B</th>\n",
              "      <th>C</th>\n",
              "      <th>D</th>\n",
              "      <th>E</th>\n",
              "      <th>F</th>\n",
              "      <th>G</th>\n",
              "      <th>H</th>\n",
              "      <th>I</th>\n",
              "      <th>J</th>\n",
              "      <th>L</th>\n",
              "      <th>M</th>\n",
              "      <th>N</th>\n",
              "      <th>Z</th>\n",
              "    </tr>\n",
              "  </thead>\n",
              "  <tbody>\n",
              "    <tr>\n",
              "      <th>0</th>\n",
              "      <td>Expression of p53 and coexistence of HPV in pr...</td>\n",
              "      <td>Fifty-four paraffin embedded tissue sections f...</td>\n",
              "      <td>['DNA Probes, HPV', 'DNA, Viral', 'Female', 'H...</td>\n",
              "      <td>8549602</td>\n",
              "      <td>[['D13.444.600.223.555', 'D27.505.259.750.600....</td>\n",
              "      <td>['Chemicals and Drugs [D]', 'Organisms [B]', '...</td>\n",
              "      <td>0</td>\n",
              "      <td>1</td>\n",
              "      <td>1</td>\n",
              "      <td>1</td>\n",
              "      <td>1</td>\n",
              "      <td>0</td>\n",
              "      <td>0</td>\n",
              "      <td>1</td>\n",
              "      <td>0</td>\n",
              "      <td>0</td>\n",
              "      <td>0</td>\n",
              "      <td>0</td>\n",
              "      <td>0</td>\n",
              "      <td>0</td>\n",
              "    </tr>\n",
              "    <tr>\n",
              "      <th>1</th>\n",
              "      <td>Vitamin D status in pregnant Indian women acro...</td>\n",
              "      <td>The present cross-sectional study was conducte...</td>\n",
              "      <td>['Adult', 'Alkaline Phosphatase', 'Breast Feed...</td>\n",
              "      <td>21736816</td>\n",
              "      <td>[['M01.060.116'], ['D08.811.277.352.650.035'],...</td>\n",
              "      <td>['Named Groups [M]', 'Chemicals and Drugs [D]'...</td>\n",
              "      <td>0</td>\n",
              "      <td>1</td>\n",
              "      <td>1</td>\n",
              "      <td>1</td>\n",
              "      <td>1</td>\n",
              "      <td>1</td>\n",
              "      <td>1</td>\n",
              "      <td>0</td>\n",
              "      <td>1</td>\n",
              "      <td>1</td>\n",
              "      <td>0</td>\n",
              "      <td>1</td>\n",
              "      <td>1</td>\n",
              "      <td>1</td>\n",
              "    </tr>\n",
              "    <tr>\n",
              "      <th>2</th>\n",
              "      <td>[Identification of a functionally important di...</td>\n",
              "      <td>The occurrence of individual amino acids and d...</td>\n",
              "      <td>['Amino Acid Sequence', 'Analgesics, Opioid', ...</td>\n",
              "      <td>19060934</td>\n",
              "      <td>[['G02.111.570.060', 'L01.453.245.667.060'], [...</td>\n",
              "      <td>['Phenomena and Processes [G]', 'Information S...</td>\n",
              "      <td>1</td>\n",
              "      <td>1</td>\n",
              "      <td>0</td>\n",
              "      <td>1</td>\n",
              "      <td>1</td>\n",
              "      <td>0</td>\n",
              "      <td>1</td>\n",
              "      <td>0</td>\n",
              "      <td>0</td>\n",
              "      <td>0</td>\n",
              "      <td>1</td>\n",
              "      <td>0</td>\n",
              "      <td>0</td>\n",
              "      <td>0</td>\n",
              "    </tr>\n",
              "  </tbody>\n",
              "</table>\n",
              "</div>\n",
              "    <div class=\"colab-df-buttons\">\n",
              "\n",
              "  <div class=\"colab-df-container\">\n",
              "    <button class=\"colab-df-convert\" onclick=\"convertToInteractive('df-b6dd8e52-4a75-4532-ae77-5718f38c94bd')\"\n",
              "            title=\"Convert this dataframe to an interactive table.\"\n",
              "            style=\"display:none;\">\n",
              "\n",
              "  <svg xmlns=\"http://www.w3.org/2000/svg\" height=\"24px\" viewBox=\"0 -960 960 960\">\n",
              "    <path d=\"M120-120v-720h720v720H120Zm60-500h600v-160H180v160Zm220 220h160v-160H400v160Zm0 220h160v-160H400v160ZM180-400h160v-160H180v160Zm440 0h160v-160H620v160ZM180-180h160v-160H180v160Zm440 0h160v-160H620v160Z\"/>\n",
              "  </svg>\n",
              "    </button>\n",
              "\n",
              "  <style>\n",
              "    .colab-df-container {\n",
              "      display:flex;\n",
              "      gap: 12px;\n",
              "    }\n",
              "\n",
              "    .colab-df-convert {\n",
              "      background-color: #E8F0FE;\n",
              "      border: none;\n",
              "      border-radius: 50%;\n",
              "      cursor: pointer;\n",
              "      display: none;\n",
              "      fill: #1967D2;\n",
              "      height: 32px;\n",
              "      padding: 0 0 0 0;\n",
              "      width: 32px;\n",
              "    }\n",
              "\n",
              "    .colab-df-convert:hover {\n",
              "      background-color: #E2EBFA;\n",
              "      box-shadow: 0px 1px 2px rgba(60, 64, 67, 0.3), 0px 1px 3px 1px rgba(60, 64, 67, 0.15);\n",
              "      fill: #174EA6;\n",
              "    }\n",
              "\n",
              "    .colab-df-buttons div {\n",
              "      margin-bottom: 4px;\n",
              "    }\n",
              "\n",
              "    [theme=dark] .colab-df-convert {\n",
              "      background-color: #3B4455;\n",
              "      fill: #D2E3FC;\n",
              "    }\n",
              "\n",
              "    [theme=dark] .colab-df-convert:hover {\n",
              "      background-color: #434B5C;\n",
              "      box-shadow: 0px 1px 3px 1px rgba(0, 0, 0, 0.15);\n",
              "      filter: drop-shadow(0px 1px 2px rgba(0, 0, 0, 0.3));\n",
              "      fill: #FFFFFF;\n",
              "    }\n",
              "  </style>\n",
              "\n",
              "    <script>\n",
              "      const buttonEl =\n",
              "        document.querySelector('#df-b6dd8e52-4a75-4532-ae77-5718f38c94bd button.colab-df-convert');\n",
              "      buttonEl.style.display =\n",
              "        google.colab.kernel.accessAllowed ? 'block' : 'none';\n",
              "\n",
              "      async function convertToInteractive(key) {\n",
              "        const element = document.querySelector('#df-b6dd8e52-4a75-4532-ae77-5718f38c94bd');\n",
              "        const dataTable =\n",
              "          await google.colab.kernel.invokeFunction('convertToInteractive',\n",
              "                                                    [key], {});\n",
              "        if (!dataTable) return;\n",
              "\n",
              "        const docLinkHtml = 'Like what you see? Visit the ' +\n",
              "          '<a target=\"_blank\" href=https://colab.research.google.com/notebooks/data_table.ipynb>data table notebook</a>'\n",
              "          + ' to learn more about interactive tables.';\n",
              "        element.innerHTML = '';\n",
              "        dataTable['output_type'] = 'display_data';\n",
              "        await google.colab.output.renderOutput(dataTable, element);\n",
              "        const docLink = document.createElement('div');\n",
              "        docLink.innerHTML = docLinkHtml;\n",
              "        element.appendChild(docLink);\n",
              "      }\n",
              "    </script>\n",
              "  </div>\n",
              "\n",
              "\n",
              "<div id=\"df-c61bb784-580b-43be-a1fd-381ff751f1ca\">\n",
              "  <button class=\"colab-df-quickchart\" onclick=\"quickchart('df-c61bb784-580b-43be-a1fd-381ff751f1ca')\"\n",
              "            title=\"Suggest charts.\"\n",
              "            style=\"display:none;\">\n",
              "\n",
              "<svg xmlns=\"http://www.w3.org/2000/svg\" height=\"24px\"viewBox=\"0 0 24 24\"\n",
              "     width=\"24px\">\n",
              "    <g>\n",
              "        <path d=\"M19 3H5c-1.1 0-2 .9-2 2v14c0 1.1.9 2 2 2h14c1.1 0 2-.9 2-2V5c0-1.1-.9-2-2-2zM9 17H7v-7h2v7zm4 0h-2V7h2v10zm4 0h-2v-4h2v4z\"/>\n",
              "    </g>\n",
              "</svg>\n",
              "  </button>\n",
              "\n",
              "<style>\n",
              "  .colab-df-quickchart {\n",
              "      --bg-color: #E8F0FE;\n",
              "      --fill-color: #1967D2;\n",
              "      --hover-bg-color: #E2EBFA;\n",
              "      --hover-fill-color: #174EA6;\n",
              "      --disabled-fill-color: #AAA;\n",
              "      --disabled-bg-color: #DDD;\n",
              "  }\n",
              "\n",
              "  [theme=dark] .colab-df-quickchart {\n",
              "      --bg-color: #3B4455;\n",
              "      --fill-color: #D2E3FC;\n",
              "      --hover-bg-color: #434B5C;\n",
              "      --hover-fill-color: #FFFFFF;\n",
              "      --disabled-bg-color: #3B4455;\n",
              "      --disabled-fill-color: #666;\n",
              "  }\n",
              "\n",
              "  .colab-df-quickchart {\n",
              "    background-color: var(--bg-color);\n",
              "    border: none;\n",
              "    border-radius: 50%;\n",
              "    cursor: pointer;\n",
              "    display: none;\n",
              "    fill: var(--fill-color);\n",
              "    height: 32px;\n",
              "    padding: 0;\n",
              "    width: 32px;\n",
              "  }\n",
              "\n",
              "  .colab-df-quickchart:hover {\n",
              "    background-color: var(--hover-bg-color);\n",
              "    box-shadow: 0 1px 2px rgba(60, 64, 67, 0.3), 0 1px 3px 1px rgba(60, 64, 67, 0.15);\n",
              "    fill: var(--button-hover-fill-color);\n",
              "  }\n",
              "\n",
              "  .colab-df-quickchart-complete:disabled,\n",
              "  .colab-df-quickchart-complete:disabled:hover {\n",
              "    background-color: var(--disabled-bg-color);\n",
              "    fill: var(--disabled-fill-color);\n",
              "    box-shadow: none;\n",
              "  }\n",
              "\n",
              "  .colab-df-spinner {\n",
              "    border: 2px solid var(--fill-color);\n",
              "    border-color: transparent;\n",
              "    border-bottom-color: var(--fill-color);\n",
              "    animation:\n",
              "      spin 1s steps(1) infinite;\n",
              "  }\n",
              "\n",
              "  @keyframes spin {\n",
              "    0% {\n",
              "      border-color: transparent;\n",
              "      border-bottom-color: var(--fill-color);\n",
              "      border-left-color: var(--fill-color);\n",
              "    }\n",
              "    20% {\n",
              "      border-color: transparent;\n",
              "      border-left-color: var(--fill-color);\n",
              "      border-top-color: var(--fill-color);\n",
              "    }\n",
              "    30% {\n",
              "      border-color: transparent;\n",
              "      border-left-color: var(--fill-color);\n",
              "      border-top-color: var(--fill-color);\n",
              "      border-right-color: var(--fill-color);\n",
              "    }\n",
              "    40% {\n",
              "      border-color: transparent;\n",
              "      border-right-color: var(--fill-color);\n",
              "      border-top-color: var(--fill-color);\n",
              "    }\n",
              "    60% {\n",
              "      border-color: transparent;\n",
              "      border-right-color: var(--fill-color);\n",
              "    }\n",
              "    80% {\n",
              "      border-color: transparent;\n",
              "      border-right-color: var(--fill-color);\n",
              "      border-bottom-color: var(--fill-color);\n",
              "    }\n",
              "    90% {\n",
              "      border-color: transparent;\n",
              "      border-bottom-color: var(--fill-color);\n",
              "    }\n",
              "  }\n",
              "</style>\n",
              "\n",
              "  <script>\n",
              "    async function quickchart(key) {\n",
              "      const quickchartButtonEl =\n",
              "        document.querySelector('#' + key + ' button');\n",
              "      quickchartButtonEl.disabled = true;  // To prevent multiple clicks.\n",
              "      quickchartButtonEl.classList.add('colab-df-spinner');\n",
              "      try {\n",
              "        const charts = await google.colab.kernel.invokeFunction(\n",
              "            'suggestCharts', [key], {});\n",
              "      } catch (error) {\n",
              "        console.error('Error during call to suggestCharts:', error);\n",
              "      }\n",
              "      quickchartButtonEl.classList.remove('colab-df-spinner');\n",
              "      quickchartButtonEl.classList.add('colab-df-quickchart-complete');\n",
              "    }\n",
              "    (() => {\n",
              "      let quickchartButtonEl =\n",
              "        document.querySelector('#df-c61bb784-580b-43be-a1fd-381ff751f1ca button');\n",
              "      quickchartButtonEl.style.display =\n",
              "        google.colab.kernel.accessAllowed ? 'block' : 'none';\n",
              "    })();\n",
              "  </script>\n",
              "</div>\n",
              "    </div>\n",
              "  </div>\n"
            ],
            "text/plain": [
              "                                               Title  \\\n",
              "0  Expression of p53 and coexistence of HPV in pr...   \n",
              "1  Vitamin D status in pregnant Indian women acro...   \n",
              "2  [Identification of a functionally important di...   \n",
              "\n",
              "                                        abstractText  \\\n",
              "0  Fifty-four paraffin embedded tissue sections f...   \n",
              "1  The present cross-sectional study was conducte...   \n",
              "2  The occurrence of individual amino acids and d...   \n",
              "\n",
              "                                           meshMajor      pmid  \\\n",
              "0  ['DNA Probes, HPV', 'DNA, Viral', 'Female', 'H...   8549602   \n",
              "1  ['Adult', 'Alkaline Phosphatase', 'Breast Feed...  21736816   \n",
              "2  ['Amino Acid Sequence', 'Analgesics, Opioid', ...  19060934   \n",
              "\n",
              "                                              meshid  \\\n",
              "0  [['D13.444.600.223.555', 'D27.505.259.750.600....   \n",
              "1  [['M01.060.116'], ['D08.811.277.352.650.035'],...   \n",
              "2  [['G02.111.570.060', 'L01.453.245.667.060'], [...   \n",
              "\n",
              "                                            meshroot  A  B  C  D  E  F  G  H  \\\n",
              "0  ['Chemicals and Drugs [D]', 'Organisms [B]', '...  0  1  1  1  1  0  0  1   \n",
              "1  ['Named Groups [M]', 'Chemicals and Drugs [D]'...  0  1  1  1  1  1  1  0   \n",
              "2  ['Phenomena and Processes [G]', 'Information S...  1  1  0  1  1  0  1  0   \n",
              "\n",
              "   I  J  L  M  N  Z  \n",
              "0  0  0  0  0  0  0  \n",
              "1  1  1  0  1  1  1  \n",
              "2  0  0  1  0  0  0  "
            ]
          },
          "execution_count": 14,
          "metadata": {},
          "output_type": "execute_result"
        }
      ],
      "source": [
        "dataset_Name='/content/PubMed Multi Label Text Classification Dataset Processed.csv'\n",
        "\n",
        "df = pd.read_csv('/content/drive/MyDrive/Colab Notebooks/PubMed Multi Label Text Classification Dataset Processed.csv')\n",
        "\n",
        "df.head(3)"
      ]
    },
    {
      "cell_type": "code",
      "execution_count": null,
      "id": "ed219fb5",
      "metadata": {
        "colab": {
          "base_uri": "https://localhost:8080/"
        },
        "execution": {
          "iopub.execute_input": "2023-05-25T10:23:19.267932Z",
          "iopub.status.busy": "2023-05-25T10:23:19.267610Z",
          "iopub.status.idle": "2023-05-25T10:23:19.277437Z",
          "shell.execute_reply": "2023-05-25T10:23:19.276216Z"
        },
        "id": "ed219fb5",
        "outputId": "167d8f2f-262d-4350-9c64-4fba484eae41",
        "papermill": {
          "duration": 0.036453,
          "end_time": "2023-05-25T10:23:19.280751",
          "exception": false,
          "start_time": "2023-05-25T10:23:19.244298",
          "status": "completed"
        },
        "tags": []
      },
      "outputs": [
        {
          "name": "stdout",
          "output_type": "stream",
          "text": [
            "Total number of Articles extracted from Bioasq dataset are = 50000\n"
          ]
        }
      ],
      "source": [
        "print(\"Total number of Articles extracted from Bioasq dataset are =\",len(df))"
      ]
    },
    {
      "cell_type": "code",
      "execution_count": null,
      "id": "z3EX5vNU_LxS",
      "metadata": {
        "colab": {
          "base_uri": "https://localhost:8080/"
        },
        "id": "z3EX5vNU_LxS",
        "outputId": "4e6cacf5-6162-4860-98ba-13f9d7652273"
      },
      "outputs": [
        {
          "name": "stdout",
          "output_type": "stream",
          "text": [
            "Mounted at /content/drive\n"
          ]
        }
      ],
      "source": [
        "from google.colab import drive\n",
        "drive.mount('/content/drive')"
      ]
    },
    {
      "cell_type": "code",
      "execution_count": null,
      "id": "e50a1b05",
      "metadata": {
        "colab": {
          "base_uri": "https://localhost:8080/"
        },
        "execution": {
          "iopub.execute_input": "2023-05-25T10:23:19.321479Z",
          "iopub.status.busy": "2023-05-25T10:23:19.321173Z",
          "iopub.status.idle": "2023-05-25T10:23:22.305988Z",
          "shell.execute_reply": "2023-05-25T10:23:22.305055Z"
        },
        "id": "e50a1b05",
        "outputId": "5a7e4940-ab1e-4605-ecea-4656eb687ab8",
        "papermill": {
          "duration": 3.007081,
          "end_time": "2023-05-25T10:23:22.308413",
          "exception": false,
          "start_time": "2023-05-25T10:23:19.301332",
          "status": "completed"
        },
        "tags": []
      },
      "outputs": [
        {
          "name": "stdout",
          "output_type": "stream",
          "text": [
            "Average Article length:  192.05284\n",
            "Stdev Article length:  76.74764082329723\n"
          ]
        }
      ],
      "source": [
        "print('Average Article length: ', df.abstractText.str.split().str.len().mean())\n",
        "print('Stdev Article length: ', df.abstractText.str.split().str.len().std())"
      ]
    },
    {
      "cell_type": "code",
      "execution_count": null,
      "id": "l5waGSDJUhyt",
      "metadata": {
        "id": "l5waGSDJUhyt"
      },
      "outputs": [],
      "source": [
        "col= df.columns\n",
        "col = list(df.columns)\n",
        "combine = col[:2]\n",
        "df[\"Combined\"]= list(df[combine].values)"
      ]
    },
    {
      "cell_type": "code",
      "execution_count": null,
      "id": "RPLuZ-XpWXON",
      "metadata": {
        "colab": {
          "base_uri": "https://localhost:8080/",
          "height": 277
        },
        "id": "RPLuZ-XpWXON",
        "outputId": "9520b890-010e-48a4-c387-3cfc08303082"
      },
      "outputs": [
        {
          "data": {
            "text/html": [
              "\n",
              "  <div id=\"df-4f4f40be-d1bd-4d2a-bd65-ff497fb0d096\" class=\"colab-df-container\">\n",
              "    <div>\n",
              "<style scoped>\n",
              "    .dataframe tbody tr th:only-of-type {\n",
              "        vertical-align: middle;\n",
              "    }\n",
              "\n",
              "    .dataframe tbody tr th {\n",
              "        vertical-align: top;\n",
              "    }\n",
              "\n",
              "    .dataframe thead th {\n",
              "        text-align: right;\n",
              "    }\n",
              "</style>\n",
              "<table border=\"1\" class=\"dataframe\">\n",
              "  <thead>\n",
              "    <tr style=\"text-align: right;\">\n",
              "      <th></th>\n",
              "      <th>Title</th>\n",
              "      <th>abstractText</th>\n",
              "      <th>meshMajor</th>\n",
              "      <th>pmid</th>\n",
              "      <th>meshid</th>\n",
              "      <th>meshroot</th>\n",
              "      <th>A</th>\n",
              "      <th>B</th>\n",
              "      <th>C</th>\n",
              "      <th>D</th>\n",
              "      <th>...</th>\n",
              "      <th>F</th>\n",
              "      <th>G</th>\n",
              "      <th>H</th>\n",
              "      <th>I</th>\n",
              "      <th>J</th>\n",
              "      <th>L</th>\n",
              "      <th>M</th>\n",
              "      <th>N</th>\n",
              "      <th>Z</th>\n",
              "      <th>Combined</th>\n",
              "    </tr>\n",
              "  </thead>\n",
              "  <tbody>\n",
              "    <tr>\n",
              "      <th>0</th>\n",
              "      <td>Expression of p53 and coexistence of HPV in pr...</td>\n",
              "      <td>Fifty-four paraffin embedded tissue sections f...</td>\n",
              "      <td>['DNA Probes, HPV', 'DNA, Viral', 'Female', 'H...</td>\n",
              "      <td>8549602</td>\n",
              "      <td>[['D13.444.600.223.555', 'D27.505.259.750.600....</td>\n",
              "      <td>['Chemicals and Drugs [D]', 'Organisms [B]', '...</td>\n",
              "      <td>0</td>\n",
              "      <td>1</td>\n",
              "      <td>1</td>\n",
              "      <td>1</td>\n",
              "      <td>...</td>\n",
              "      <td>0</td>\n",
              "      <td>0</td>\n",
              "      <td>1</td>\n",
              "      <td>0</td>\n",
              "      <td>0</td>\n",
              "      <td>0</td>\n",
              "      <td>0</td>\n",
              "      <td>0</td>\n",
              "      <td>0</td>\n",
              "      <td>[Expression of p53 and coexistence of HPV in p...</td>\n",
              "    </tr>\n",
              "    <tr>\n",
              "      <th>1</th>\n",
              "      <td>Vitamin D status in pregnant Indian women acro...</td>\n",
              "      <td>The present cross-sectional study was conducte...</td>\n",
              "      <td>['Adult', 'Alkaline Phosphatase', 'Breast Feed...</td>\n",
              "      <td>21736816</td>\n",
              "      <td>[['M01.060.116'], ['D08.811.277.352.650.035'],...</td>\n",
              "      <td>['Named Groups [M]', 'Chemicals and Drugs [D]'...</td>\n",
              "      <td>0</td>\n",
              "      <td>1</td>\n",
              "      <td>1</td>\n",
              "      <td>1</td>\n",
              "      <td>...</td>\n",
              "      <td>1</td>\n",
              "      <td>1</td>\n",
              "      <td>0</td>\n",
              "      <td>1</td>\n",
              "      <td>1</td>\n",
              "      <td>0</td>\n",
              "      <td>1</td>\n",
              "      <td>1</td>\n",
              "      <td>1</td>\n",
              "      <td>[Vitamin D status in pregnant Indian women acr...</td>\n",
              "    </tr>\n",
              "    <tr>\n",
              "      <th>2</th>\n",
              "      <td>[Identification of a functionally important di...</td>\n",
              "      <td>The occurrence of individual amino acids and d...</td>\n",
              "      <td>['Amino Acid Sequence', 'Analgesics, Opioid', ...</td>\n",
              "      <td>19060934</td>\n",
              "      <td>[['G02.111.570.060', 'L01.453.245.667.060'], [...</td>\n",
              "      <td>['Phenomena and Processes [G]', 'Information S...</td>\n",
              "      <td>1</td>\n",
              "      <td>1</td>\n",
              "      <td>0</td>\n",
              "      <td>1</td>\n",
              "      <td>...</td>\n",
              "      <td>0</td>\n",
              "      <td>1</td>\n",
              "      <td>0</td>\n",
              "      <td>0</td>\n",
              "      <td>0</td>\n",
              "      <td>1</td>\n",
              "      <td>0</td>\n",
              "      <td>0</td>\n",
              "      <td>0</td>\n",
              "      <td>[[Identification of a functionally important d...</td>\n",
              "    </tr>\n",
              "  </tbody>\n",
              "</table>\n",
              "<p>3 rows × 21 columns</p>\n",
              "</div>\n",
              "    <div class=\"colab-df-buttons\">\n",
              "\n",
              "  <div class=\"colab-df-container\">\n",
              "    <button class=\"colab-df-convert\" onclick=\"convertToInteractive('df-4f4f40be-d1bd-4d2a-bd65-ff497fb0d096')\"\n",
              "            title=\"Convert this dataframe to an interactive table.\"\n",
              "            style=\"display:none;\">\n",
              "\n",
              "  <svg xmlns=\"http://www.w3.org/2000/svg\" height=\"24px\" viewBox=\"0 -960 960 960\">\n",
              "    <path d=\"M120-120v-720h720v720H120Zm60-500h600v-160H180v160Zm220 220h160v-160H400v160Zm0 220h160v-160H400v160ZM180-400h160v-160H180v160Zm440 0h160v-160H620v160ZM180-180h160v-160H180v160Zm440 0h160v-160H620v160Z\"/>\n",
              "  </svg>\n",
              "    </button>\n",
              "\n",
              "  <style>\n",
              "    .colab-df-container {\n",
              "      display:flex;\n",
              "      gap: 12px;\n",
              "    }\n",
              "\n",
              "    .colab-df-convert {\n",
              "      background-color: #E8F0FE;\n",
              "      border: none;\n",
              "      border-radius: 50%;\n",
              "      cursor: pointer;\n",
              "      display: none;\n",
              "      fill: #1967D2;\n",
              "      height: 32px;\n",
              "      padding: 0 0 0 0;\n",
              "      width: 32px;\n",
              "    }\n",
              "\n",
              "    .colab-df-convert:hover {\n",
              "      background-color: #E2EBFA;\n",
              "      box-shadow: 0px 1px 2px rgba(60, 64, 67, 0.3), 0px 1px 3px 1px rgba(60, 64, 67, 0.15);\n",
              "      fill: #174EA6;\n",
              "    }\n",
              "\n",
              "    .colab-df-buttons div {\n",
              "      margin-bottom: 4px;\n",
              "    }\n",
              "\n",
              "    [theme=dark] .colab-df-convert {\n",
              "      background-color: #3B4455;\n",
              "      fill: #D2E3FC;\n",
              "    }\n",
              "\n",
              "    [theme=dark] .colab-df-convert:hover {\n",
              "      background-color: #434B5C;\n",
              "      box-shadow: 0px 1px 3px 1px rgba(0, 0, 0, 0.15);\n",
              "      filter: drop-shadow(0px 1px 2px rgba(0, 0, 0, 0.3));\n",
              "      fill: #FFFFFF;\n",
              "    }\n",
              "  </style>\n",
              "\n",
              "    <script>\n",
              "      const buttonEl =\n",
              "        document.querySelector('#df-4f4f40be-d1bd-4d2a-bd65-ff497fb0d096 button.colab-df-convert');\n",
              "      buttonEl.style.display =\n",
              "        google.colab.kernel.accessAllowed ? 'block' : 'none';\n",
              "\n",
              "      async function convertToInteractive(key) {\n",
              "        const element = document.querySelector('#df-4f4f40be-d1bd-4d2a-bd65-ff497fb0d096');\n",
              "        const dataTable =\n",
              "          await google.colab.kernel.invokeFunction('convertToInteractive',\n",
              "                                                    [key], {});\n",
              "        if (!dataTable) return;\n",
              "\n",
              "        const docLinkHtml = 'Like what you see? Visit the ' +\n",
              "          '<a target=\"_blank\" href=https://colab.research.google.com/notebooks/data_table.ipynb>data table notebook</a>'\n",
              "          + ' to learn more about interactive tables.';\n",
              "        element.innerHTML = '';\n",
              "        dataTable['output_type'] = 'display_data';\n",
              "        await google.colab.output.renderOutput(dataTable, element);\n",
              "        const docLink = document.createElement('div');\n",
              "        docLink.innerHTML = docLinkHtml;\n",
              "        element.appendChild(docLink);\n",
              "      }\n",
              "    </script>\n",
              "  </div>\n",
              "\n",
              "\n",
              "<div id=\"df-c5c48470-adbc-4489-9420-c9047dd2cdc2\">\n",
              "  <button class=\"colab-df-quickchart\" onclick=\"quickchart('df-c5c48470-adbc-4489-9420-c9047dd2cdc2')\"\n",
              "            title=\"Suggest charts.\"\n",
              "            style=\"display:none;\">\n",
              "\n",
              "<svg xmlns=\"http://www.w3.org/2000/svg\" height=\"24px\"viewBox=\"0 0 24 24\"\n",
              "     width=\"24px\">\n",
              "    <g>\n",
              "        <path d=\"M19 3H5c-1.1 0-2 .9-2 2v14c0 1.1.9 2 2 2h14c1.1 0 2-.9 2-2V5c0-1.1-.9-2-2-2zM9 17H7v-7h2v7zm4 0h-2V7h2v10zm4 0h-2v-4h2v4z\"/>\n",
              "    </g>\n",
              "</svg>\n",
              "  </button>\n",
              "\n",
              "<style>\n",
              "  .colab-df-quickchart {\n",
              "      --bg-color: #E8F0FE;\n",
              "      --fill-color: #1967D2;\n",
              "      --hover-bg-color: #E2EBFA;\n",
              "      --hover-fill-color: #174EA6;\n",
              "      --disabled-fill-color: #AAA;\n",
              "      --disabled-bg-color: #DDD;\n",
              "  }\n",
              "\n",
              "  [theme=dark] .colab-df-quickchart {\n",
              "      --bg-color: #3B4455;\n",
              "      --fill-color: #D2E3FC;\n",
              "      --hover-bg-color: #434B5C;\n",
              "      --hover-fill-color: #FFFFFF;\n",
              "      --disabled-bg-color: #3B4455;\n",
              "      --disabled-fill-color: #666;\n",
              "  }\n",
              "\n",
              "  .colab-df-quickchart {\n",
              "    background-color: var(--bg-color);\n",
              "    border: none;\n",
              "    border-radius: 50%;\n",
              "    cursor: pointer;\n",
              "    display: none;\n",
              "    fill: var(--fill-color);\n",
              "    height: 32px;\n",
              "    padding: 0;\n",
              "    width: 32px;\n",
              "  }\n",
              "\n",
              "  .colab-df-quickchart:hover {\n",
              "    background-color: var(--hover-bg-color);\n",
              "    box-shadow: 0 1px 2px rgba(60, 64, 67, 0.3), 0 1px 3px 1px rgba(60, 64, 67, 0.15);\n",
              "    fill: var(--button-hover-fill-color);\n",
              "  }\n",
              "\n",
              "  .colab-df-quickchart-complete:disabled,\n",
              "  .colab-df-quickchart-complete:disabled:hover {\n",
              "    background-color: var(--disabled-bg-color);\n",
              "    fill: var(--disabled-fill-color);\n",
              "    box-shadow: none;\n",
              "  }\n",
              "\n",
              "  .colab-df-spinner {\n",
              "    border: 2px solid var(--fill-color);\n",
              "    border-color: transparent;\n",
              "    border-bottom-color: var(--fill-color);\n",
              "    animation:\n",
              "      spin 1s steps(1) infinite;\n",
              "  }\n",
              "\n",
              "  @keyframes spin {\n",
              "    0% {\n",
              "      border-color: transparent;\n",
              "      border-bottom-color: var(--fill-color);\n",
              "      border-left-color: var(--fill-color);\n",
              "    }\n",
              "    20% {\n",
              "      border-color: transparent;\n",
              "      border-left-color: var(--fill-color);\n",
              "      border-top-color: var(--fill-color);\n",
              "    }\n",
              "    30% {\n",
              "      border-color: transparent;\n",
              "      border-left-color: var(--fill-color);\n",
              "      border-top-color: var(--fill-color);\n",
              "      border-right-color: var(--fill-color);\n",
              "    }\n",
              "    40% {\n",
              "      border-color: transparent;\n",
              "      border-right-color: var(--fill-color);\n",
              "      border-top-color: var(--fill-color);\n",
              "    }\n",
              "    60% {\n",
              "      border-color: transparent;\n",
              "      border-right-color: var(--fill-color);\n",
              "    }\n",
              "    80% {\n",
              "      border-color: transparent;\n",
              "      border-right-color: var(--fill-color);\n",
              "      border-bottom-color: var(--fill-color);\n",
              "    }\n",
              "    90% {\n",
              "      border-color: transparent;\n",
              "      border-bottom-color: var(--fill-color);\n",
              "    }\n",
              "  }\n",
              "</style>\n",
              "\n",
              "  <script>\n",
              "    async function quickchart(key) {\n",
              "      const quickchartButtonEl =\n",
              "        document.querySelector('#' + key + ' button');\n",
              "      quickchartButtonEl.disabled = true;  // To prevent multiple clicks.\n",
              "      quickchartButtonEl.classList.add('colab-df-spinner');\n",
              "      try {\n",
              "        const charts = await google.colab.kernel.invokeFunction(\n",
              "            'suggestCharts', [key], {});\n",
              "      } catch (error) {\n",
              "        console.error('Error during call to suggestCharts:', error);\n",
              "      }\n",
              "      quickchartButtonEl.classList.remove('colab-df-spinner');\n",
              "      quickchartButtonEl.classList.add('colab-df-quickchart-complete');\n",
              "    }\n",
              "    (() => {\n",
              "      let quickchartButtonEl =\n",
              "        document.querySelector('#df-c5c48470-adbc-4489-9420-c9047dd2cdc2 button');\n",
              "      quickchartButtonEl.style.display =\n",
              "        google.colab.kernel.accessAllowed ? 'block' : 'none';\n",
              "    })();\n",
              "  </script>\n",
              "</div>\n",
              "    </div>\n",
              "  </div>\n"
            ],
            "text/plain": [
              "                                               Title  \\\n",
              "0  Expression of p53 and coexistence of HPV in pr...   \n",
              "1  Vitamin D status in pregnant Indian women acro...   \n",
              "2  [Identification of a functionally important di...   \n",
              "\n",
              "                                        abstractText  \\\n",
              "0  Fifty-four paraffin embedded tissue sections f...   \n",
              "1  The present cross-sectional study was conducte...   \n",
              "2  The occurrence of individual amino acids and d...   \n",
              "\n",
              "                                           meshMajor      pmid  \\\n",
              "0  ['DNA Probes, HPV', 'DNA, Viral', 'Female', 'H...   8549602   \n",
              "1  ['Adult', 'Alkaline Phosphatase', 'Breast Feed...  21736816   \n",
              "2  ['Amino Acid Sequence', 'Analgesics, Opioid', ...  19060934   \n",
              "\n",
              "                                              meshid  \\\n",
              "0  [['D13.444.600.223.555', 'D27.505.259.750.600....   \n",
              "1  [['M01.060.116'], ['D08.811.277.352.650.035'],...   \n",
              "2  [['G02.111.570.060', 'L01.453.245.667.060'], [...   \n",
              "\n",
              "                                            meshroot  A  B  C  D  ...  F  G  \\\n",
              "0  ['Chemicals and Drugs [D]', 'Organisms [B]', '...  0  1  1  1  ...  0  0   \n",
              "1  ['Named Groups [M]', 'Chemicals and Drugs [D]'...  0  1  1  1  ...  1  1   \n",
              "2  ['Phenomena and Processes [G]', 'Information S...  1  1  0  1  ...  0  1   \n",
              "\n",
              "   H  I  J  L  M  N  Z                                           Combined  \n",
              "0  1  0  0  0  0  0  0  [Expression of p53 and coexistence of HPV in p...  \n",
              "1  0  1  1  0  1  1  1  [Vitamin D status in pregnant Indian women acr...  \n",
              "2  0  0  0  1  0  0  0  [[Identification of a functionally important d...  \n",
              "\n",
              "[3 rows x 21 columns]"
            ]
          },
          "execution_count": 18,
          "metadata": {},
          "output_type": "execute_result"
        }
      ],
      "source": [
        "df.head(3)"
      ]
    },
    {
      "cell_type": "code",
      "execution_count": null,
      "id": "b9535f96",
      "metadata": {
        "colab": {
          "base_uri": "https://localhost:8080/"
        },
        "execution": {
          "iopub.execute_input": "2023-05-25T10:23:22.348814Z",
          "iopub.status.busy": "2023-05-25T10:23:22.347965Z",
          "iopub.status.idle": "2023-05-25T10:23:22.361210Z",
          "shell.execute_reply": "2023-05-25T10:23:22.360026Z"
        },
        "id": "b9535f96",
        "outputId": "0542c1a2-6c1a-4676-d7e9-7ac8202b9a0e",
        "papermill": {
          "duration": 0.036539,
          "end_time": "2023-05-25T10:23:22.364367",
          "exception": false,
          "start_time": "2023-05-25T10:23:22.327828",
          "status": "completed"
        },
        "tags": []
      },
      "outputs": [
        {
          "name": "stdout",
          "output_type": "stream",
          "text": [
            "Mesh Labels Root Class: \"\n",
            "\" ['A', 'B', 'C', 'D', 'E', 'F', 'G', 'H', 'I', 'J', 'L', 'M', 'N', 'Z']\n",
            "\n",
            "\n",
            "Number of Labels:  14\n"
          ]
        }
      ],
      "source": [
        "cols = df.columns\n",
        "cols = list(df.columns)\n",
        "mesh_Heading_categories = cols[6:20]\n",
        "num_labels = len(mesh_Heading_categories)\n",
        "print('Mesh Labels Root Class: \"\\n\"',mesh_Heading_categories)\n",
        "print(\"\\n\")\n",
        "print('Number of Labels: ' ,num_labels)\n"
      ]
    },
    {
      "cell_type": "code",
      "execution_count": null,
      "id": "eefb96b8",
      "metadata": {
        "colab": {
          "base_uri": "https://localhost:8080/",
          "height": 523
        },
        "execution": {
          "iopub.execute_input": "2023-05-25T10:23:22.443511Z",
          "iopub.status.busy": "2023-05-25T10:23:22.443204Z",
          "iopub.status.idle": "2023-05-25T10:23:22.461907Z",
          "shell.execute_reply": "2023-05-25T10:23:22.460930Z"
        },
        "id": "eefb96b8",
        "outputId": "5e1524d9-ce56-4f3d-8490-4c979f461ac8",
        "papermill": {
          "duration": 0.040963,
          "end_time": "2023-05-25T10:23:22.464028",
          "exception": false,
          "start_time": "2023-05-25T10:23:22.423065",
          "status": "completed"
        },
        "tags": []
      },
      "outputs": [
        {
          "name": "stdout",
          "output_type": "stream",
          "text": [
            "CPU times: user 2.65 ms, sys: 0 ns, total: 2.65 ms\n",
            "Wall time: 2.7 ms\n"
          ]
        },
        {
          "data": {
            "text/html": [
              "\n",
              "  <div id=\"df-d07a873e-e638-4244-851d-7f4b30056cd0\" class=\"colab-df-container\">\n",
              "    <div>\n",
              "<style scoped>\n",
              "    .dataframe tbody tr th:only-of-type {\n",
              "        vertical-align: middle;\n",
              "    }\n",
              "\n",
              "    .dataframe tbody tr th {\n",
              "        vertical-align: top;\n",
              "    }\n",
              "\n",
              "    .dataframe thead th {\n",
              "        text-align: right;\n",
              "    }\n",
              "</style>\n",
              "<table border=\"1\" class=\"dataframe\">\n",
              "  <thead>\n",
              "    <tr style=\"text-align: right;\">\n",
              "      <th></th>\n",
              "      <th>Root Label</th>\n",
              "      <th>number of Abstract</th>\n",
              "    </tr>\n",
              "  </thead>\n",
              "  <tbody>\n",
              "    <tr>\n",
              "      <th>0</th>\n",
              "      <td>A</td>\n",
              "      <td>23263</td>\n",
              "    </tr>\n",
              "    <tr>\n",
              "      <th>1</th>\n",
              "      <td>B</td>\n",
              "      <td>46577</td>\n",
              "    </tr>\n",
              "    <tr>\n",
              "      <th>2</th>\n",
              "      <td>C</td>\n",
              "      <td>26453</td>\n",
              "    </tr>\n",
              "    <tr>\n",
              "      <th>3</th>\n",
              "      <td>D</td>\n",
              "      <td>31074</td>\n",
              "    </tr>\n",
              "    <tr>\n",
              "      <th>4</th>\n",
              "      <td>E</td>\n",
              "      <td>39202</td>\n",
              "    </tr>\n",
              "    <tr>\n",
              "      <th>5</th>\n",
              "      <td>F</td>\n",
              "      <td>8885</td>\n",
              "    </tr>\n",
              "    <tr>\n",
              "      <th>6</th>\n",
              "      <td>G</td>\n",
              "      <td>33609</td>\n",
              "    </tr>\n",
              "    <tr>\n",
              "      <th>7</th>\n",
              "      <td>H</td>\n",
              "      <td>6069</td>\n",
              "    </tr>\n",
              "    <tr>\n",
              "      <th>8</th>\n",
              "      <td>I</td>\n",
              "      <td>5595</td>\n",
              "    </tr>\n",
              "    <tr>\n",
              "      <th>9</th>\n",
              "      <td>J</td>\n",
              "      <td>5531</td>\n",
              "    </tr>\n",
              "    <tr>\n",
              "      <th>10</th>\n",
              "      <td>L</td>\n",
              "      <td>7503</td>\n",
              "    </tr>\n",
              "    <tr>\n",
              "      <th>11</th>\n",
              "      <td>M</td>\n",
              "      <td>21363</td>\n",
              "    </tr>\n",
              "    <tr>\n",
              "      <th>12</th>\n",
              "      <td>N</td>\n",
              "      <td>22919</td>\n",
              "    </tr>\n",
              "    <tr>\n",
              "      <th>13</th>\n",
              "      <td>Z</td>\n",
              "      <td>8049</td>\n",
              "    </tr>\n",
              "  </tbody>\n",
              "</table>\n",
              "</div>\n",
              "    <div class=\"colab-df-buttons\">\n",
              "\n",
              "  <div class=\"colab-df-container\">\n",
              "    <button class=\"colab-df-convert\" onclick=\"convertToInteractive('df-d07a873e-e638-4244-851d-7f4b30056cd0')\"\n",
              "            title=\"Convert this dataframe to an interactive table.\"\n",
              "            style=\"display:none;\">\n",
              "\n",
              "  <svg xmlns=\"http://www.w3.org/2000/svg\" height=\"24px\" viewBox=\"0 -960 960 960\">\n",
              "    <path d=\"M120-120v-720h720v720H120Zm60-500h600v-160H180v160Zm220 220h160v-160H400v160Zm0 220h160v-160H400v160ZM180-400h160v-160H180v160Zm440 0h160v-160H620v160ZM180-180h160v-160H180v160Zm440 0h160v-160H620v160Z\"/>\n",
              "  </svg>\n",
              "    </button>\n",
              "\n",
              "  <style>\n",
              "    .colab-df-container {\n",
              "      display:flex;\n",
              "      gap: 12px;\n",
              "    }\n",
              "\n",
              "    .colab-df-convert {\n",
              "      background-color: #E8F0FE;\n",
              "      border: none;\n",
              "      border-radius: 50%;\n",
              "      cursor: pointer;\n",
              "      display: none;\n",
              "      fill: #1967D2;\n",
              "      height: 32px;\n",
              "      padding: 0 0 0 0;\n",
              "      width: 32px;\n",
              "    }\n",
              "\n",
              "    .colab-df-convert:hover {\n",
              "      background-color: #E2EBFA;\n",
              "      box-shadow: 0px 1px 2px rgba(60, 64, 67, 0.3), 0px 1px 3px 1px rgba(60, 64, 67, 0.15);\n",
              "      fill: #174EA6;\n",
              "    }\n",
              "\n",
              "    .colab-df-buttons div {\n",
              "      margin-bottom: 4px;\n",
              "    }\n",
              "\n",
              "    [theme=dark] .colab-df-convert {\n",
              "      background-color: #3B4455;\n",
              "      fill: #D2E3FC;\n",
              "    }\n",
              "\n",
              "    [theme=dark] .colab-df-convert:hover {\n",
              "      background-color: #434B5C;\n",
              "      box-shadow: 0px 1px 3px 1px rgba(0, 0, 0, 0.15);\n",
              "      filter: drop-shadow(0px 1px 2px rgba(0, 0, 0, 0.3));\n",
              "      fill: #FFFFFF;\n",
              "    }\n",
              "  </style>\n",
              "\n",
              "    <script>\n",
              "      const buttonEl =\n",
              "        document.querySelector('#df-d07a873e-e638-4244-851d-7f4b30056cd0 button.colab-df-convert');\n",
              "      buttonEl.style.display =\n",
              "        google.colab.kernel.accessAllowed ? 'block' : 'none';\n",
              "\n",
              "      async function convertToInteractive(key) {\n",
              "        const element = document.querySelector('#df-d07a873e-e638-4244-851d-7f4b30056cd0');\n",
              "        const dataTable =\n",
              "          await google.colab.kernel.invokeFunction('convertToInteractive',\n",
              "                                                    [key], {});\n",
              "        if (!dataTable) return;\n",
              "\n",
              "        const docLinkHtml = 'Like what you see? Visit the ' +\n",
              "          '<a target=\"_blank\" href=https://colab.research.google.com/notebooks/data_table.ipynb>data table notebook</a>'\n",
              "          + ' to learn more about interactive tables.';\n",
              "        element.innerHTML = '';\n",
              "        dataTable['output_type'] = 'display_data';\n",
              "        await google.colab.output.renderOutput(dataTable, element);\n",
              "        const docLink = document.createElement('div');\n",
              "        docLink.innerHTML = docLinkHtml;\n",
              "        element.appendChild(docLink);\n",
              "      }\n",
              "    </script>\n",
              "  </div>\n",
              "\n",
              "\n",
              "<div id=\"df-b7757f2b-1a7b-42ef-b0b6-0fa9675dd0e7\">\n",
              "  <button class=\"colab-df-quickchart\" onclick=\"quickchart('df-b7757f2b-1a7b-42ef-b0b6-0fa9675dd0e7')\"\n",
              "            title=\"Suggest charts.\"\n",
              "            style=\"display:none;\">\n",
              "\n",
              "<svg xmlns=\"http://www.w3.org/2000/svg\" height=\"24px\"viewBox=\"0 0 24 24\"\n",
              "     width=\"24px\">\n",
              "    <g>\n",
              "        <path d=\"M19 3H5c-1.1 0-2 .9-2 2v14c0 1.1.9 2 2 2h14c1.1 0 2-.9 2-2V5c0-1.1-.9-2-2-2zM9 17H7v-7h2v7zm4 0h-2V7h2v10zm4 0h-2v-4h2v4z\"/>\n",
              "    </g>\n",
              "</svg>\n",
              "  </button>\n",
              "\n",
              "<style>\n",
              "  .colab-df-quickchart {\n",
              "      --bg-color: #E8F0FE;\n",
              "      --fill-color: #1967D2;\n",
              "      --hover-bg-color: #E2EBFA;\n",
              "      --hover-fill-color: #174EA6;\n",
              "      --disabled-fill-color: #AAA;\n",
              "      --disabled-bg-color: #DDD;\n",
              "  }\n",
              "\n",
              "  [theme=dark] .colab-df-quickchart {\n",
              "      --bg-color: #3B4455;\n",
              "      --fill-color: #D2E3FC;\n",
              "      --hover-bg-color: #434B5C;\n",
              "      --hover-fill-color: #FFFFFF;\n",
              "      --disabled-bg-color: #3B4455;\n",
              "      --disabled-fill-color: #666;\n",
              "  }\n",
              "\n",
              "  .colab-df-quickchart {\n",
              "    background-color: var(--bg-color);\n",
              "    border: none;\n",
              "    border-radius: 50%;\n",
              "    cursor: pointer;\n",
              "    display: none;\n",
              "    fill: var(--fill-color);\n",
              "    height: 32px;\n",
              "    padding: 0;\n",
              "    width: 32px;\n",
              "  }\n",
              "\n",
              "  .colab-df-quickchart:hover {\n",
              "    background-color: var(--hover-bg-color);\n",
              "    box-shadow: 0 1px 2px rgba(60, 64, 67, 0.3), 0 1px 3px 1px rgba(60, 64, 67, 0.15);\n",
              "    fill: var(--button-hover-fill-color);\n",
              "  }\n",
              "\n",
              "  .colab-df-quickchart-complete:disabled,\n",
              "  .colab-df-quickchart-complete:disabled:hover {\n",
              "    background-color: var(--disabled-bg-color);\n",
              "    fill: var(--disabled-fill-color);\n",
              "    box-shadow: none;\n",
              "  }\n",
              "\n",
              "  .colab-df-spinner {\n",
              "    border: 2px solid var(--fill-color);\n",
              "    border-color: transparent;\n",
              "    border-bottom-color: var(--fill-color);\n",
              "    animation:\n",
              "      spin 1s steps(1) infinite;\n",
              "  }\n",
              "\n",
              "  @keyframes spin {\n",
              "    0% {\n",
              "      border-color: transparent;\n",
              "      border-bottom-color: var(--fill-color);\n",
              "      border-left-color: var(--fill-color);\n",
              "    }\n",
              "    20% {\n",
              "      border-color: transparent;\n",
              "      border-left-color: var(--fill-color);\n",
              "      border-top-color: var(--fill-color);\n",
              "    }\n",
              "    30% {\n",
              "      border-color: transparent;\n",
              "      border-left-color: var(--fill-color);\n",
              "      border-top-color: var(--fill-color);\n",
              "      border-right-color: var(--fill-color);\n",
              "    }\n",
              "    40% {\n",
              "      border-color: transparent;\n",
              "      border-right-color: var(--fill-color);\n",
              "      border-top-color: var(--fill-color);\n",
              "    }\n",
              "    60% {\n",
              "      border-color: transparent;\n",
              "      border-right-color: var(--fill-color);\n",
              "    }\n",
              "    80% {\n",
              "      border-color: transparent;\n",
              "      border-right-color: var(--fill-color);\n",
              "      border-bottom-color: var(--fill-color);\n",
              "    }\n",
              "    90% {\n",
              "      border-color: transparent;\n",
              "      border-bottom-color: var(--fill-color);\n",
              "    }\n",
              "  }\n",
              "</style>\n",
              "\n",
              "  <script>\n",
              "    async function quickchart(key) {\n",
              "      const quickchartButtonEl =\n",
              "        document.querySelector('#' + key + ' button');\n",
              "      quickchartButtonEl.disabled = true;  // To prevent multiple clicks.\n",
              "      quickchartButtonEl.classList.add('colab-df-spinner');\n",
              "      try {\n",
              "        const charts = await google.colab.kernel.invokeFunction(\n",
              "            'suggestCharts', [key], {});\n",
              "      } catch (error) {\n",
              "        console.error('Error during call to suggestCharts:', error);\n",
              "      }\n",
              "      quickchartButtonEl.classList.remove('colab-df-spinner');\n",
              "      quickchartButtonEl.classList.add('colab-df-quickchart-complete');\n",
              "    }\n",
              "    (() => {\n",
              "      let quickchartButtonEl =\n",
              "        document.querySelector('#df-b7757f2b-1a7b-42ef-b0b6-0fa9675dd0e7 button');\n",
              "      quickchartButtonEl.style.display =\n",
              "        google.colab.kernel.accessAllowed ? 'block' : 'none';\n",
              "    })();\n",
              "  </script>\n",
              "</div>\n",
              "    </div>\n",
              "  </div>\n"
            ],
            "text/plain": [
              "   Root Label  number of Abstract\n",
              "0           A               23263\n",
              "1           B               46577\n",
              "2           C               26453\n",
              "3           D               31074\n",
              "4           E               39202\n",
              "5           F                8885\n",
              "6           G               33609\n",
              "7           H                6069\n",
              "8           I                5595\n",
              "9           J                5531\n",
              "10          L                7503\n",
              "11          M               21363\n",
              "12          N               22919\n",
              "13          Z                8049"
            ]
          },
          "execution_count": 21,
          "metadata": {},
          "output_type": "execute_result"
        }
      ],
      "source": [
        "%%time\n",
        "\n",
        "counts = []\n",
        "for mesh_Heading_category in mesh_Heading_categories:\n",
        "    counts.append((mesh_Heading_category, df[mesh_Heading_category].sum()))\n",
        "df_count = pd.DataFrame(counts, columns=['Root Label', 'number of Abstract'])\n",
        "df_count"
      ]
    },
    {
      "cell_type": "code",
      "execution_count": null,
      "id": "1d4f6d4e",
      "metadata": {
        "colab": {
          "base_uri": "https://localhost:8080/",
          "height": 854
        },
        "execution": {
          "iopub.execute_input": "2023-05-25T10:23:22.504437Z",
          "iopub.status.busy": "2023-05-25T10:23:22.503529Z",
          "iopub.status.idle": "2023-05-25T10:23:23.189097Z",
          "shell.execute_reply": "2023-05-25T10:23:23.188081Z"
        },
        "id": "1d4f6d4e",
        "outputId": "43296dca-e7d9-4aa8-9952-03e1ea6963c6",
        "papermill": {
          "duration": 0.708295,
          "end_time": "2023-05-25T10:23:23.191745",
          "exception": false,
          "start_time": "2023-05-25T10:23:22.483450",
          "status": "completed"
        },
        "tags": []
      },
      "outputs": [
        {
          "data": {
            "image/png": "[encoded data removed]",
            "text/plain": [
              "<Figure size 1600x900 with 1 Axes>"
            ]
          },
          "metadata": {},
          "output_type": "display_data"
        },
        {
          "name": "stdout",
          "output_type": "stream",
          "text": [
            "CPU times: user 519 ms, sys: 33.4 ms, total: 553 ms\n",
            "Wall time: 1.14 s\n"
          ]
        }
      ],
      "source": [
        "%%time\n",
        "sns.set(font_scale=1)\n",
        "plt.figure(figsize=(16, 9))\n",
        "ax = sns.barplot(x=mesh_Heading_categories, y=df.iloc[:, 6:20].sum().values)  # Use 'x' and 'y' parameters\n",
        "plt.title(\"Each Root Class\", fontsize=22)\n",
        "plt.ylabel('Number of Articles', fontsize=18)\n",
        "plt.xlabel('Root Label', fontsize=18)\n",
        "\n",
        "# Adding the text labels\n",
        "rects = ax.patches\n",
        "labels = df.iloc[:, 6:20].sum().values\n",
        "for rect, label in zip(rects, labels):\n",
        "    height = rect.get_height()\n",
        "    ax.text(rect.get_x() + rect.get_width() / 2, height + 5, label, ha='center', va='bottom', fontsize=12)\n",
        "\n",
        "plt.show()\n"
      ]
    },
    {
      "cell_type": "code",
      "execution_count": null,
      "id": "2a4fef37",
      "metadata": {
        "colab": {
          "base_uri": "https://localhost:8080/"
        },
        "execution": {
          "iopub.execute_input": "2023-05-25T10:23:23.234622Z",
          "iopub.status.busy": "2023-05-25T10:23:23.233761Z",
          "iopub.status.idle": "2023-05-25T10:23:23.261417Z",
          "shell.execute_reply": "2023-05-25T10:23:23.260258Z"
        },
        "id": "2a4fef37",
        "outputId": "12eef42b-15d9-400b-f178-5e01e17d85ec",
        "papermill": {
          "duration": 0.051108,
          "end_time": "2023-05-25T10:23:23.263681",
          "exception": false,
          "start_time": "2023-05-25T10:23:23.212573",
          "status": "completed"
        },
        "tags": []
      },
      "outputs": [
        {
          "name": "stdout",
          "output_type": "stream",
          "text": [
            "(40000, 21)\n",
            "(10000, 21)\n"
          ]
        }
      ],
      "source": [
        "df_train, df_test = train_test_split(df, random_state=32, test_size=0.20, shuffle=True)\n",
        "\n",
        "print(df_train.shape)\n",
        "print(df_test.shape)\n",
        "del(df)"
      ]
    },
    {
      "cell_type": "code",
      "execution_count": null,
      "id": "d8744784",
      "metadata": {
        "colab": {
          "base_uri": "https://localhost:8080/",
          "height": 312
        },
        "execution": {
          "iopub.execute_input": "2023-05-25T10:23:23.310439Z",
          "iopub.status.busy": "2023-05-25T10:23:23.310100Z",
          "iopub.status.idle": "2023-05-25T10:23:23.354621Z",
          "shell.execute_reply": "2023-05-25T10:23:23.353706Z"
        },
        "id": "d8744784",
        "outputId": "b9dbf791-48d8-4c66-adeb-c8f3503f085b",
        "papermill": {
          "duration": 0.06913,
          "end_time": "2023-05-25T10:23:23.356825",
          "exception": false,
          "start_time": "2023-05-25T10:23:23.287695",
          "status": "completed"
        },
        "scrolled": true,
        "tags": []
      },
      "outputs": [
        {
          "data": {
            "text/html": [
              "\n",
              "  <div id=\"df-5022fb3c-6bdc-4f80-8242-e79204ecca3d\" class=\"colab-df-container\">\n",
              "    <div>\n",
              "<style scoped>\n",
              "    .dataframe tbody tr th:only-of-type {\n",
              "        vertical-align: middle;\n",
              "    }\n",
              "\n",
              "    .dataframe tbody tr th {\n",
              "        vertical-align: top;\n",
              "    }\n",
              "\n",
              "    .dataframe thead th {\n",
              "        text-align: right;\n",
              "    }\n",
              "</style>\n",
              "<table border=\"1\" class=\"dataframe\">\n",
              "  <thead>\n",
              "    <tr style=\"text-align: right;\">\n",
              "      <th></th>\n",
              "      <th>Title</th>\n",
              "      <th>abstractText</th>\n",
              "      <th>meshMajor</th>\n",
              "      <th>pmid</th>\n",
              "      <th>meshid</th>\n",
              "      <th>meshroot</th>\n",
              "      <th>A</th>\n",
              "      <th>B</th>\n",
              "      <th>C</th>\n",
              "      <th>D</th>\n",
              "      <th>...</th>\n",
              "      <th>G</th>\n",
              "      <th>H</th>\n",
              "      <th>I</th>\n",
              "      <th>J</th>\n",
              "      <th>L</th>\n",
              "      <th>M</th>\n",
              "      <th>N</th>\n",
              "      <th>Z</th>\n",
              "      <th>Combined</th>\n",
              "      <th>one_hot_labels</th>\n",
              "    </tr>\n",
              "  </thead>\n",
              "  <tbody>\n",
              "    <tr>\n",
              "      <th>31112</th>\n",
              "      <td>Neurofibromatosis associated with a coronary a...</td>\n",
              "      <td>A case of a patient with type 1 neurofibromato...</td>\n",
              "      <td>['Aged', 'Coronary Aneurysm', 'Humans', 'Male'...</td>\n",
              "      <td>11144803</td>\n",
              "      <td>[['M01.060.116.100'], ['C14.280.647.250.250', ...</td>\n",
              "      <td>['Named Groups [M]', 'Diseases [C]', 'Organism...</td>\n",
              "      <td>0</td>\n",
              "      <td>1</td>\n",
              "      <td>1</td>\n",
              "      <td>0</td>\n",
              "      <td>...</td>\n",
              "      <td>0</td>\n",
              "      <td>0</td>\n",
              "      <td>0</td>\n",
              "      <td>0</td>\n",
              "      <td>0</td>\n",
              "      <td>1</td>\n",
              "      <td>0</td>\n",
              "      <td>0</td>\n",
              "      <td>[Neurofibromatosis associated with a coronary ...</td>\n",
              "      <td>[0, 1, 1, 0, 1, 0, 0, 0, 0, 0, 0, 1, 0, 0]</td>\n",
              "    </tr>\n",
              "    <tr>\n",
              "      <th>48911</th>\n",
              "      <td>Phenolic constituents from Perovskia atriplici...</td>\n",
              "      <td>Perovskoate, an isorinic acid derivative (1) a...</td>\n",
              "      <td>['Caffeic Acids', 'Catechols', 'Cholinesterase...</td>\n",
              "      <td>16644529</td>\n",
              "      <td>[['D02.241.223.200.054'], ['D02.455.426.559.38...</td>\n",
              "      <td>['Chemicals and Drugs [D]', 'Analytical, Diagn...</td>\n",
              "      <td>0</td>\n",
              "      <td>1</td>\n",
              "      <td>0</td>\n",
              "      <td>1</td>\n",
              "      <td>...</td>\n",
              "      <td>1</td>\n",
              "      <td>0</td>\n",
              "      <td>0</td>\n",
              "      <td>0</td>\n",
              "      <td>0</td>\n",
              "      <td>0</td>\n",
              "      <td>0</td>\n",
              "      <td>0</td>\n",
              "      <td>[Phenolic constituents from Perovskia atriplic...</td>\n",
              "      <td>[0, 1, 0, 1, 1, 0, 1, 0, 0, 0, 0, 0, 0, 0]</td>\n",
              "    </tr>\n",
              "    <tr>\n",
              "      <th>16394</th>\n",
              "      <td>Motion artifact and background noise suppressi...</td>\n",
              "      <td>Optical coherence tomography (OCT) is a techni...</td>\n",
              "      <td>['Algorithms', 'Angiography', 'Artifacts', 'Ar...</td>\n",
              "      <td>25089975</td>\n",
              "      <td>[['G17.035', 'L01.224.050'], ['E01.370.350.700...</td>\n",
              "      <td>['Phenomena and Processes [G]', 'Information S...</td>\n",
              "      <td>0</td>\n",
              "      <td>0</td>\n",
              "      <td>0</td>\n",
              "      <td>0</td>\n",
              "      <td>...</td>\n",
              "      <td>1</td>\n",
              "      <td>0</td>\n",
              "      <td>0</td>\n",
              "      <td>0</td>\n",
              "      <td>1</td>\n",
              "      <td>0</td>\n",
              "      <td>1</td>\n",
              "      <td>0</td>\n",
              "      <td>[Motion artifact and background noise suppress...</td>\n",
              "      <td>[0, 0, 0, 0, 1, 0, 1, 0, 0, 0, 1, 0, 1, 0]</td>\n",
              "    </tr>\n",
              "  </tbody>\n",
              "</table>\n",
              "<p>3 rows × 22 columns</p>\n",
              "</div>\n",
              "    <div class=\"colab-df-buttons\">\n",
              "\n",
              "  <div class=\"colab-df-container\">\n",
              "    <button class=\"colab-df-convert\" onclick=\"convertToInteractive('df-5022fb3c-6bdc-4f80-8242-e79204ecca3d')\"\n",
              "            title=\"Convert this dataframe to an interactive table.\"\n",
              "            style=\"display:none;\">\n",
              "\n",
              "  <svg xmlns=\"http://www.w3.org/2000/svg\" height=\"24px\" viewBox=\"0 -960 960 960\">\n",
              "    <path d=\"M120-120v-720h720v720H120Zm60-500h600v-160H180v160Zm220 220h160v-160H400v160Zm0 220h160v-160H400v160ZM180-400h160v-160H180v160Zm440 0h160v-160H620v160ZM180-180h160v-160H180v160Zm440 0h160v-160H620v160Z\"/>\n",
              "  </svg>\n",
              "    </button>\n",
              "\n",
              "  <style>\n",
              "    .colab-df-container {\n",
              "      display:flex;\n",
              "      gap: 12px;\n",
              "    }\n",
              "\n",
              "    .colab-df-convert {\n",
              "      background-color: #E8F0FE;\n",
              "      border: none;\n",
              "      border-radius: 50%;\n",
              "      cursor: pointer;\n",
              "      display: none;\n",
              "      fill: #1967D2;\n",
              "      height: 32px;\n",
              "      padding: 0 0 0 0;\n",
              "      width: 32px;\n",
              "    }\n",
              "\n",
              "    .colab-df-convert:hover {\n",
              "      background-color: #E2EBFA;\n",
              "      box-shadow: 0px 1px 2px rgba(60, 64, 67, 0.3), 0px 1px 3px 1px rgba(60, 64, 67, 0.15);\n",
              "      fill: #174EA6;\n",
              "    }\n",
              "\n",
              "    .colab-df-buttons div {\n",
              "      margin-bottom: 4px;\n",
              "    }\n",
              "\n",
              "    [theme=dark] .colab-df-convert {\n",
              "      background-color: #3B4455;\n",
              "      fill: #D2E3FC;\n",
              "    }\n",
              "\n",
              "    [theme=dark] .colab-df-convert:hover {\n",
              "      background-color: #434B5C;\n",
              "      box-shadow: 0px 1px 3px 1px rgba(0, 0, 0, 0.15);\n",
              "      filter: drop-shadow(0px 1px 2px rgba(0, 0, 0, 0.3));\n",
              "      fill: #FFFFFF;\n",
              "    }\n",
              "  </style>\n",
              "\n",
              "    <script>\n",
              "      const buttonEl =\n",
              "        document.querySelector('#df-5022fb3c-6bdc-4f80-8242-e79204ecca3d button.colab-df-convert');\n",
              "      buttonEl.style.display =\n",
              "        google.colab.kernel.accessAllowed ? 'block' : 'none';\n",
              "\n",
              "      async function convertToInteractive(key) {\n",
              "        const element = document.querySelector('#df-5022fb3c-6bdc-4f80-8242-e79204ecca3d');\n",
              "        const dataTable =\n",
              "          await google.colab.kernel.invokeFunction('convertToInteractive',\n",
              "                                                    [key], {});\n",
              "        if (!dataTable) return;\n",
              "\n",
              "        const docLinkHtml = 'Like what you see? Visit the ' +\n",
              "          '<a target=\"_blank\" href=https://colab.research.google.com/notebooks/data_table.ipynb>data table notebook</a>'\n",
              "          + ' to learn more about interactive tables.';\n",
              "        element.innerHTML = '';\n",
              "        dataTable['output_type'] = 'display_data';\n",
              "        await google.colab.output.renderOutput(dataTable, element);\n",
              "        const docLink = document.createElement('div');\n",
              "        docLink.innerHTML = docLinkHtml;\n",
              "        element.appendChild(docLink);\n",
              "      }\n",
              "    </script>\n",
              "  </div>\n",
              "\n",
              "\n",
              "<div id=\"df-fedefb5a-10f8-4a1e-b5cc-d5e459842389\">\n",
              "  <button class=\"colab-df-quickchart\" onclick=\"quickchart('df-fedefb5a-10f8-4a1e-b5cc-d5e459842389')\"\n",
              "            title=\"Suggest charts.\"\n",
              "            style=\"display:none;\">\n",
              "\n",
              "<svg xmlns=\"http://www.w3.org/2000/svg\" height=\"24px\"viewBox=\"0 0 24 24\"\n",
              "     width=\"24px\">\n",
              "    <g>\n",
              "        <path d=\"M19 3H5c-1.1 0-2 .9-2 2v14c0 1.1.9 2 2 2h14c1.1 0 2-.9 2-2V5c0-1.1-.9-2-2-2zM9 17H7v-7h2v7zm4 0h-2V7h2v10zm4 0h-2v-4h2v4z\"/>\n",
              "    </g>\n",
              "</svg>\n",
              "  </button>\n",
              "\n",
              "<style>\n",
              "  .colab-df-quickchart {\n",
              "      --bg-color: #E8F0FE;\n",
              "      --fill-color: #1967D2;\n",
              "      --hover-bg-color: #E2EBFA;\n",
              "      --hover-fill-color: #174EA6;\n",
              "      --disabled-fill-color: #AAA;\n",
              "      --disabled-bg-color: #DDD;\n",
              "  }\n",
              "\n",
              "  [theme=dark] .colab-df-quickchart {\n",
              "      --bg-color: #3B4455;\n",
              "      --fill-color: #D2E3FC;\n",
              "      --hover-bg-color: #434B5C;\n",
              "      --hover-fill-color: #FFFFFF;\n",
              "      --disabled-bg-color: #3B4455;\n",
              "      --disabled-fill-color: #666;\n",
              "  }\n",
              "\n",
              "  .colab-df-quickchart {\n",
              "    background-color: var(--bg-color);\n",
              "    border: none;\n",
              "    border-radius: 50%;\n",
              "    cursor: pointer;\n",
              "    display: none;\n",
              "    fill: var(--fill-color);\n",
              "    height: 32px;\n",
              "    padding: 0;\n",
              "    width: 32px;\n",
              "  }\n",
              "\n",
              "  .colab-df-quickchart:hover {\n",
              "    background-color: var(--hover-bg-color);\n",
              "    box-shadow: 0 1px 2px rgba(60, 64, 67, 0.3), 0 1px 3px 1px rgba(60, 64, 67, 0.15);\n",
              "    fill: var(--button-hover-fill-color);\n",
              "  }\n",
              "\n",
              "  .colab-df-quickchart-complete:disabled,\n",
              "  .colab-df-quickchart-complete:disabled:hover {\n",
              "    background-color: var(--disabled-bg-color);\n",
              "    fill: var(--disabled-fill-color);\n",
              "    box-shadow: none;\n",
              "  }\n",
              "\n",
              "  .colab-df-spinner {\n",
              "    border: 2px solid var(--fill-color);\n",
              "    border-color: transparent;\n",
              "    border-bottom-color: var(--fill-color);\n",
              "    animation:\n",
              "      spin 1s steps(1) infinite;\n",
              "  }\n",
              "\n",
              "  @keyframes spin {\n",
              "    0% {\n",
              "      border-color: transparent;\n",
              "      border-bottom-color: var(--fill-color);\n",
              "      border-left-color: var(--fill-color);\n",
              "    }\n",
              "    20% {\n",
              "      border-color: transparent;\n",
              "      border-left-color: var(--fill-color);\n",
              "      border-top-color: var(--fill-color);\n",
              "    }\n",
              "    30% {\n",
              "      border-color: transparent;\n",
              "      border-left-color: var(--fill-color);\n",
              "      border-top-color: var(--fill-color);\n",
              "      border-right-color: var(--fill-color);\n",
              "    }\n",
              "    40% {\n",
              "      border-color: transparent;\n",
              "      border-right-color: var(--fill-color);\n",
              "      border-top-color: var(--fill-color);\n",
              "    }\n",
              "    60% {\n",
              "      border-color: transparent;\n",
              "      border-right-color: var(--fill-color);\n",
              "    }\n",
              "    80% {\n",
              "      border-color: transparent;\n",
              "      border-right-color: var(--fill-color);\n",
              "      border-bottom-color: var(--fill-color);\n",
              "    }\n",
              "    90% {\n",
              "      border-color: transparent;\n",
              "      border-bottom-color: var(--fill-color);\n",
              "    }\n",
              "  }\n",
              "</style>\n",
              "\n",
              "  <script>\n",
              "    async function quickchart(key) {\n",
              "      const quickchartButtonEl =\n",
              "        document.querySelector('#' + key + ' button');\n",
              "      quickchartButtonEl.disabled = true;  // To prevent multiple clicks.\n",
              "      quickchartButtonEl.classList.add('colab-df-spinner');\n",
              "      try {\n",
              "        const charts = await google.colab.kernel.invokeFunction(\n",
              "            'suggestCharts', [key], {});\n",
              "      } catch (error) {\n",
              "        console.error('Error during call to suggestCharts:', error);\n",
              "      }\n",
              "      quickchartButtonEl.classList.remove('colab-df-spinner');\n",
              "      quickchartButtonEl.classList.add('colab-df-quickchart-complete');\n",
              "    }\n",
              "    (() => {\n",
              "      let quickchartButtonEl =\n",
              "        document.querySelector('#df-fedefb5a-10f8-4a1e-b5cc-d5e459842389 button');\n",
              "      quickchartButtonEl.style.display =\n",
              "        google.colab.kernel.accessAllowed ? 'block' : 'none';\n",
              "    })();\n",
              "  </script>\n",
              "</div>\n",
              "    </div>\n",
              "  </div>\n"
            ],
            "text/plain": [
              "                                                   Title  \\\n",
              "31112  Neurofibromatosis associated with a coronary a...   \n",
              "48911  Phenolic constituents from Perovskia atriplici...   \n",
              "16394  Motion artifact and background noise suppressi...   \n",
              "\n",
              "                                            abstractText  \\\n",
              "31112  A case of a patient with type 1 neurofibromato...   \n",
              "48911  Perovskoate, an isorinic acid derivative (1) a...   \n",
              "16394  Optical coherence tomography (OCT) is a techni...   \n",
              "\n",
              "                                               meshMajor      pmid  \\\n",
              "31112  ['Aged', 'Coronary Aneurysm', 'Humans', 'Male'...  11144803   \n",
              "48911  ['Caffeic Acids', 'Catechols', 'Cholinesterase...  16644529   \n",
              "16394  ['Algorithms', 'Angiography', 'Artifacts', 'Ar...  25089975   \n",
              "\n",
              "                                                  meshid  \\\n",
              "31112  [['M01.060.116.100'], ['C14.280.647.250.250', ...   \n",
              "48911  [['D02.241.223.200.054'], ['D02.455.426.559.38...   \n",
              "16394  [['G17.035', 'L01.224.050'], ['E01.370.350.700...   \n",
              "\n",
              "                                                meshroot  A  B  C  D  ...  G  \\\n",
              "31112  ['Named Groups [M]', 'Diseases [C]', 'Organism...  0  1  1  0  ...  0   \n",
              "48911  ['Chemicals and Drugs [D]', 'Analytical, Diagn...  0  1  0  1  ...  1   \n",
              "16394  ['Phenomena and Processes [G]', 'Information S...  0  0  0  0  ...  1   \n",
              "\n",
              "       H  I  J  L  M  N  Z                                           Combined  \\\n",
              "31112  0  0  0  0  1  0  0  [Neurofibromatosis associated with a coronary ...   \n",
              "48911  0  0  0  0  0  0  0  [Phenolic constituents from Perovskia atriplic...   \n",
              "16394  0  0  0  1  0  1  0  [Motion artifact and background noise suppress...   \n",
              "\n",
              "                                   one_hot_labels  \n",
              "31112  [0, 1, 1, 0, 1, 0, 0, 0, 0, 0, 0, 1, 0, 0]  \n",
              "48911  [0, 1, 0, 1, 1, 0, 1, 0, 0, 0, 0, 0, 0, 0]  \n",
              "16394  [0, 0, 0, 0, 1, 0, 1, 0, 0, 0, 1, 0, 1, 0]  \n",
              "\n",
              "[3 rows x 22 columns]"
            ]
          },
          "execution_count": 25,
          "metadata": {},
          "output_type": "execute_result"
        }
      ],
      "source": [
        "df_train['one_hot_labels'] = list(df_train[mesh_Heading_categories].values)\n",
        "df_train.head(3)"
      ]
    },
    {
      "cell_type": "code",
      "execution_count": null,
      "id": "7a874880",
      "metadata": {
        "execution": {
          "iopub.execute_input": "2023-05-25T10:23:23.400143Z",
          "iopub.status.busy": "2023-05-25T10:23:23.399298Z",
          "iopub.status.idle": "2023-05-25T10:23:23.411154Z",
          "shell.execute_reply": "2023-05-25T10:23:23.410234Z"
        },
        "id": "7a874880",
        "papermill": {
          "duration": 0.035246,
          "end_time": "2023-05-25T10:23:23.413207",
          "exception": false,
          "start_time": "2023-05-25T10:23:23.377961",
          "status": "completed"
        },
        "tags": []
      },
      "outputs": [],
      "source": [
        "\n",
        "labels = list(df_train.one_hot_labels.values)\n",
        "Article_train = list(df_train.Combined.values)"
      ]
    },
    {
      "cell_type": "markdown",
      "id": "d7ab6610",
      "metadata": {
        "id": "d7ab6610",
        "papermill": {
          "duration": 0.023221,
          "end_time": "2023-05-25T10:23:23.460101",
          "exception": false,
          "start_time": "2023-05-25T10:23:23.436880",
          "status": "completed"
        },
        "tags": []
      },
      "source": [
        "<a id=\"4\"></a>\n",
        "## <p style=\"background-color:#1a0a36;font-family:newtimeroman;color:#FFF9ED;font-size:150%;text-align:center;border-radius:10px 10px;\"> Tokenizations</p>\n",
        "#### [Top ↑](#top)"
      ]
    },
    {
      "cell_type": "code",
      "execution_count": null,
      "id": "c7f98b82",
      "metadata": {
        "colab": {
          "base_uri": "https://localhost:8080/",
          "height": 133,
          "referenced_widgets": [
            "97ca4fd93ea945aabaaaa632753cd5a9",
            "463ae3e95b694f61892a68d73efc971c",
            "e3660e794a1c4698b5b969b342a49b3c",
            "6a7ef71c4ece4bca8c416c7eac1563f4",
            "42aaedb0fc90481bbac3f63920de592e",
            "2b53643ee3384dbca04e12724e9fabba",
            "52c9a02c1add44438d2ece7e276cffd3",
            "642ff23f52d2407c93eeeb1edf4aae52",
            "a62dc43f5b11406f8424ba771e4bde77",
            "24d6053c76d248979c1ab1d1b157442b",
            "f529e2bd9b6b439da030df6f8a81f8e5",
            "7e165a628c4245ea93a7e83956cb1c8e",
            "20426479d5a14f4d92a79a674b769143",
            "cb5c0757e440403e937d5a47159b3d50",
            "e079d077e969488e81cad08718eb239c",
            "95fdcb7824344c539b378c174e512667",
            "a3a85e1f72b8410ea80e85fb601a410b",
            "2d4005307ae74bb4ad30ad54be376d47",
            "847f6b0794ac43868173c8a9ddc1b604",
            "82e01dd3357e44a081bacbcd7c1184a6",
            "f38f1dedbe8e4e1ea190da8ded1ae468",
            "bca21487c96f4821ab6c444d982ec776"
          ]
        },
        "execution": {
          "iopub.execute_input": "2023-05-25T10:23:23.505172Z",
          "iopub.status.busy": "2023-05-25T10:23:23.504815Z",
          "iopub.status.idle": "2023-05-25T10:29:56.537148Z",
          "shell.execute_reply": "2023-05-25T10:29:56.536049Z"
        },
        "id": "c7f98b82",
        "outputId": "34163b4b-2793-4688-e35d-cd5865f5628a",
        "papermill": {
          "duration": 393.068679,
          "end_time": "2023-05-25T10:29:56.549714",
          "exception": false,
          "start_time": "2023-05-25T10:23:23.481035",
          "status": "completed"
        },
        "tags": []
      },
      "outputs": [
        {
          "data": {
            "application/vnd.jupyter.widget-view+json": {
              "model_id": "97ca4fd93ea945aabaaaa632753cd5a9",
              "version_major": 2,
              "version_minor": 0
            },
            "text/plain": [
              "Downloading (…)solve/main/vocab.txt:   0%|          | 0.00/213k [00:00<?, ?B/s]"
            ]
          },
          "metadata": {},
          "output_type": "display_data"
        },
        {
          "data": {
            "application/vnd.jupyter.widget-view+json": {
              "model_id": "7e165a628c4245ea93a7e83956cb1c8e",
              "version_major": 2,
              "version_minor": 0
            },
            "text/plain": [
              "Downloading (…)lve/main/config.json:   0%|          | 0.00/1.11k [00:00<?, ?B/s]"
            ]
          },
          "metadata": {},
          "output_type": "display_data"
        },
        {
          "name": "stdout",
          "output_type": "stream",
          "text": [
            "tokenizer outputs:  dict_keys(['input_ids', 'token_type_ids', 'attention_mask'])\n",
            "CPU times: user 4min 20s, sys: 889 ms, total: 4min 21s\n",
            "Wall time: 4min 30s\n"
          ]
        }
      ],
      "source": [
        "%%time\n",
        "Article_train = df_train[\"Combined\"].astype(str).tolist()\n",
        "max_length = 128\n",
        "#tokenizer = RobertaTokenizer.from_pretrained('distilroberta-base', do_lower_case=False)  # tokenizer\n",
        "tokenizer = BertTokenizer.from_pretrained('dmis-lab/biobert-base-cased-v1.2', do_lower_case=True)\n",
        "#tokenizer = XLNetTokenizer.from_pretrained('xlnet-base-cased', do_lower_case=False)\n",
        "\n",
        "encodings = tokenizer.batch_encode_plus(Article_train,max_length=max_length,padding=True,truncation=True) # tokenizer's encoding method\n",
        "print('tokenizer outputs: ', encodings.keys())\n",
        "\n",
        "input_ids = encodings['input_ids'] # tokenized and encoded sentences\n",
        "attention_masks = encodings['attention_mask'] # attention masks"
      ]
    },
    {
      "cell_type": "code",
      "execution_count": null,
      "id": "0d3a9f32",
      "metadata": {
        "colab": {
          "base_uri": "https://localhost:8080/"
        },
        "execution": {
          "iopub.execute_input": "2023-05-25T10:29:56.598961Z",
          "iopub.status.busy": "2023-05-25T10:29:56.598594Z",
          "iopub.status.idle": "2023-05-25T10:30:02.686263Z",
          "shell.execute_reply": "2023-05-25T10:30:02.685220Z"
        },
        "id": "0d3a9f32",
        "outputId": "823aaba9-b1b0-4324-be25-fcbb3918ddd1",
        "papermill": {
          "duration": 6.117989,
          "end_time": "2023-05-25T10:30:02.688763",
          "exception": false,
          "start_time": "2023-05-25T10:29:56.570774",
          "status": "completed"
        },
        "tags": []
      },
      "outputs": [
        {
          "name": "stdout",
          "output_type": "stream",
          "text": [
            "df label indices with only one instance:  [49950, 49878, 49876, 49838, 49759, 49739, 49696, 49590, 49585, 49574, 49546, 49535, 49528, 49487, 49470, 49419, 49404, 49395, 49314, 49245, 49150, 49080, 49071, 49058, 49004, 48991, 48982, 48922, 48919, 48757, 48708, 48686, 48679, 48677, 48602, 48594, 48583, 48531, 48454, 48438, 48411, 48388, 48375, 48350, 48337, 48298, 48213, 48185, 48123, 48085, 48075, 48056, 48020, 48001, 47876, 47840, 47828, 47817, 47776, 47671, 47495, 47435, 47369, 47363, 47362, 47359, 47356, 47321, 47293, 47244, 47239, 47159, 47104, 47089, 47061, 47050, 47002, 46955, 46887, 46874, 46837, 46747, 46706, 46651, 46635, 46598, 46446, 46365, 46247, 46223, 46199, 46170, 46033, 46028, 45955, 45946, 45756, 45755, 45712, 45682, 45671, 45573, 45509, 45430, 45391, 45317, 45294, 45226, 45216, 45190, 45134, 45132, 45105, 45052, 45035, 45025, 44971, 44953, 44867, 44851, 44827, 44777, 44763, 44625, 44606, 44598, 44586, 44579, 44574, 44568, 44499, 44479, 44462, 44296, 44206, 44181, 44116, 44105, 44100, 44090, 43970, 43957, 43831, 43792, 43736, 43721, 43684, 43623, 43574, 43553, 43350, 43307, 43287, 43281, 43220, 43198, 43162, 43156, 43136, 43106, 43091, 43053, 42943, 42845, 42831, 42720, 42703, 42661, 42625, 42600, 42561, 42454, 42381, 42370, 42364, 42287, 42048, 42044, 42010, 41953, 41896, 41881, 41814, 41813, 41737, 41671, 41579, 41466, 41413, 41364, 41283, 41248, 41188, 41180, 41145, 41046, 40974, 40905, 40841, 40826, 40820, 40744, 40732, 40715, 40673, 40666, 40609, 40556, 40548, 40533, 40529, 40446, 40417, 40408, 40367, 40363, 40234, 40217, 40204, 40129, 40127, 40034, 39998, 39997, 39964, 39960, 39908, 39890, 39860, 39827, 39813, 39796, 39775, 39769, 39752, 39743, 39729, 39717, 39695, 39682, 39627, 39588, 39568, 39556, 39550, 39540, 39495, 39375, 39200, 39145, 39097, 39072, 39038, 39000, 38997, 38976, 38874, 38832, 38809, 38751, 38705, 38670, 38659, 38648, 38644, 38609, 38522, 38437, 38418, 38414, 38313, 38287, 38246, 38215, 38207, 38144, 38130, 38125, 38064, 37954, 37921, 37798, 37758, 37709, 37704, 37703, 37686, 37670, 37536, 37532, 37531, 37448, 37438, 37432, 37382, 37333, 37198, 37083, 37074, 36980, 36971, 36921, 36828, 36803, 36762, 36754, 36746, 36679, 36660, 36641, 36639, 36578, 36512, 36483, 36442, 36400, 36367, 36323, 36310, 36304, 36281, 36240, 36239, 36233, 36215, 36202, 36197, 36189, 36186, 36107, 36103, 36068, 36024, 35962, 35833, 35832, 35781, 35738, 35697, 35617, 35565, 35564, 35555, 35488, 35460, 35411, 35409, 35330, 35281, 35242, 35211, 35164, 35112, 35067, 35043, 34978, 34965, 34910, 34868, 34863, 34859, 34823, 34802, 34731, 34669, 34668, 34636, 34598, 34560, 34549, 34465, 34450, 34377, 34164, 34141, 34107, 33979, 33959, 33854, 33812, 33673, 33639, 33473, 33465, 33390, 33322, 33261, 33257, 33226, 33214, 33087, 33015, 32975, 32962, 32960, 32943, 32917, 32863, 32848, 32846, 32820, 32778, 32771, 32759, 32525, 32461, 32241, 32217, 32166, 32144, 32135, 32010, 31904, 31899, 31873, 31860, 31833, 31827, 31751, 31732, 31695, 31663, 31654, 31584, 31504, 31497, 31465, 31426, 31357, 31335, 31298, 31288, 31177, 31150, 31116, 31071, 30949, 30858, 30847, 30807, 30699, 30645, 30599, 30585, 30578, 30431, 30370, 30355, 30347, 30306, 30296, 30262, 30174, 30080, 30067, 30052, 30018, 29945, 29906, 29859, 29820, 29770, 29756, 29752, 29743, 29713, 29710, 29495, 29402, 29363, 29356, 29346, 29289, 29276, 29265, 29263, 29048, 29029, 28993, 28965, 28881, 28879, 28817, 28776, 28753, 28673, 28646, 28638, 28574, 28562, 28537, 28435, 28396, 28381, 28332, 28268, 28265, 28217, 28134, 28123, 28109, 28087, 27953, 27917, 27899, 27881, 27862, 27853, 27810, 27750, 27716, 27687, 27659, 27639, 27608, 27575, 27559, 27399, 27383, 27348, 27267, 27242, 27136, 27047, 26998, 26986, 26883, 26868, 26860, 26812, 26766, 26722, 26676, 26652, 26633, 26620, 26552, 26529, 26506, 26496, 26392, 26382, 26353, 26279, 26258, 26252, 26225, 26202, 26177, 26138, 25981, 25945, 25906, 25892, 25887, 25872, 25789, 25740, 25733, 25637, 25551, 25533, 25502, 25400, 25309, 25269, 25144, 25095, 25047, 25039, 24892, 24724, 24702, 24582, 24567, 24540, 24507, 24466, 24465, 24458, 24449, 24426, 24424, 24416, 24338, 24331, 24265, 24201, 24108, 24065, 24047, 24009, 23968, 23967, 23963, 23912, 23901, 23873, 23851, 23798, 23784, 23766, 23764, 23605, 23601, 23550, 23508, 23485, 23459, 23437, 23394, 23227, 23226, 23200, 23173, 23170, 23114, 23082, 23071, 23025, 22938, 22865, 22842, 22788, 22739, 22705, 22697, 22666, 22557, 22501, 22463, 22408, 22319, 22288, 22139, 22059, 22017, 22011, 21996, 21966, 21960, 21950, 21903, 21754, 21742, 21656, 21632, 21613, 21577, 21566, 21563, 21539, 21332, 21320, 21257, 21232, 21205, 21201, 21174, 21137, 21115, 21081, 21071, 21048, 21031, 20942, 20802, 20733, 20726, 20715, 20710, 20686, 20517, 20481, 20459, 20455, 20447, 20334, 20324, 20320, 20305, 20206, 20178, 20168, 20165, 20130, 20116, 20084, 20072, 20060, 19967, 19936, 19915, 19905, 19897, 19852, 19814, 19804, 19749, 19740, 19725, 19678, 19631, 19621, 19575, 19515, 19501, 19459, 19350, 19307, 19289, 19258, 19207, 19201, 19194, 19192, 19135, 19036, 19024, 19008, 18995, 18951, 18941, 18890, 18851, 18810, 18796, 18755, 18735, 18714, 18627, 18613, 18583, 18573, 18531, 18507, 18502, 18501, 18496, 18448, 18437, 18355, 18263, 18241, 18239, 18219, 18217, 18203, 18182, 18112, 18061, 18041, 18006, 17989, 17981, 17957, 17884, 17840, 17827, 17826, 17819, 17686, 17565, 17547, 17514, 17471, 17390, 17317, 17239, 17215, 17201, 17162, 17148, 17094, 17065, 17016, 16938, 16914, 16885, 16792, 16681, 16677, 16651, 16632, 16503, 16495, 16467, 16423, 16326, 16319, 16167, 16159, 16142, 16132, 16044, 16000, 15966, 15965, 15823, 15799, 15792, 15778, 15763, 15758, 15711, 15683, 15644, 15638, 15621, 15532, 15525, 15520, 15490, 15427, 15418, 15414, 15363, 15360, 15334, 15330, 15324, 15288, 15255, 15233, 15178, 15177, 15128, 15055, 15040, 15035, 14969, 14906, 14889, 14820, 14811, 14801, 14779, 14767, 14731, 14679, 14664, 14632, 14608, 14424, 14389, 14276, 14268, 14098, 14049, 13979, 13951, 13948, 13941, 13892, 13845, 13829, 13757, 13719, 13656, 13648, 13637, 13599, 13529, 13497, 13399, 13305, 13300, 13205, 13188, 13111, 13103, 13088, 13080, 13063, 13028, 12952, 12918, 12846, 12825, 12680, 12667, 12664, 12570, 12564, 12536, 12506, 12433, 12427, 12392, 12325, 12292, 12239, 12155, 12151, 12086, 12018, 12009, 12008, 11945, 11918, 11903, 11864, 11849, 11786, 11784, 11781, 11709, 11681, 11656, 11641, 11618, 11603, 11575, 11518, 11504, 11498, 11489, 11484, 11444, 11390, 11373, 11285, 11257, 11208, 11054, 11040, 10952, 10947, 10911, 10893, 10869, 10770, 10673, 10624, 10591, 10555, 10443, 10434, 10430, 10357, 10284, 10274, 10257, 10127, 10106, 10104, 10094, 10088, 10065, 10005, 9986, 9885, 9878, 9732, 9729, 9711, 9691, 9688, 9654, 9632, 9613, 9509, 9482, 9477, 9416, 9399, 9377, 9320, 9282, 9241, 9185, 9184, 9159, 9052, 9018, 9004, 8994, 8973, 8956, 8952, 8941, 8912, 8863, 8860, 8843, 8799, 8798, 8767, 8757, 8654, 8624, 8569, 8564, 8560, 8542, 8425, 8388, 8281, 8172, 8159, 8097, 8069, 7925, 7857, 7770, 7755, 7651, 7634, 7626, 7625, 7614, 7484, 7393, 7276, 7179, 7177, 7043, 6938, 6923, 6886, 6875, 6830, 6826, 6809, 6744, 6637, 6553, 6501, 6463, 6446, 6442, 6417, 6415, 6379, 6361, 6314, 6251, 6056, 6032, 5961, 5920, 5904, 5897, 5893, 5858, 5842, 5833, 5732, 5714, 5690, 5678, 5644, 5602, 5541, 5533, 5531, 5481, 5446, 5368, 5243, 5223, 5134, 5037, 4987, 4873, 4809, 4730, 4707, 4692, 4685, 4682, 4635, 4576, 4548, 4488, 4437, 4405, 4355, 4315, 4282, 4244, 4169, 4147, 4107, 4087, 4067, 4034, 4029, 3993, 3963, 3943, 3903, 3867, 3795, 3744, 3720, 3707, 3679, 3674, 3654, 3631, 3585, 3525, 3448, 3427, 3394, 3392, 3357, 3209, 3171, 3161, 3118, 3114, 3109, 3080, 3071, 3065, 3052, 3043, 2983, 2942, 2912, 2899, 2876, 2799, 2767, 2711, 2691, 2679, 2610, 2420, 2387, 2361, 2327, 2274, 2254, 2170, 2162, 2146, 2091, 2050, 2038, 2033, 2018, 1921, 1754, 1688, 1668, 1613, 1591, 1555, 1521, 1448, 1411, 1407, 1348, 1347, 1313, 1249, 1215, 1186, 1184, 1051, 941, 925, 913, 907, 884, 806, 752, 680, 545, 507, 458, 388, 364, 360, 223, 213, 200, 193, 184, 171, 158, 105, 103, 96, 50]\n"
          ]
        }
      ],
      "source": [
        "# Identifying indices of 'one_hot_labels' entries that only occur once - this will allow me to stratify split our training data later\n",
        "label_counts = df_train.one_hot_labels.astype(str).value_counts()\n",
        "one_freq = label_counts[label_counts==1].keys()\n",
        "one_freq_idxs = sorted(list(df_train[df_train.one_hot_labels.astype(str).isin(one_freq)].index), reverse=True)\n",
        "print('df label indices with only one instance: ', one_freq_idxs)"
      ]
    },
    {
      "cell_type": "code",
      "execution_count": null,
      "id": "2c1dda56",
      "metadata": {
        "colab": {
          "base_uri": "https://localhost:8080/"
        },
        "execution": {
          "iopub.execute_input": "2023-05-25T10:30:02.733222Z",
          "iopub.status.busy": "2023-05-25T10:30:02.732353Z",
          "iopub.status.idle": "2023-05-25T10:30:04.185940Z",
          "shell.execute_reply": "2023-05-25T10:30:04.184942Z"
        },
        "id": "2c1dda56",
        "outputId": "86a5e351-fdf4-4467-e5de-61823a52f426",
        "papermill": {
          "duration": 1.478286,
          "end_time": "2023-05-25T10:30:04.188325",
          "exception": false,
          "start_time": "2023-05-25T10:30:02.710039",
          "status": "completed"
        },
        "tags": []
      },
      "outputs": [
        {
          "name": "stderr",
          "output_type": "stream",
          "text": [
            "<ipython-input-29-f8d8707b71ff>:6: UserWarning: Creating a tensor from a list of numpy.ndarrays is extremely slow. Please consider converting the list to a single numpy.ndarray with numpy.array() before converting to a tensor. (Triggered internally at ../torch/csrc/utils/tensor_new.cpp:245.)\n",
            "  train_labels = torch.tensor(train_labels)\n"
          ]
        }
      ],
      "source": [
        "\n",
        "train_inputs, validation_inputs, train_labels, validation_labels, train_masks, validation_masks = train_test_split(input_ids, labels, attention_masks,\n",
        "                                                            random_state=2020, test_size=0.20)\n",
        "\n",
        "# Convert all of our data into torch tensors, the required datatype for our BERT Pytorch model\n",
        "train_inputs = torch.tensor(train_inputs)\n",
        "train_labels = torch.tensor(train_labels)\n",
        "train_masks = torch.tensor(train_masks)\n",
        "\n",
        "validation_inputs = torch.tensor(validation_inputs)\n",
        "validation_labels = torch.tensor(validation_labels)\n",
        "validation_masks = torch.tensor(validation_masks)"
      ]
    },
    {
      "cell_type": "markdown",
      "id": "40cc5ab3",
      "metadata": {
        "id": "40cc5ab3",
        "papermill": {
          "duration": 0.021798,
          "end_time": "2023-05-25T10:30:04.232309",
          "exception": false,
          "start_time": "2023-05-25T10:30:04.210511",
          "status": "completed"
        },
        "tags": []
      },
      "source": [
        "<a id=\"5\"></a>\n",
        "## <p style=\"background-color:#1a0a36;font-family:newtimeroman;color:#FFF9ED;font-size:150%;text-align:center;border-radius:10px 10px;\"> Creating the Data Loaders</p>\n",
        "#### [Top ↑](#top)"
      ]
    },
    {
      "cell_type": "code",
      "execution_count": null,
      "id": "bbffd411",
      "metadata": {
        "execution": {
          "iopub.execute_input": "2023-05-25T10:30:04.280208Z",
          "iopub.status.busy": "2023-05-25T10:30:04.279899Z",
          "iopub.status.idle": "2023-05-25T10:30:04.287781Z",
          "shell.execute_reply": "2023-05-25T10:30:04.286511Z"
        },
        "id": "bbffd411",
        "papermill": {
          "duration": 0.040163,
          "end_time": "2023-05-25T10:30:04.294593",
          "exception": false,
          "start_time": "2023-05-25T10:30:04.254430",
          "status": "completed"
        },
        "tags": []
      },
      "outputs": [],
      "source": [
        "batch_size = 64\n",
        "\n",
        "# Create an iterator of our data with torch DataLoader. This helps save on memory during training because, unlike a for loop,\n",
        "# with an iterator the entire dataset does not need to be loaded into memory\n",
        "\n",
        "train_data =     TensorDataset(train_inputs, train_masks, train_labels,)\n",
        "train_sampler = RandomSampler(train_data)\n",
        "train_dataloader = DataLoader(train_data, sampler=train_sampler, batch_size=batch_size)\n",
        "\n",
        "validation_data = TensorDataset(validation_inputs, validation_masks, validation_labels,)\n",
        "validation_sampler = SequentialSampler(validation_data)\n",
        "validation_dataloader = DataLoader(validation_data, sampler=validation_sampler, batch_size=batch_size)"
      ]
    },
    {
      "cell_type": "code",
      "execution_count": null,
      "id": "a9d41d60",
      "metadata": {
        "execution": {
          "iopub.execute_input": "2023-05-25T10:30:04.338409Z",
          "iopub.status.busy": "2023-05-25T10:30:04.338114Z",
          "iopub.status.idle": "2023-05-25T10:30:04.498457Z",
          "shell.execute_reply": "2023-05-25T10:30:04.497442Z"
        },
        "id": "a9d41d60",
        "papermill": {
          "duration": 0.184903,
          "end_time": "2023-05-25T10:30:04.501087",
          "exception": false,
          "start_time": "2023-05-25T10:30:04.316184",
          "status": "completed"
        },
        "tags": []
      },
      "outputs": [],
      "source": [
        "torch.save(validation_dataloader,'validation_data_loader')\n",
        "torch.save(train_dataloader,'train_data_loader')"
      ]
    },
    {
      "cell_type": "markdown",
      "id": "7b62c5c1",
      "metadata": {
        "id": "7b62c5c1",
        "papermill": {
          "duration": 0.022376,
          "end_time": "2023-05-25T10:30:04.545782",
          "exception": false,
          "start_time": "2023-05-25T10:30:04.523406",
          "status": "completed"
        },
        "tags": []
      },
      "source": [
        "<a id=\"6\"></a>\n",
        "## <p style=\"background-color:#1a0a36;font-family:newtimeroman;color:#FFF9ED;font-size:150%;text-align:center;border-radius:10px 10px;\"> Loading the pretrained model</p>\n",
        "#### [Top ↑](#top)"
      ]
    },
    {
      "cell_type": "code",
      "execution_count": null,
      "id": "0daeed68",
      "metadata": {
        "colab": {
          "base_uri": "https://localhost:8080/",
          "height": 208,
          "referenced_widgets": [
            "5901243fb0ee4ac6bca9562c0644cf4d",
            "5b5684752db6417897507b3803c47975",
            "273ad035de0e42a1a723af9a05250bd7",
            "97b76b4d5add4f82b7b36ab5fbbcc8c7",
            "246ae10f62a64106bd6a5d1270d8d9eb",
            "7e6995a8965d4a268c12097cff68f7da",
            "74e80107423b46f6acbcdb3632f1f30e",
            "4d54524b11464d55b03abfac3a886212",
            "6c71ccb1adf945a481de8c00edcf8e8c",
            "44d9458c76284128b56a102ddfb8a198",
            "981c3df14c6d4ceebe8c1572a0636421"
          ]
        },
        "execution": {
          "iopub.execute_input": "2023-05-25T10:30:04.614503Z",
          "iopub.status.busy": "2023-05-25T10:30:04.614128Z",
          "iopub.status.idle": "2023-05-25T10:30:07.746104Z",
          "shell.execute_reply": "2023-05-25T10:30:07.744899Z"
        },
        "id": "0daeed68",
        "outputId": "ff575bca-d411-4c3b-e7c1-44414b90d052",
        "papermill": {
          "duration": 3.171693,
          "end_time": "2023-05-25T10:30:07.748830",
          "exception": false,
          "start_time": "2023-05-25T10:30:04.577137",
          "status": "completed"
        },
        "tags": []
      },
      "outputs": [
        {
          "data": {
            "application/vnd.jupyter.widget-view+json": {
              "model_id": "5901243fb0ee4ac6bca9562c0644cf4d",
              "version_major": 2,
              "version_minor": 0
            },
            "text/plain": [
              "Downloading pytorch_model.bin:   0%|          | 0.00/436M [00:00<?, ?B/s]"
            ]
          },
          "metadata": {},
          "output_type": "display_data"
        },
        {
          "name": "stderr",
          "output_type": "stream",
          "text": [
            "Some weights of the model checkpoint at dmis-lab/biobert-base-cased-v1.2 were not used when initializing BertForSequenceClassification: ['cls.predictions.transform.LayerNorm.bias', 'cls.predictions.decoder.bias', 'cls.seq_relationship.weight', 'cls.predictions.transform.dense.weight', 'cls.predictions.decoder.weight', 'cls.seq_relationship.bias', 'cls.predictions.transform.LayerNorm.weight', 'cls.predictions.bias', 'cls.predictions.transform.dense.bias']\n",
            "- This IS expected if you are initializing BertForSequenceClassification from the checkpoint of a model trained on another task or with another architecture (e.g. initializing a BertForSequenceClassification model from a BertForPreTraining model).\n",
            "- This IS NOT expected if you are initializing BertForSequenceClassification from the checkpoint of a model that you expect to be exactly identical (initializing a BertForSequenceClassification model from a BertForSequenceClassification model).\n",
            "Some weights of BertForSequenceClassification were not initialized from the model checkpoint at dmis-lab/biobert-base-cased-v1.2 and are newly initialized: ['classifier.bias', 'classifier.weight']\n",
            "You should probably TRAIN this model on a down-stream task to be able to use it for predictions and inference.\n"
          ]
        },
        {
          "name": "stdout",
          "output_type": "stream",
          "text": [
            "Model Pushed to Cuda for Training\n",
            "CPU times: user 1.76 s, sys: 1.05 s, total: 2.81 s\n",
            "Wall time: 5.68 s\n"
          ]
        }
      ],
      "source": [
        "%%time\n",
        "#Tried Several Models Locally XLNet was performing Best. Note If you are changing the model then change the Tokenizer also\n",
        "# model = RobertaForSequenceClassification.from_pretrained('distilroberta-base', num_labels=num_labels)\n",
        "model = BertForSequenceClassification.from_pretrained(\"dmis-lab/biobert-base-cased-v1.2\", num_labels=num_labels)\n",
        "# model = XLNetForSequenceClassification.from_pretrained(\"xlnet-base-cased\", num_labels=num_labels)\n",
        "model.cuda()\n",
        "print('Model Pushed to Cuda for Training')"
      ]
    },
    {
      "cell_type": "code",
      "execution_count": null,
      "id": "de4e22de",
      "metadata": {
        "execution": {
          "iopub.execute_input": "2023-05-25T10:30:07.793857Z",
          "iopub.status.busy": "2023-05-25T10:30:07.793564Z",
          "iopub.status.idle": "2023-05-25T10:30:07.802406Z",
          "shell.execute_reply": "2023-05-25T10:30:07.801426Z"
        },
        "id": "de4e22de",
        "papermill": {
          "duration": 0.033854,
          "end_time": "2023-05-25T10:30:07.804712",
          "exception": false,
          "start_time": "2023-05-25T10:30:07.770858",
          "status": "completed"
        },
        "tags": []
      },
      "outputs": [],
      "source": [
        "param_optimizer = list(model.named_parameters())\n",
        "no_decay = ['bias', 'gamma', 'beta']\n",
        "optimizer_grouped_parameters = [\n",
        "    {'params': [p for n, p in param_optimizer if not any(nd in n for nd in no_decay)],\n",
        "     'weight_decay_rate': 0.01},\n",
        "    {'params': [p for n, p in param_optimizer if any(nd in n for nd in no_decay)],\n",
        "     'weight_decay_rate': 0.0}\n",
        "]"
      ]
    },
    {
      "cell_type": "code",
      "execution_count": null,
      "id": "ed17beea",
      "metadata": {
        "execution": {
          "iopub.execute_input": "2023-05-25T10:30:07.855157Z",
          "iopub.status.busy": "2023-05-25T10:30:07.854869Z",
          "iopub.status.idle": "2023-05-25T10:30:07.860616Z",
          "shell.execute_reply": "2023-05-25T10:30:07.859551Z"
        },
        "id": "ed17beea",
        "papermill": {
          "duration": 0.038425,
          "end_time": "2023-05-25T10:30:07.865371",
          "exception": false,
          "start_time": "2023-05-25T10:30:07.826946",
          "status": "completed"
        },
        "tags": []
      },
      "outputs": [],
      "source": [
        "optimizer = AdamW(optimizer_grouped_parameters,lr=6e-6) `#6e-5, 2e-5, 3e-5`\n",
        "# optimizer = AdamW(model.parameters(),lr=4e-5)  # Default optimization #XL-NET"
      ]
    },
    {
      "cell_type": "code",
      "execution_count": null,
      "id": "0bc73053",
      "metadata": {
        "execution": {
          "iopub.execute_input": "2023-05-25T10:30:07.916252Z",
          "iopub.status.busy": "2023-05-25T10:30:07.915838Z",
          "iopub.status.idle": "2023-05-25T10:30:07.921587Z",
          "shell.execute_reply": "2023-05-25T10:30:07.920550Z"
        },
        "id": "0bc73053",
        "papermill": {
          "duration": 0.03881,
          "end_time": "2023-05-25T10:30:07.926308",
          "exception": false,
          "start_time": "2023-05-25T10:30:07.887498",
          "status": "completed"
        },
        "tags": []
      },
      "outputs": [],
      "source": [
        "os.environ['TF_FORCE_GPU_ALLOW_GROWTH']='true'"
      ]
    },
    {
      "cell_type": "markdown",
      "id": "a1c97f05",
      "metadata": {
        "id": "a1c97f05",
        "papermill": {
          "duration": 0.020901,
          "end_time": "2023-05-25T10:30:07.969169",
          "exception": false,
          "start_time": "2023-05-25T10:30:07.948268",
          "status": "completed"
        },
        "tags": []
      },
      "source": [
        "<a id=\"7\"></a>\n",
        "## <p style=\"background-color:#1a0a36;font-family:newtimeroman;color:#FFF9ED;font-size:150%;text-align:center;border-radius:10px 10px;\"> Training the model</p>\n",
        "#### [Top ↑](#top)"
      ]
    },
    {
      "cell_type": "code",
      "execution_count": null,
      "id": "3b548c03",
      "metadata": {
        "colab": {
          "base_uri": "https://localhost:8080/",
          "height": 885,
          "referenced_widgets": [
            "b4d8f39e34cd4dbaaaad9b35b326d520",
            "92e3b99a2567446ab7ed8fbd3bc32f69",
            "3a6e15a84ef34415a150e8cb084af878",
            "f0dd844dbdf4403ca93d3a36413bc58c",
            "b1a78843acd64780b1391d31631b6b0d",
            "e5ba8b12303a4d9e9f7d3fb629f22be8",
            "9c2c642fbf7f49d88a69a483f9261bf2",
            "f4b9661fb1f448c89670b88013298d07"
          ]
        },
        "execution": {
          "iopub.execute_input": "2023-05-25T10:30:08.019784Z",
          "iopub.status.busy": "2023-05-25T10:30:08.019465Z",
          "iopub.status.idle": "2023-05-25T11:07:18.956446Z",
          "shell.execute_reply": "2023-05-25T11:07:18.955525Z"
        },
        "id": "3b548c03",
        "outputId": "804fb24f-9453-4237-ff1f-ebdb587fb46a",
        "papermill": {
          "duration": 2230.967964,
          "end_time": "2023-05-25T11:07:18.958771",
          "exception": false,
          "start_time": "2023-05-25T10:30:07.990807",
          "status": "completed"
        },
        "tags": []
      },
      "outputs": [
        {
          "name": "stderr",
          "output_type": "stream",
          "text": [
            "\rEpoch :   0%|          | 0/6 [00:00<?, ?it/s]"
          ]
        },
        {
          "name": "stdout",
          "output_type": "stream",
          "text": [
            "Train loss: 0.4185291037559509\n"
          ]
        },
        {
          "name": "stderr",
          "output_type": "stream",
          "text": [
            "\rEpoch :  17%|█▋        | 1/6 [11:41<58:25, 701.08s/it]"
          ]
        },
        {
          "name": "stdout",
          "output_type": "stream",
          "text": [
            "F1 Validation Accuracy:  84.07821229050279\n",
            "Flat Validation Accuracy:  10.9375\n",
            "\n",
            "\n",
            "Train loss: 0.3243360514640808\n"
          ]
        },
        {
          "name": "stderr",
          "output_type": "stream",
          "text": [
            "\rEpoch :  33%|███▎      | 2/6 [23:19<46:36, 699.23s/it]"
          ]
        },
        {
          "name": "stdout",
          "output_type": "stream",
          "text": [
            "F1 Validation Accuracy:  86.45690834473324\n",
            "Flat Validation Accuracy:  14.0625\n",
            "\n",
            "\n",
            "Train loss: 0.29584139987826347\n"
          ]
        },
        {
          "name": "stderr",
          "output_type": "stream",
          "text": [
            "\rEpoch :  50%|█████     | 3/6 [34:56<34:55, 698.62s/it]"
          ]
        },
        {
          "name": "stdout",
          "output_type": "stream",
          "text": [
            "F1 Validation Accuracy:  87.01657458563537\n",
            "Flat Validation Accuracy:  18.75\n",
            "\n",
            "\n",
            "Train loss: 0.2779523882269859\n"
          ]
        },
        {
          "name": "stderr",
          "output_type": "stream",
          "text": [
            "\rEpoch :  67%|██████▋   | 4/6 [46:34<23:16, 698.29s/it]"
          ]
        },
        {
          "name": "stdout",
          "output_type": "stream",
          "text": [
            "F1 Validation Accuracy:  86.26907073509014\n",
            "Flat Validation Accuracy:  20.3125\n",
            "\n",
            "\n",
            "Train loss: 0.26429405131936073\n"
          ]
        },
        {
          "name": "stderr",
          "output_type": "stream",
          "text": [
            "\rEpoch :  83%|████████▎ | 5/6 [58:12<11:38, 698.01s/it]"
          ]
        },
        {
          "name": "stdout",
          "output_type": "stream",
          "text": [
            "F1 Validation Accuracy:  87.32782369146005\n",
            "Flat Validation Accuracy:  20.3125\n",
            "\n",
            "\n",
            "Train loss: 0.25259641304612157\n"
          ]
        },
        {
          "name": "stderr",
          "output_type": "stream",
          "text": [
            "Epoch : 100%|██████████| 6/6 [1:09:49<00:00, 698.29s/it]"
          ]
        },
        {
          "name": "stdout",
          "output_type": "stream",
          "text": [
            "F1 Validation Accuracy:  87.44827586206897\n",
            "Flat Validation Accuracy:  25.0\n",
            "\n",
            "\n"
          ]
        },
        {
          "name": "stderr",
          "output_type": "stream",
          "text": [
            "\n"
          ]
        },
        {
          "data": {
            "text/html": [
              "Waiting for W&B process to finish... <strong style=\"color:green\">(success).</strong>"
            ],
            "text/plain": [
              "<IPython.core.display.HTML object>"
            ]
          },
          "metadata": {},
          "output_type": "display_data"
        },
        {
          "data": {
            "application/vnd.jupyter.widget-view+json": {
              "model_id": "b4d8f39e34cd4dbaaaad9b35b326d520",
              "version_major": 2,
              "version_minor": 0
            },
            "text/plain": [
              "VBox(children=(Label(value='0.001 MB of 0.001 MB uploaded (0.000 MB deduped)\\r'), FloatProgress(value=1.0, max…"
            ]
          },
          "metadata": {},
          "output_type": "display_data"
        },
        {
          "data": {
            "text/html": [
              "<style>\n",
              "    table.wandb td:nth-child(1) { padding: 0 10px; text-align: left ; width: auto;} td:nth-child(2) {text-align: left ; width: 100%}\n",
              "    .wandb-row { display: flex; flex-direction: row; flex-wrap: wrap; justify-content: flex-start; width: 100% }\n",
              "    .wandb-col { display: flex; flex-direction: column; flex-basis: 100%; flex: 1; padding: 10px; }\n",
              "    </style>\n",
              "<div class=\"wandb-row\"><div class=\"wandb-col\"><h3>Run history:</h3><br/><table class=\"wandb\"><tr><td>train_loss</td><td>█▄▃▂▁▁</td></tr><tr><td>val_f1_accuracy</td><td>▁▆▇▆██</td></tr><tr><td>val_flat_accuracy</td><td>▁▃▅▆▆█</td></tr></table><br/></div><div class=\"wandb-col\"><h3>Run summary:</h3><br/><table class=\"wandb\"><tr><td>train_loss</td><td>0.2526</td></tr><tr><td>val_f1_accuracy</td><td>87.44828</td></tr><tr><td>val_flat_accuracy</td><td>25.0</td></tr></table><br/></div></div>"
            ],
            "text/plain": [
              "<IPython.core.display.HTML object>"
            ]
          },
          "metadata": {},
          "output_type": "display_data"
        },
        {
          "data": {
            "text/html": [
              " View run <strong style=\"color:#cdcd00\">42.Biobert-base-cased-v1.2-Run-27</strong> at: <a href='https://wandb.ai/mithil-kashid-btech2020/Multi%20Label%20Classification%20of%20PubMed%20Articles%20%28Paper%20Night%20Presentation%29/runs/ak2mz443' target=\"_blank\">https://wandb.ai/mithil-kashid-btech2020/Multi%20Label%20Classification%20of%20PubMed%20Articles%20%28Paper%20Night%20Presentation%29/runs/ak2mz443</a><br/>Synced 5 W&B file(s), 0 media file(s), 0 artifact file(s) and 0 other file(s)"
            ],
            "text/plain": [
              "<IPython.core.display.HTML object>"
            ]
          },
          "metadata": {},
          "output_type": "display_data"
        },
        {
          "data": {
            "text/html": [
              "Find logs at: <code>./wandb/run-20231003_161938-ak2mz443/logs</code>"
            ],
            "text/plain": [
              "<IPython.core.display.HTML object>"
            ]
          },
          "metadata": {},
          "output_type": "display_data"
        },
        {
          "name": "stdout",
          "output_type": "stream",
          "text": [
            "CPU times: user 1h 8min 49s, sys: 11.4 s, total: 1h 9min\n",
            "Wall time: 1h 9min 55s\n"
          ]
        }
      ],
      "source": [
        "%%time\n",
        "\n",
        "# For Storing our loss and accuracy for plotting\n",
        "train_loss_set = []\n",
        "val_f1_accuracy_list,val_flat_accuracy_list,training_loss_list,epochs_list=[],[],[],[]\n",
        "\n",
        "# Number of training epochs (recommend between 5 and 10)\n",
        "epochs = 6\n",
        "\n",
        "# trange is a tqdm wrapper around the normal python range\n",
        "for _ in trange(epochs, desc=\"Epoch \"):\n",
        "    # Training\n",
        "\n",
        "    # Set our model to training mode (as opposed to evaluation mode)\n",
        "    model.train()\n",
        "\n",
        "    # Tracking variables\n",
        "    tr_loss = 0 #running loss\n",
        "    nb_tr_examples, nb_tr_steps = 0, 0\n",
        "\n",
        "    # Train the data for one epoch\n",
        "    for step, batch in enumerate(train_dataloader):\n",
        "        # Add batch to GPU\n",
        "        batch = tuple(t.to(device) for t in batch)\n",
        "        # Unpack the inputs from our dataloader\n",
        "        b_input_ids, b_input_mask, b_labels= batch\n",
        "        # Clear out the gradients (by default they accumulate)\n",
        "        optimizer.zero_grad()\n",
        "\n",
        "        # Forward pass for multilabel classification\n",
        "        # https://pytorch.org/docs/stable/generated/torch.nn.BCELoss.html\n",
        "        # https://pytorch.org/docs/stable/generated/torch.nn.BCEWithLogitsLoss.html\n",
        "        # Creates a criterion that measures the Binary Cross Entropy between the target and the input probabilities\n",
        "        # Also This loss combines a Sigmoid layer and the BCELoss in one single class. This version is more numerically stable\n",
        "        # than using a plain Sigmoid followed by a BCELoss as, by combining the operations into one layer, we take advantage of the\n",
        "        # log-sum-exp trick for numerical stability.\n",
        "        outputs = model(b_input_ids, token_type_ids=None, attention_mask=b_input_mask)\n",
        "        logits = outputs[0]\n",
        "        loss_func = BCEWithLogitsLoss()\n",
        "        loss = loss_func(logits.view(-1,num_labels),b_labels.type_as(logits).view(-1,num_labels)) #convert labels to float for calculation\n",
        "\n",
        "        train_loss_set.append(loss.item())\n",
        "\n",
        "        # Backward pass\n",
        "        loss.backward()\n",
        "        # Update parameters and take a step using the computed gradient\n",
        "        optimizer.step()\n",
        "        # scheduler.step()\n",
        "        # Update tracking variables\n",
        "        tr_loss += loss.item()\n",
        "        nb_tr_examples += b_input_ids.size(0)\n",
        "        nb_tr_steps += 1\n",
        "\n",
        "    print(\"Train loss: {}\".format(tr_loss/nb_tr_steps))\n",
        "    training_loss_list.append(tr_loss/nb_tr_steps)\n",
        "\n",
        "    ###############################################################################\n",
        "\n",
        "    # Validation\n",
        "\n",
        "    # Put model in evaluation mode to evaluate loss on the validation set\n",
        "    model.eval()\n",
        "\n",
        "    # Variables to gather full output\n",
        "    logit_preds,true_labels,pred_labels,tokenized_texts = [],[],[],[]\n",
        "\n",
        "    # Predict\n",
        "    for i, batch in enumerate(validation_dataloader):\n",
        "        batch = tuple(t.to(device) for t in batch)\n",
        "        # Unpack the inputs from our dataloader\n",
        "        b_input_ids, b_input_mask, b_labels = batch\n",
        "        with torch.no_grad():\n",
        "            # Forward pass\n",
        "            outs = model(b_input_ids, token_type_ids=None, attention_mask=b_input_mask)\n",
        "            b_logit_pred = outs[0]\n",
        "            pred_label = torch.sigmoid(b_logit_pred)\n",
        "\n",
        "        b_logit_pred = b_logit_pred.detach().cpu().numpy()\n",
        "        pred_label = pred_label.to('cpu').numpy()\n",
        "        b_labels = b_labels.to('cpu').numpy()\n",
        "\n",
        "    tokenized_texts.append(b_input_ids)\n",
        "    logit_preds.append(b_logit_pred)\n",
        "    true_labels.append(b_labels)\n",
        "    pred_labels.append(pred_label)\n",
        "\n",
        "    # Flatten outputs\n",
        "    pred_labels = [item for sublist in pred_labels for item in sublist]\n",
        "    true_labels = [item for sublist in true_labels for item in sublist]\n",
        "\n",
        "    # Calculate Accuracy\n",
        "    threshold = 0.50\n",
        "    pred_bools = [pl>threshold for pl in pred_labels]\n",
        "    true_bools = [tl==1 for tl in true_labels]\n",
        "    val_f1_accuracy = f1_score(true_bools,pred_bools,average='micro')*100\n",
        "    val_flat_accuracy = accuracy_score(true_bools, pred_bools)*100\n",
        "\n",
        "    print('F1 Validation Accuracy: ', val_f1_accuracy)\n",
        "    print('Flat Validation Accuracy: ', val_flat_accuracy)\n",
        "    print('\\n')\n",
        "    val_f1_accuracy_list.append(val_f1_accuracy)\n",
        "    val_flat_accuracy_list.append(val_flat_accuracy)\n",
        "    epochs_list.append(epochs)\n",
        "\n",
        "    wandb.log({\"train_loss\":tr_loss/nb_tr_steps,\"val_f1_accuracy\":val_f1_accuracy,\"val_flat_accuracy\":val_flat_accuracy,})\n",
        "wandb.finish()"
      ]
    },
    {
      "cell_type": "code",
      "execution_count": null,
      "id": "49104e10",
      "metadata": {
        "execution": {
          "iopub.execute_input": "2023-05-25T11:07:19.008723Z",
          "iopub.status.busy": "2023-05-25T11:07:19.007780Z",
          "iopub.status.idle": "2023-05-25T11:07:19.014278Z",
          "shell.execute_reply": "2023-05-25T11:07:19.013417Z"
        },
        "id": "49104e10",
        "papermill": {
          "duration": 0.03321,
          "end_time": "2023-05-25T11:07:19.016456",
          "exception": false,
          "start_time": "2023-05-25T11:07:18.983246",
          "status": "completed"
        },
        "tags": []
      },
      "outputs": [],
      "source": [
        "num_epochs = np.arange(1,len(training_loss_list)+1)\n",
        "df_train_results=pd.DataFrame({'Epochs':num_epochs,'F1 Validation Accuracy':val_f1_accuracy_list,\\\n",
        "                               'Flat Validation Accuracy':val_flat_accuracy_list,'Train loss':training_loss_list})"
      ]
    },
    {
      "cell_type": "markdown",
      "id": "e62d4ff0",
      "metadata": {
        "id": "e62d4ff0",
        "papermill": {
          "duration": 0.023599,
          "end_time": "2023-05-25T11:07:19.063621",
          "exception": false,
          "start_time": "2023-05-25T11:07:19.040022",
          "status": "completed"
        },
        "tags": []
      },
      "source": [
        "<a id=\"8\"></a>\n",
        "## <p style=\"background-color:#1a0a36;font-family:newtimeroman;color:#FFF9ED;font-size:150%;text-align:center;border-radius:10px 10px;\"> Visualizing The results</p>\n",
        "\n",
        "#### [Top ↑](#top)"
      ]
    },
    {
      "cell_type": "code",
      "execution_count": null,
      "id": "5269ff14",
      "metadata": {
        "colab": {
          "base_uri": "https://localhost:8080/",
          "height": 518
        },
        "execution": {
          "iopub.execute_input": "2023-05-25T11:07:19.170795Z",
          "iopub.status.busy": "2023-05-25T11:07:19.169696Z",
          "iopub.status.idle": "2023-05-25T11:07:19.434424Z",
          "shell.execute_reply": "2023-05-25T11:07:19.433455Z"
        },
        "id": "5269ff14",
        "outputId": "5536299c-0317-4582-8cc8-7971618f2315",
        "papermill": {
          "duration": 0.292262,
          "end_time": "2023-05-25T11:07:19.436740",
          "exception": false,
          "start_time": "2023-05-25T11:07:19.144478",
          "status": "completed"
        },
        "tags": []
      },
      "outputs": [
        {
          "data": {
            "text/plain": [
              "Text(0.5, 1.0, 'Training Loss vs Number of Epochs for Bert-Base')"
            ]
          },
          "execution_count": 38,
          "metadata": {},
          "output_type": "execute_result"
        },
        {
          "data": {
            "image/png": "[encoded data removed]",
            "text/plain": [
              "<Figure size 1000x500 with 1 Axes>"
            ]
          },
          "metadata": {},
          "output_type": "display_data"
        }
      ],
      "source": [
        "fig, ax = plt.subplots(figsize=(10, 5));\n",
        "ax.plot(num_epochs, np.array(training_loss_list) ,'bo-',label=\"Train Loss\")\n",
        "ax.set_xlabel(\"Number of Epochs\")\n",
        "ax.set_ylabel(\"Training Loss\")\n",
        "ax.set_title(\"Training Loss vs Number of Epochs for Bert-Base\",fontsize=18)"
      ]
    },
    {
      "cell_type": "code",
      "execution_count": null,
      "id": "be58e7ce",
      "metadata": {
        "colab": {
          "base_uri": "https://localhost:8080/",
          "height": 672
        },
        "execution": {
          "iopub.execute_input": "2023-05-25T11:07:19.488029Z",
          "iopub.status.busy": "2023-05-25T11:07:19.487100Z",
          "iopub.status.idle": "2023-05-25T11:07:19.735109Z",
          "shell.execute_reply": "2023-05-25T11:07:19.734165Z"
        },
        "id": "be58e7ce",
        "outputId": "cc85a445-1c5f-484b-911b-9bf86814660b",
        "papermill": {
          "duration": 0.275739,
          "end_time": "2023-05-25T11:07:19.737474",
          "exception": false,
          "start_time": "2023-05-25T11:07:19.461735",
          "status": "completed"
        },
        "tags": []
      },
      "outputs": [
        {
          "data": {
            "text/plain": [
              "(0.0, 100.0)"
            ]
          },
          "execution_count": 39,
          "metadata": {},
          "output_type": "execute_result"
        },
        {
          "data": {
            "image/png": "[encoded data removed]",
            "text/plain": [
              "<Figure size 1000x700 with 1 Axes>"
            ]
          },
          "metadata": {},
          "output_type": "display_data"
        }
      ],
      "source": [
        "fig, ax = plt.subplots(figsize=(10, 7));\n",
        "ax.plot(num_epochs, np.array(val_f1_accuracy_list),'ro-' ,label=\"F1 Validation Accuracy\")\n",
        "ax.set_xlabel(\"Number of Epochs\")\n",
        "ax.set_ylabel(\"F1 Validation Accuracy\")\n",
        "ax.set_title(\"F1 Validation Accuracy vs Number of Epochs for Bert-Base\",fontsize=18)\n",
        "ax.set_ylim(0, 100)"
      ]
    },
    {
      "cell_type": "code",
      "execution_count": null,
      "id": "e4197d22",
      "metadata": {
        "colab": {
          "base_uri": "https://localhost:8080/",
          "height": 518
        },
        "execution": {
          "iopub.execute_input": "2023-05-25T11:07:19.790024Z",
          "iopub.status.busy": "2023-05-25T11:07:19.789715Z",
          "iopub.status.idle": "2023-05-25T11:07:20.032343Z",
          "shell.execute_reply": "2023-05-25T11:07:20.031302Z"
        },
        "id": "e4197d22",
        "outputId": "f3fd2486-a226-467a-d5c7-25e8a8a37e77",
        "papermill": {
          "duration": 0.270842,
          "end_time": "2023-05-25T11:07:20.034519",
          "exception": false,
          "start_time": "2023-05-25T11:07:19.763677",
          "status": "completed"
        },
        "tags": []
      },
      "outputs": [
        {
          "data": {
            "text/plain": [
              "(0.0, 100.0)"
            ]
          },
          "execution_count": 40,
          "metadata": {},
          "output_type": "execute_result"
        },
        {
          "data": {
            "image/png": "[encoded data removed]",
            "text/plain": [
              "<Figure size 1000x500 with 1 Axes>"
            ]
          },
          "metadata": {},
          "output_type": "display_data"
        }
      ],
      "source": [
        "fig, ax = plt.subplots(figsize=(10, 5));\n",
        "ax.plot(num_epochs, np.array(val_flat_accuracy_list),'go-', label=\"Flat Validation Accuracy\")\n",
        "ax.set_xlabel(\"Number of Epochs\")\n",
        "ax.set_ylabel(\"Flat Validation Accuracy\")\n",
        "ax.set_title(\"Flat Validation Accuracy vs Number of Epochs for for Bert-Base\",fontsize=18)\n",
        "ax.set_ylim(0, 100)"
      ]
    },
    {
      "cell_type": "code",
      "execution_count": null,
      "id": "1e8e88e5",
      "metadata": {
        "colab": {
          "base_uri": "https://localhost:8080/",
          "height": 329
        },
        "execution": {
          "iopub.execute_input": "2023-05-25T11:07:20.088299Z",
          "iopub.status.busy": "2023-05-25T11:07:20.087489Z",
          "iopub.status.idle": "2023-05-25T11:07:20.114641Z",
          "shell.execute_reply": "2023-05-25T11:07:20.113589Z"
        },
        "id": "1e8e88e5",
        "outputId": "e594179f-1841-4c8f-9103-2a432ba305da",
        "papermill": {
          "duration": 0.056276,
          "end_time": "2023-05-25T11:07:20.117112",
          "exception": false,
          "start_time": "2023-05-25T11:07:20.060836",
          "status": "completed"
        },
        "tags": []
      },
      "outputs": [
        {
          "data": {
            "text/html": [
              "\n",
              "  <div id=\"df-255ed905-9976-4046-a571-405a7c0e2863\" class=\"colab-df-container\">\n",
              "    <div>\n",
              "<style scoped>\n",
              "    .dataframe tbody tr th:only-of-type {\n",
              "        vertical-align: middle;\n",
              "    }\n",
              "\n",
              "    .dataframe tbody tr th {\n",
              "        vertical-align: top;\n",
              "    }\n",
              "\n",
              "    .dataframe thead th {\n",
              "        text-align: right;\n",
              "    }\n",
              "</style>\n",
              "<table border=\"1\" class=\"dataframe\">\n",
              "  <thead>\n",
              "    <tr style=\"text-align: right;\">\n",
              "      <th></th>\n",
              "      <th>Title</th>\n",
              "      <th>abstractText</th>\n",
              "      <th>meshMajor</th>\n",
              "      <th>pmid</th>\n",
              "      <th>meshid</th>\n",
              "      <th>meshroot</th>\n",
              "      <th>A</th>\n",
              "      <th>B</th>\n",
              "      <th>C</th>\n",
              "      <th>D</th>\n",
              "      <th>...</th>\n",
              "      <th>G</th>\n",
              "      <th>H</th>\n",
              "      <th>I</th>\n",
              "      <th>J</th>\n",
              "      <th>L</th>\n",
              "      <th>M</th>\n",
              "      <th>N</th>\n",
              "      <th>Z</th>\n",
              "      <th>Combined</th>\n",
              "      <th>one_hot_labels</th>\n",
              "    </tr>\n",
              "  </thead>\n",
              "  <tbody>\n",
              "    <tr>\n",
              "      <th>35083</th>\n",
              "      <td>Expression of N-methyl-d-aspartate receptor 1 ...</td>\n",
              "      <td>High levels of glutamate can be toxic to retin...</td>\n",
              "      <td>['Analysis of Variance', 'Animals', 'Cell Deat...</td>\n",
              "      <td>17942238</td>\n",
              "      <td>[['E05.318.740.150', 'N05.715.360.750.125', 'N...</td>\n",
              "      <td>['Analytical, Diagnostic and Therapeutic Techn...</td>\n",
              "      <td>1</td>\n",
              "      <td>1</td>\n",
              "      <td>1</td>\n",
              "      <td>1</td>\n",
              "      <td>...</td>\n",
              "      <td>1</td>\n",
              "      <td>0</td>\n",
              "      <td>0</td>\n",
              "      <td>0</td>\n",
              "      <td>0</td>\n",
              "      <td>0</td>\n",
              "      <td>1</td>\n",
              "      <td>0</td>\n",
              "      <td>[Expression of N-methyl-d-aspartate receptor 1...</td>\n",
              "      <td>[1, 1, 1, 1, 1, 0, 1, 0, 0, 0, 0, 0, 1, 0]</td>\n",
              "    </tr>\n",
              "    <tr>\n",
              "      <th>9005</th>\n",
              "      <td>Protection of pregnant swine by vaccination ag...</td>\n",
              "      <td>The protection conferred on pregnant gilts by ...</td>\n",
              "      <td>['Animals', 'Antibodies, Bacterial', 'Bacteria...</td>\n",
              "      <td>7150130</td>\n",
              "      <td>[['B01.050'], ['D12.776.124.486.485.114.107', ...</td>\n",
              "      <td>['Organisms [B]', 'Chemicals and Drugs [D]', '...</td>\n",
              "      <td>0</td>\n",
              "      <td>1</td>\n",
              "      <td>1</td>\n",
              "      <td>1</td>\n",
              "      <td>...</td>\n",
              "      <td>1</td>\n",
              "      <td>0</td>\n",
              "      <td>0</td>\n",
              "      <td>0</td>\n",
              "      <td>0</td>\n",
              "      <td>0</td>\n",
              "      <td>1</td>\n",
              "      <td>0</td>\n",
              "      <td>[Protection of pregnant swine by vaccination a...</td>\n",
              "      <td>[0, 1, 1, 1, 1, 0, 1, 0, 0, 0, 0, 0, 1, 0]</td>\n",
              "    </tr>\n",
              "    <tr>\n",
              "      <th>23836</th>\n",
              "      <td>An examination of Escherichia coli strains iso...</td>\n",
              "      <td>Ninety-five strains of Escherichia coli isolat...</td>\n",
              "      <td>['Animals', 'Antigens', 'Antigens, Bacterial',...</td>\n",
              "      <td>6135266</td>\n",
              "      <td>[['B01.050'], ['D23.050'], ['D23.050.161'], ['...</td>\n",
              "      <td>['Organisms [B]', 'Chemicals and Drugs [D]', '...</td>\n",
              "      <td>1</td>\n",
              "      <td>1</td>\n",
              "      <td>1</td>\n",
              "      <td>1</td>\n",
              "      <td>...</td>\n",
              "      <td>1</td>\n",
              "      <td>0</td>\n",
              "      <td>0</td>\n",
              "      <td>0</td>\n",
              "      <td>0</td>\n",
              "      <td>0</td>\n",
              "      <td>0</td>\n",
              "      <td>0</td>\n",
              "      <td>[An examination of Escherichia coli strains is...</td>\n",
              "      <td>[1, 1, 1, 1, 0, 0, 1, 0, 0, 0, 0, 0, 0, 0]</td>\n",
              "    </tr>\n",
              "  </tbody>\n",
              "</table>\n",
              "<p>3 rows × 22 columns</p>\n",
              "</div>\n",
              "    <div class=\"colab-df-buttons\">\n",
              "\n",
              "  <div class=\"colab-df-container\">\n",
              "    <button class=\"colab-df-convert\" onclick=\"convertToInteractive('df-255ed905-9976-4046-a571-405a7c0e2863')\"\n",
              "            title=\"Convert this dataframe to an interactive table.\"\n",
              "            style=\"display:none;\">\n",
              "\n",
              "  <svg xmlns=\"http://www.w3.org/2000/svg\" height=\"24px\" viewBox=\"0 -960 960 960\">\n",
              "    <path d=\"M120-120v-720h720v720H120Zm60-500h600v-160H180v160Zm220 220h160v-160H400v160Zm0 220h160v-160H400v160ZM180-400h160v-160H180v160Zm440 0h160v-160H620v160ZM180-180h160v-160H180v160Zm440 0h160v-160H620v160Z\"/>\n",
              "  </svg>\n",
              "    </button>\n",
              "\n",
              "  <style>\n",
              "    .colab-df-container {\n",
              "      display:flex;\n",
              "      gap: 12px;\n",
              "    }\n",
              "\n",
              "    .colab-df-convert {\n",
              "      background-color: #E8F0FE;\n",
              "      border: none;\n",
              "      border-radius: 50%;\n",
              "      cursor: pointer;\n",
              "      display: none;\n",
              "      fill: #1967D2;\n",
              "      height: 32px;\n",
              "      padding: 0 0 0 0;\n",
              "      width: 32px;\n",
              "    }\n",
              "\n",
              "    .colab-df-convert:hover {\n",
              "      background-color: #E2EBFA;\n",
              "      box-shadow: 0px 1px 2px rgba(60, 64, 67, 0.3), 0px 1px 3px 1px rgba(60, 64, 67, 0.15);\n",
              "      fill: #174EA6;\n",
              "    }\n",
              "\n",
              "    .colab-df-buttons div {\n",
              "      margin-bottom: 4px;\n",
              "    }\n",
              "\n",
              "    [theme=dark] .colab-df-convert {\n",
              "      background-color: #3B4455;\n",
              "      fill: #D2E3FC;\n",
              "    }\n",
              "\n",
              "    [theme=dark] .colab-df-convert:hover {\n",
              "      background-color: #434B5C;\n",
              "      box-shadow: 0px 1px 3px 1px rgba(0, 0, 0, 0.15);\n",
              "      filter: drop-shadow(0px 1px 2px rgba(0, 0, 0, 0.3));\n",
              "      fill: #FFFFFF;\n",
              "    }\n",
              "  </style>\n",
              "\n",
              "    <script>\n",
              "      const buttonEl =\n",
              "        document.querySelector('#df-255ed905-9976-4046-a571-405a7c0e2863 button.colab-df-convert');\n",
              "      buttonEl.style.display =\n",
              "        google.colab.kernel.accessAllowed ? 'block' : 'none';\n",
              "\n",
              "      async function convertToInteractive(key) {\n",
              "        const element = document.querySelector('#df-255ed905-9976-4046-a571-405a7c0e2863');\n",
              "        const dataTable =\n",
              "          await google.colab.kernel.invokeFunction('convertToInteractive',\n",
              "                                                    [key], {});\n",
              "        if (!dataTable) return;\n",
              "\n",
              "        const docLinkHtml = 'Like what you see? Visit the ' +\n",
              "          '<a target=\"_blank\" href=https://colab.research.google.com/notebooks/data_table.ipynb>data table notebook</a>'\n",
              "          + ' to learn more about interactive tables.';\n",
              "        element.innerHTML = '';\n",
              "        dataTable['output_type'] = 'display_data';\n",
              "        await google.colab.output.renderOutput(dataTable, element);\n",
              "        const docLink = document.createElement('div');\n",
              "        docLink.innerHTML = docLinkHtml;\n",
              "        element.appendChild(docLink);\n",
              "      }\n",
              "    </script>\n",
              "  </div>\n",
              "\n",
              "\n",
              "<div id=\"df-a563ead9-eea4-4f53-8add-b0024696614d\">\n",
              "  <button class=\"colab-df-quickchart\" onclick=\"quickchart('df-a563ead9-eea4-4f53-8add-b0024696614d')\"\n",
              "            title=\"Suggest charts.\"\n",
              "            style=\"display:none;\">\n",
              "\n",
              "<svg xmlns=\"http://www.w3.org/2000/svg\" height=\"24px\"viewBox=\"0 0 24 24\"\n",
              "     width=\"24px\">\n",
              "    <g>\n",
              "        <path d=\"M19 3H5c-1.1 0-2 .9-2 2v14c0 1.1.9 2 2 2h14c1.1 0 2-.9 2-2V5c0-1.1-.9-2-2-2zM9 17H7v-7h2v7zm4 0h-2V7h2v10zm4 0h-2v-4h2v4z\"/>\n",
              "    </g>\n",
              "</svg>\n",
              "  </button>\n",
              "\n",
              "<style>\n",
              "  .colab-df-quickchart {\n",
              "      --bg-color: #E8F0FE;\n",
              "      --fill-color: #1967D2;\n",
              "      --hover-bg-color: #E2EBFA;\n",
              "      --hover-fill-color: #174EA6;\n",
              "      --disabled-fill-color: #AAA;\n",
              "      --disabled-bg-color: #DDD;\n",
              "  }\n",
              "\n",
              "  [theme=dark] .colab-df-quickchart {\n",
              "      --bg-color: #3B4455;\n",
              "      --fill-color: #D2E3FC;\n",
              "      --hover-bg-color: #434B5C;\n",
              "      --hover-fill-color: #FFFFFF;\n",
              "      --disabled-bg-color: #3B4455;\n",
              "      --disabled-fill-color: #666;\n",
              "  }\n",
              "\n",
              "  .colab-df-quickchart {\n",
              "    background-color: var(--bg-color);\n",
              "    border: none;\n",
              "    border-radius: 50%;\n",
              "    cursor: pointer;\n",
              "    display: none;\n",
              "    fill: var(--fill-color);\n",
              "    height: 32px;\n",
              "    padding: 0;\n",
              "    width: 32px;\n",
              "  }\n",
              "\n",
              "  .colab-df-quickchart:hover {\n",
              "    background-color: var(--hover-bg-color);\n",
              "    box-shadow: 0 1px 2px rgba(60, 64, 67, 0.3), 0 1px 3px 1px rgba(60, 64, 67, 0.15);\n",
              "    fill: var(--button-hover-fill-color);\n",
              "  }\n",
              "\n",
              "  .colab-df-quickchart-complete:disabled,\n",
              "  .colab-df-quickchart-complete:disabled:hover {\n",
              "    background-color: var(--disabled-bg-color);\n",
              "    fill: var(--disabled-fill-color);\n",
              "    box-shadow: none;\n",
              "  }\n",
              "\n",
              "  .colab-df-spinner {\n",
              "    border: 2px solid var(--fill-color);\n",
              "    border-color: transparent;\n",
              "    border-bottom-color: var(--fill-color);\n",
              "    animation:\n",
              "      spin 1s steps(1) infinite;\n",
              "  }\n",
              "\n",
              "  @keyframes spin {\n",
              "    0% {\n",
              "      border-color: transparent;\n",
              "      border-bottom-color: var(--fill-color);\n",
              "      border-left-color: var(--fill-color);\n",
              "    }\n",
              "    20% {\n",
              "      border-color: transparent;\n",
              "      border-left-color: var(--fill-color);\n",
              "      border-top-color: var(--fill-color);\n",
              "    }\n",
              "    30% {\n",
              "      border-color: transparent;\n",
              "      border-left-color: var(--fill-color);\n",
              "      border-top-color: var(--fill-color);\n",
              "      border-right-color: var(--fill-color);\n",
              "    }\n",
              "    40% {\n",
              "      border-color: transparent;\n",
              "      border-right-color: var(--fill-color);\n",
              "      border-top-color: var(--fill-color);\n",
              "    }\n",
              "    60% {\n",
              "      border-color: transparent;\n",
              "      border-right-color: var(--fill-color);\n",
              "    }\n",
              "    80% {\n",
              "      border-color: transparent;\n",
              "      border-right-color: var(--fill-color);\n",
              "      border-bottom-color: var(--fill-color);\n",
              "    }\n",
              "    90% {\n",
              "      border-color: transparent;\n",
              "      border-bottom-color: var(--fill-color);\n",
              "    }\n",
              "  }\n",
              "</style>\n",
              "\n",
              "  <script>\n",
              "    async function quickchart(key) {\n",
              "      const quickchartButtonEl =\n",
              "        document.querySelector('#' + key + ' button');\n",
              "      quickchartButtonEl.disabled = true;  // To prevent multiple clicks.\n",
              "      quickchartButtonEl.classList.add('colab-df-spinner');\n",
              "      try {\n",
              "        const charts = await google.colab.kernel.invokeFunction(\n",
              "            'suggestCharts', [key], {});\n",
              "      } catch (error) {\n",
              "        console.error('Error during call to suggestCharts:', error);\n",
              "      }\n",
              "      quickchartButtonEl.classList.remove('colab-df-spinner');\n",
              "      quickchartButtonEl.classList.add('colab-df-quickchart-complete');\n",
              "    }\n",
              "    (() => {\n",
              "      let quickchartButtonEl =\n",
              "        document.querySelector('#df-a563ead9-eea4-4f53-8add-b0024696614d button');\n",
              "      quickchartButtonEl.style.display =\n",
              "        google.colab.kernel.accessAllowed ? 'block' : 'none';\n",
              "    })();\n",
              "  </script>\n",
              "</div>\n",
              "    </div>\n",
              "  </div>\n"
            ],
            "text/plain": [
              "                                                   Title  \\\n",
              "35083  Expression of N-methyl-d-aspartate receptor 1 ...   \n",
              "9005   Protection of pregnant swine by vaccination ag...   \n",
              "23836  An examination of Escherichia coli strains iso...   \n",
              "\n",
              "                                            abstractText  \\\n",
              "35083  High levels of glutamate can be toxic to retin...   \n",
              "9005   The protection conferred on pregnant gilts by ...   \n",
              "23836  Ninety-five strains of Escherichia coli isolat...   \n",
              "\n",
              "                                               meshMajor      pmid  \\\n",
              "35083  ['Analysis of Variance', 'Animals', 'Cell Deat...  17942238   \n",
              "9005   ['Animals', 'Antibodies, Bacterial', 'Bacteria...   7150130   \n",
              "23836  ['Animals', 'Antigens', 'Antigens, Bacterial',...   6135266   \n",
              "\n",
              "                                                  meshid  \\\n",
              "35083  [['E05.318.740.150', 'N05.715.360.750.125', 'N...   \n",
              "9005   [['B01.050'], ['D12.776.124.486.485.114.107', ...   \n",
              "23836  [['B01.050'], ['D23.050'], ['D23.050.161'], ['...   \n",
              "\n",
              "                                                meshroot  A  B  C  D  ...  G  \\\n",
              "35083  ['Analytical, Diagnostic and Therapeutic Techn...  1  1  1  1  ...  1   \n",
              "9005   ['Organisms [B]', 'Chemicals and Drugs [D]', '...  0  1  1  1  ...  1   \n",
              "23836  ['Organisms [B]', 'Chemicals and Drugs [D]', '...  1  1  1  1  ...  1   \n",
              "\n",
              "       H  I  J  L  M  N  Z                                           Combined  \\\n",
              "35083  0  0  0  0  0  1  0  [Expression of N-methyl-d-aspartate receptor 1...   \n",
              "9005   0  0  0  0  0  1  0  [Protection of pregnant swine by vaccination a...   \n",
              "23836  0  0  0  0  0  0  0  [An examination of Escherichia coli strains is...   \n",
              "\n",
              "                                   one_hot_labels  \n",
              "35083  [1, 1, 1, 1, 1, 0, 1, 0, 0, 0, 0, 0, 1, 0]  \n",
              "9005   [0, 1, 1, 1, 1, 0, 1, 0, 0, 0, 0, 0, 1, 0]  \n",
              "23836  [1, 1, 1, 1, 0, 0, 1, 0, 0, 0, 0, 0, 0, 0]  \n",
              "\n",
              "[3 rows x 22 columns]"
            ]
          },
          "execution_count": 42,
          "metadata": {},
          "output_type": "execute_result"
        }
      ],
      "source": [
        "df_test['one_hot_labels'] = list(df_test[mesh_Heading_categories].values)\n",
        "df_test.head(3)"
      ]
    },
    {
      "cell_type": "code",
      "execution_count": null,
      "id": "2d9eb630",
      "metadata": {
        "execution": {
          "iopub.execute_input": "2023-05-25T11:07:20.170914Z",
          "iopub.status.busy": "2023-05-25T11:07:20.170331Z",
          "iopub.status.idle": "2023-05-25T11:07:20.177217Z",
          "shell.execute_reply": "2023-05-25T11:07:20.175959Z"
        },
        "id": "2d9eb630",
        "papermill": {
          "duration": 0.036173,
          "end_time": "2023-05-25T11:07:20.179300",
          "exception": false,
          "start_time": "2023-05-25T11:07:20.143127",
          "status": "completed"
        },
        "tags": []
      },
      "outputs": [],
      "source": [
        "test_labels = list(df_test.one_hot_labels.values)\n",
        "Articles_test = list(df_test.abstractText.values)\n",
        "test_mesh_categories = list(df_test.columns[6:20])"
      ]
    },
    {
      "cell_type": "code",
      "execution_count": null,
      "id": "cb560dbb",
      "metadata": {
        "execution": {
          "iopub.execute_input": "2023-05-25T11:07:20.233331Z",
          "iopub.status.busy": "2023-05-25T11:07:20.232553Z",
          "iopub.status.idle": "2023-05-25T11:08:58.512932Z",
          "shell.execute_reply": "2023-05-25T11:08:58.511890Z"
        },
        "id": "cb560dbb",
        "papermill": {
          "duration": 98.3104,
          "end_time": "2023-05-25T11:08:58.515582",
          "exception": false,
          "start_time": "2023-05-25T11:07:20.205182",
          "status": "completed"
        },
        "tags": []
      },
      "outputs": [],
      "source": [
        "# Encoding input data\n",
        "test_encodings = tokenizer.batch_encode_plus(Articles_test,max_length=max_length,padding=True,truncation=True)\n",
        "test_input_ids = test_encodings['input_ids']\n",
        "test_attention_masks = test_encodings['attention_mask']"
      ]
    },
    {
      "cell_type": "code",
      "execution_count": null,
      "id": "278a9719",
      "metadata": {
        "execution": {
          "iopub.execute_input": "2023-05-25T11:08:58.570817Z",
          "iopub.status.busy": "2023-05-25T11:08:58.570483Z",
          "iopub.status.idle": "2023-05-25T11:08:58.914447Z",
          "shell.execute_reply": "2023-05-25T11:08:58.913433Z"
        },
        "id": "278a9719",
        "papermill": {
          "duration": 0.374054,
          "end_time": "2023-05-25T11:08:58.916887",
          "exception": false,
          "start_time": "2023-05-25T11:08:58.542833",
          "status": "completed"
        },
        "tags": []
      },
      "outputs": [],
      "source": [
        "# Make tensors out of data\n",
        "test_inputs = torch.tensor(test_input_ids)\n",
        "test_labels = torch.tensor(test_labels)\n",
        "test_masks = torch.tensor(test_attention_masks)\n",
        "# Create test dataloader\n",
        "test_data = TensorDataset(test_inputs, test_masks, test_labels,)# test_token_types)\n",
        "test_sampler = SequentialSampler(test_data)\n",
        "test_dataloader = DataLoader(test_data, sampler=test_sampler, batch_size=batch_size)\n",
        "# Save test dataloader\n",
        "torch.save(test_dataloader,'test_data_loader')"
      ]
    },
    {
      "cell_type": "markdown",
      "id": "45253283",
      "metadata": {
        "id": "45253283",
        "papermill": {
          "duration": 0.027035,
          "end_time": "2023-05-25T11:08:58.971325",
          "exception": false,
          "start_time": "2023-05-25T11:08:58.944290",
          "status": "completed"
        },
        "tags": []
      },
      "source": [
        "<a id=\"9\"></a>\n",
        "## <p style=\"background-color:#1a0a36;font-family:newtimeroman;color:#FFF9ED;font-size:150%;text-align:center;border-radius:10px 10px;\"> Evaluating the model</p>\n",
        "#### [Top ↑](#top)"
      ]
    },
    {
      "cell_type": "code",
      "execution_count": null,
      "id": "12fb0058",
      "metadata": {
        "colab": {
          "base_uri": "https://localhost:8080/"
        },
        "execution": {
          "iopub.execute_input": "2023-05-25T11:08:59.025415Z",
          "iopub.status.busy": "2023-05-25T11:08:59.025054Z",
          "iopub.status.idle": "2023-05-25T11:09:33.605153Z",
          "shell.execute_reply": "2023-05-25T11:09:33.604068Z"
        },
        "id": "12fb0058",
        "outputId": "c3dc7f6c-323b-447b-e759-317f45ee65b7",
        "papermill": {
          "duration": 34.637108,
          "end_time": "2023-05-25T11:09:33.634681",
          "exception": false,
          "start_time": "2023-05-25T11:08:58.997573",
          "status": "completed"
        },
        "tags": []
      },
      "outputs": [
        {
          "name": "stdout",
          "output_type": "stream",
          "text": [
            "CPU times: user 1min 10s, sys: 113 ms, total: 1min 10s\n",
            "Wall time: 1min 11s\n"
          ]
        }
      ],
      "source": [
        "%%time\n",
        "\n",
        "# Test\n",
        "\n",
        "# Put model in evaluation mode to evaluate loss on the validation set\n",
        "model.eval()\n",
        "\n",
        "#track variables\n",
        "logit_preds,true_labels,pred_labels,tokenized_texts = [],[],[],[]\n",
        "\n",
        "# Predict\n",
        "for i, batch in enumerate(test_dataloader):\n",
        "    batch = tuple(t.to(device) for t in batch)\n",
        "    # Unpack the inputs from our dataloader\n",
        "    b_input_ids, b_input_mask, b_labels, = batch\n",
        "    with torch.no_grad():\n",
        "        # Forward pass\n",
        "        outs = model(b_input_ids, token_type_ids=None, attention_mask=b_input_mask)\n",
        "        b_logit_pred = outs[0]\n",
        "        pred_label = torch.sigmoid(b_logit_pred)\n",
        "\n",
        "        b_logit_pred = b_logit_pred.detach().cpu().numpy()\n",
        "        pred_label = pred_label.to('cpu').numpy()\n",
        "        b_labels = b_labels.to('cpu').numpy()\n",
        "\n",
        "    tokenized_texts.append(b_input_ids)\n",
        "    logit_preds.append(b_logit_pred)\n",
        "    true_labels.append(b_labels)\n",
        "    pred_labels.append(pred_label)\n",
        "\n",
        "# Flatten outputs\n",
        "tokenized_texts = [item for sublist in tokenized_texts for item in sublist]\n",
        "pred_labels = [item for sublist in pred_labels for item in sublist]\n",
        "true_labels = [item for sublist in true_labels for item in sublist]\n",
        "# Converting flattened binary values to boolean values\n",
        "true_bools = [tl==1 for tl in true_labels]"
      ]
    },
    {
      "cell_type": "markdown",
      "id": "f9d2affe",
      "metadata": {
        "id": "f9d2affe",
        "papermill": {
          "duration": 0.033551,
          "end_time": "2023-05-25T11:09:33.699342",
          "exception": false,
          "start_time": "2023-05-25T11:09:33.665791",
          "status": "completed"
        },
        "tags": []
      },
      "source": [
        "<a id=\"10\"></a>\n",
        "## <p style=\"background-color:#1a0a36;font-family:newtimeroman;color:#FFF9ED;font-size:150%;text-align:center;border-radius:10px 10px;\"> Classification Report</p>\n",
        "#### [Top ↑](#top)\n"
      ]
    },
    {
      "cell_type": "code",
      "execution_count": null,
      "id": "98c39d24",
      "metadata": {
        "colab": {
          "base_uri": "https://localhost:8080/"
        },
        "execution": {
          "iopub.execute_input": "2023-05-25T11:09:33.759393Z",
          "iopub.status.busy": "2023-05-25T11:09:33.759010Z",
          "iopub.status.idle": "2023-05-25T11:09:34.030943Z",
          "shell.execute_reply": "2023-05-25T11:09:34.029457Z"
        },
        "id": "98c39d24",
        "outputId": "37c62f07-64ff-41b8-a2eb-c84c7fe68f0f",
        "papermill": {
          "duration": 0.303174,
          "end_time": "2023-05-25T11:09:34.033807",
          "exception": false,
          "start_time": "2023-05-25T11:09:33.730633",
          "status": "completed"
        },
        "tags": []
      },
      "outputs": [
        {
          "name": "stdout",
          "output_type": "stream",
          "text": [
            "Test F1 Accuracy:  0.8532831647984114\n",
            "Test Flat Accuracy:  0.169 \n",
            "\n",
            "              precision    recall  f1-score   support\n",
            "\n",
            "           A       0.81      0.78      0.80      4609\n",
            "           B       0.96      0.99      0.97      9250\n",
            "           C       0.87      0.89      0.88      5206\n",
            "           D       0.93      0.92      0.92      6259\n",
            "           E       0.80      0.97      0.88      7778\n",
            "           F       0.79      0.77      0.78      1767\n",
            "           G       0.83      0.90      0.86      6799\n",
            "           H       0.60      0.16      0.25      1221\n",
            "           I       0.67      0.61      0.64      1068\n",
            "           J       0.75      0.48      0.59      1110\n",
            "           L       0.71      0.43      0.53      1491\n",
            "           M       0.86      0.92      0.89      4232\n",
            "           N       0.76      0.84      0.80      4602\n",
            "           Z       0.74      0.72      0.73      1558\n",
            "\n",
            "   micro avg       0.85      0.86      0.85     56950\n",
            "   macro avg       0.79      0.74      0.75     56950\n",
            "weighted avg       0.84      0.86      0.84     56950\n",
            " samples avg       0.85      0.87      0.84     56950\n",
            "\n"
          ]
        }
      ],
      "source": [
        "pred_bools = [pl>0.50 for pl in pred_labels] #boolean output after thresholding\n",
        "# Print and save classification report\n",
        "Test_F1_Accuracy=f1_score(true_bools, pred_bools,average='micro')\n",
        "Test_Flat_Accuracy= accuracy_score(true_bools, pred_bools)\n",
        "print('Test F1 Accuracy: ',Test_F1_Accuracy )\n",
        "print('Test Flat Accuracy: ',Test_Flat_Accuracy,'\\n')\n",
        "\n",
        "df_test=pd.DataFrame({'Test F1 Accuracy':Test_F1_Accuracy, 'Test Flat Accuracy':Test_Flat_Accuracy},index=[0])\n",
        "\n",
        "print(classification_report(true_bools,pred_bools,target_names=test_mesh_categories))\n",
        "clf_report = classification_report(true_bools,pred_bools,target_names=test_mesh_categories,output_dict=True)\n",
        "df_report=pd.DataFrame(clf_report).transpose()\n",
        "\n"
      ]
    },
    {
      "cell_type": "code",
      "execution_count": null,
      "id": "d280c653",
      "metadata": {
        "execution": {
          "iopub.execute_input": "2023-05-25T11:09:34.091929Z",
          "iopub.status.busy": "2023-05-25T11:09:34.091588Z",
          "iopub.status.idle": "2023-05-25T11:09:34.099658Z",
          "shell.execute_reply": "2023-05-25T11:09:34.098663Z"
        },
        "id": "d280c653",
        "papermill": {
          "duration": 0.039459,
          "end_time": "2023-05-25T11:09:34.102334",
          "exception": false,
          "start_time": "2023-05-25T11:09:34.062875",
          "status": "completed"
        },
        "tags": []
      },
      "outputs": [],
      "source": [
        "df_report.to_csv('Classification_Report.csv',index=False)"
      ]
    },
    {
      "cell_type": "code",
      "execution_count": null,
      "id": "c7bd671f",
      "metadata": {
        "colab": {
          "base_uri": "https://localhost:8080/"
        },
        "execution": {
          "iopub.execute_input": "2023-05-25T11:09:34.162444Z",
          "iopub.status.busy": "2023-05-25T11:09:34.162129Z",
          "iopub.status.idle": "2023-05-25T11:09:34.898423Z",
          "shell.execute_reply": "2023-05-25T11:09:34.897441Z"
        },
        "id": "c7bd671f",
        "outputId": "d736c69c-73ce-48be-8a93-26d66f580a31",
        "papermill": {
          "duration": 0.769451,
          "end_time": "2023-05-25T11:09:34.901002",
          "exception": false,
          "start_time": "2023-05-25T11:09:34.131551",
          "status": "completed"
        },
        "tags": []
      },
      "outputs": [
        {
          "data": {
            "text/plain": [
              "('./Multi_label_Classification_Save/tokenizer_config.json',\n",
              " './Multi_label_Classification_Save/special_tokens_map.json',\n",
              " './Multi_label_Classification_Save/vocab.txt',\n",
              " './Multi_label_Classification_Save/added_tokens.json')"
            ]
          },
          "execution_count": 49,
          "metadata": {},
          "output_type": "execute_result"
        }
      ],
      "source": [
        "model.save_pretrained('./Multi_label_Classification_Save/')\n",
        "tokenizer.save_pretrained('./Multi_label_Classification_Save/')"
      ]
    },
    {
      "cell_type": "code",
      "execution_count": null,
      "id": "afbfa586",
      "metadata": {
        "execution": {
          "iopub.execute_input": "2023-05-25T11:09:35.241446Z",
          "iopub.status.busy": "2023-05-25T11:09:35.240572Z",
          "iopub.status.idle": "2023-05-25T11:09:35.248980Z",
          "shell.execute_reply": "2023-05-25T11:09:35.248117Z"
        },
        "id": "afbfa586",
        "papermill": {
          "duration": 0.038445,
          "end_time": "2023-05-25T11:09:35.251119",
          "exception": false,
          "start_time": "2023-05-25T11:09:35.212674",
          "status": "completed"
        },
        "tags": []
      },
      "outputs": [],
      "source": [
        "#Converting Labels to categorical before pushing it to Hugging Face Hub\n",
        "model.config.label2id= {\n",
        "\"Anatomy [A]\": 0,\n",
        "\"Organisms [B]\": 1,\n",
        "\"Diseases [C]\": 2,\n",
        "\"Chemicals and Drugs [D]\": 3,\n",
        "\"Analytical, Diagnostic and Therapeutic Techniques, and Equipment [E]\": 4,\n",
        "\"Psychiatry and Psychology [F]\": 5,\n",
        "\"Phenomena and Processes [G]\": 6,\n",
        "\"Disciplines and Occupations [H]\": 7,\n",
        "\"Anthropology, Education, Sociology, and Social Phenomena [I]\": 8,\n",
        "\"Technology, Industry, and Agriculture [J]\": 9,\n",
        "\"Information Science [L]\": 10,\n",
        "\"Named Groups [M]\": 11,\n",
        "\"Health Care [N]\": 12,\n",
        "\"Geographicals [Z]\": 13,\n",
        "}\n",
        "\n",
        "\n",
        "model.config.id2label={\n",
        "    \"0\": \"Anatomy [A]\",\n",
        "    \"1\": \"Organisms [B]\",\n",
        "    \"2\": \"Diseases [C]\",\n",
        "    \"3\": \"Chemicals and Drugs [D]\",\n",
        "    \"4\": \"Analytical, Diagnostic and Therapeutic Techniques, and Equipment [E]\",\n",
        "    \"5\": \"Psychiatry and Psychology [F]\",\n",
        "    \"6\": \"Phenomena and Processes [G]\",\n",
        "    \"7\": \"Disciplines and Occupations [H]\",\n",
        "    \"8\": \"Anthropology, Education, Sociology, and Social Phenomena [I]\",\n",
        "    \"9\": \"Technology, Industry, and Agriculture [J]\",\n",
        "    \"10\": \"Information Science [L]\",\n",
        "    \"11\": \"Named Groups [M]\",\n",
        "    \"12\": \"Health Care [N]\",\n",
        "    \"13\": \"Geographicals [Z]\"\n",
        "}\n"
      ]
    }
  ],
  "metadata": {
    "accelerator": "GPU",
    "colab": {
      "gpuType": "T4",
      "provenance": []
    },
    "kernelspec": {
      "display_name": "Python 3",
      "name": "python3"
    },
    "language_info": {
      "codemirror_mode": {
        "name": "ipython",
        "version": 3
      },
      "file_extension": ".py",
      "mimetype": "text/x-python",
      "name": "python",
      "nbconvert_exporter": "python",
      "pygments_lexer": "ipython3",
      "version": "3.11.4"
    },
    "papermill": {
      "default_parameters": {},
      "duration": 2900.910192,
      "end_time": "2023-05-25T11:10:27.112067",
      "environment_variables": {},
      "exception": null,
      "input_path": "__notebook__.ipynb",
      "output_path": "__notebook__.ipynb",
      "parameters": {},
      "start_time": "2023-05-25T10:22:06.201875",
      "version": "2.3.4"
    },
    "widgets": {
      "application/vnd.jupyter.widget-state+json": {
        "16040ffa23fd450d92b3936259fdc330": {
          "model_module": "@jupyter-widgets/controls",
          "model_module_version": "1.5.0",
          "model_name": "HTMLModel",
          "state": {
            "_dom_classes": [],
            "_model_module": "@jupyter-widgets/controls",
            "_model_module_version": "1.5.0",
            "_model_name": "HTMLModel",
            "_view_count": null,
            "_view_module": "@jupyter-widgets/controls",
            "_view_module_version": "1.5.0",
            "_view_name": "HTMLView",
            "description": "",
            "description_tooltip": null,
            "layout": "IPY_MODEL_2c9bcf60f7bd4d839c35f93c5705ad75",
            "placeholder": "​",
            "style": "IPY_MODEL_bd81b21c5a5b4c749075d1aac56a730c",
            "value": " 433M/433M [00:33&lt;00:00, 13.8MB/s]"
          }
        },
        "1a88f6f6613048d1bfea28c40230925c": {
          "model_module": "@jupyter-widgets/controls",
          "model_module_version": "1.5.0",
          "model_name": "DescriptionStyleModel",
          "state": {
            "_model_module": "@jupyter-widgets/controls",
            "_model_module_version": "1.5.0",
            "_model_name": "DescriptionStyleModel",
            "_view_count": null,
            "_view_module": "@jupyter-widgets/base",
            "_view_module_version": "1.2.0",
            "_view_name": "StyleView",
            "description_width": ""
          }
        },
        "1b1b9c1c01e54e45a28bbfd9ef9efbb2": {
          "model_module": "@jupyter-widgets/controls",
          "model_module_version": "1.5.0",
          "model_name": "ProgressStyleModel",
          "state": {
            "_model_module": "@jupyter-widgets/controls",
            "_model_module_version": "1.5.0",
            "_model_name": "ProgressStyleModel",
            "_view_count": null,
            "_view_module": "@jupyter-widgets/base",
            "_view_module_version": "1.2.0",
            "_view_name": "StyleView",
            "bar_color": null,
            "description_width": ""
          }
        },
        "20426479d5a14f4d92a79a674b769143": {
          "model_module": "@jupyter-widgets/controls",
          "model_module_version": "1.5.0",
          "model_name": "HTMLModel",
          "state": {
            "_dom_classes": [],
            "_model_module": "@jupyter-widgets/controls",
            "_model_module_version": "1.5.0",
            "_model_name": "HTMLModel",
            "_view_count": null,
            "_view_module": "@jupyter-widgets/controls",
            "_view_module_version": "1.5.0",
            "_view_name": "HTMLView",
            "description": "",
            "description_tooltip": null,
            "layout": "IPY_MODEL_a3a85e1f72b8410ea80e85fb601a410b",
            "placeholder": "​",
            "style": "IPY_MODEL_2d4005307ae74bb4ad30ad54be376d47",
            "value": "Downloading (…)lve/main/config.json: 100%"
          }
        },
        "246ae10f62a64106bd6a5d1270d8d9eb": {
          "model_module": "@jupyter-widgets/base",
          "model_module_version": "1.2.0",
          "model_name": "LayoutModel",
          "state": {
            "_model_module": "@jupyter-widgets/base",
            "_model_module_version": "1.2.0",
            "_model_name": "LayoutModel",
            "_view_count": null,
            "_view_module": "@jupyter-widgets/base",
            "_view_module_version": "1.2.0",
            "_view_name": "LayoutView",
            "align_content": null,
            "align_items": null,
            "align_self": null,
            "border": null,
            "bottom": null,
            "display": null,
            "flex": null,
            "flex_flow": null,
            "grid_area": null,
            "grid_auto_columns": null,
            "grid_auto_flow": null,
            "grid_auto_rows": null,
            "grid_column": null,
            "grid_gap": null,
            "grid_row": null,
            "grid_template_areas": null,
            "grid_template_columns": null,
            "grid_template_rows": null,
            "height": null,
            "justify_content": null,
            "justify_items": null,
            "left": null,
            "margin": null,
            "max_height": null,
            "max_width": null,
            "min_height": null,
            "min_width": null,
            "object_fit": null,
            "object_position": null,
            "order": null,
            "overflow": null,
            "overflow_x": null,
            "overflow_y": null,
            "padding": null,
            "right": null,
            "top": null,
            "visibility": null,
            "width": null
          }
        },
        "246eadc7ac9c48c9b42b9920c652fbfb": {
          "model_module": "@jupyter-widgets/controls",
          "model_module_version": "1.5.0",
          "model_name": "ProgressStyleModel",
          "state": {
            "_model_module": "@jupyter-widgets/controls",
            "_model_module_version": "1.5.0",
            "_model_name": "ProgressStyleModel",
            "_view_count": null,
            "_view_module": "@jupyter-widgets/base",
            "_view_module_version": "1.2.0",
            "_view_name": "StyleView",
            "bar_color": null,
            "description_width": ""
          }
        },
        "24d6053c76d248979c1ab1d1b157442b": {
          "model_module": "@jupyter-widgets/base",
          "model_module_version": "1.2.0",
          "model_name": "LayoutModel",
          "state": {
            "_model_module": "@jupyter-widgets/base",
            "_model_module_version": "1.2.0",
            "_model_name": "LayoutModel",
            "_view_count": null,
            "_view_module": "@jupyter-widgets/base",
            "_view_module_version": "1.2.0",
            "_view_name": "LayoutView",
            "align_content": null,
            "align_items": null,
            "align_self": null,
            "border": null,
            "bottom": null,
            "display": null,
            "flex": null,
            "flex_flow": null,
            "grid_area": null,
            "grid_auto_columns": null,
            "grid_auto_flow": null,
            "grid_auto_rows": null,
            "grid_column": null,
            "grid_gap": null,
            "grid_row": null,
            "grid_template_areas": null,
            "grid_template_columns": null,
            "grid_template_rows": null,
            "height": null,
            "justify_content": null,
            "justify_items": null,
            "left": null,
            "margin": null,
            "max_height": null,
            "max_width": null,
            "min_height": null,
            "min_width": null,
            "object_fit": null,
            "object_position": null,
            "order": null,
            "overflow": null,
            "overflow_x": null,
            "overflow_y": null,
            "padding": null,
            "right": null,
            "top": null,
            "visibility": null,
            "width": null
          }
        },
        "25e54af8d4764bb9a25f9f96428d2cd9": {
          "model_module": "@jupyter-widgets/controls",
          "model_module_version": "1.5.0",
          "model_name": "FloatProgressModel",
          "state": {
            "_dom_classes": [],
            "_model_module": "@jupyter-widgets/controls",
            "_model_module_version": "1.5.0",
            "_model_name": "FloatProgressModel",
            "_view_count": null,
            "_view_module": "@jupyter-widgets/controls",
            "_view_module_version": "1.5.0",
            "_view_name": "ProgressView",
            "bar_style": "success",
            "description": "",
            "description_tooltip": null,
            "layout": "IPY_MODEL_51aecbd8be164eb290a87e0d0c4e57d9",
            "max": 1814,
            "min": 0,
            "orientation": "horizontal",
            "style": "IPY_MODEL_1b1b9c1c01e54e45a28bbfd9ef9efbb2",
            "value": 1814
          }
        },
        "273ad035de0e42a1a723af9a05250bd7": {
          "model_module": "@jupyter-widgets/controls",
          "model_module_version": "1.5.0",
          "model_name": "FloatProgressModel",
          "state": {
            "_dom_classes": [],
            "_model_module": "@jupyter-widgets/controls",
            "_model_module_version": "1.5.0",
            "_model_name": "FloatProgressModel",
            "_view_count": null,
            "_view_module": "@jupyter-widgets/controls",
            "_view_module_version": "1.5.0",
            "_view_name": "ProgressView",
            "bar_style": "success",
            "description": "",
            "description_tooltip": null,
            "layout": "IPY_MODEL_4d54524b11464d55b03abfac3a886212",
            "max": 435783451,
            "min": 0,
            "orientation": "horizontal",
            "style": "IPY_MODEL_6c71ccb1adf945a481de8c00edcf8e8c",
            "value": 435783451
          }
        },
        "2b53643ee3384dbca04e12724e9fabba": {
          "model_module": "@jupyter-widgets/base",
          "model_module_version": "1.2.0",
          "model_name": "LayoutModel",
          "state": {
            "_model_module": "@jupyter-widgets/base",
            "_model_module_version": "1.2.0",
            "_model_name": "LayoutModel",
            "_view_count": null,
            "_view_module": "@jupyter-widgets/base",
            "_view_module_version": "1.2.0",
            "_view_name": "LayoutView",
            "align_content": null,
            "align_items": null,
            "align_self": null,
            "border": null,
            "bottom": null,
            "display": null,
            "flex": null,
            "flex_flow": null,
            "grid_area": null,
            "grid_auto_columns": null,
            "grid_auto_flow": null,
            "grid_auto_rows": null,
            "grid_column": null,
            "grid_gap": null,
            "grid_row": null,
            "grid_template_areas": null,
            "grid_template_columns": null,
            "grid_template_rows": null,
            "height": null,
            "justify_content": null,
            "justify_items": null,
            "left": null,
            "margin": null,
            "max_height": null,
            "max_width": null,
            "min_height": null,
            "min_width": null,
            "object_fit": null,
            "object_position": null,
            "order": null,
            "overflow": null,
            "overflow_x": null,
            "overflow_y": null,
            "padding": null,
            "right": null,
            "top": null,
            "visibility": null,
            "width": null
          }
        },
        "2c9bcf60f7bd4d839c35f93c5705ad75": {
          "model_module": "@jupyter-widgets/base",
          "model_module_version": "1.2.0",
          "model_name": "LayoutModel",
          "state": {
            "_model_module": "@jupyter-widgets/base",
            "_model_module_version": "1.2.0",
            "_model_name": "LayoutModel",
            "_view_count": null,
            "_view_module": "@jupyter-widgets/base",
            "_view_module_version": "1.2.0",
            "_view_name": "LayoutView",
            "align_content": null,
            "align_items": null,
            "align_self": null,
            "border": null,
            "bottom": null,
            "display": null,
            "flex": null,
            "flex_flow": null,
            "grid_area": null,
            "grid_auto_columns": null,
            "grid_auto_flow": null,
            "grid_auto_rows": null,
            "grid_column": null,
            "grid_gap": null,
            "grid_row": null,
            "grid_template_areas": null,
            "grid_template_columns": null,
            "grid_template_rows": null,
            "height": null,
            "justify_content": null,
            "justify_items": null,
            "left": null,
            "margin": null,
            "max_height": null,
            "max_width": null,
            "min_height": null,
            "min_width": null,
            "object_fit": null,
            "object_position": null,
            "order": null,
            "overflow": null,
            "overflow_x": null,
            "overflow_y": null,
            "padding": null,
            "right": null,
            "top": null,
            "visibility": null,
            "width": null
          }
        },
        "2d4005307ae74bb4ad30ad54be376d47": {
          "model_module": "@jupyter-widgets/controls",
          "model_module_version": "1.5.0",
          "model_name": "DescriptionStyleModel",
          "state": {
            "_model_module": "@jupyter-widgets/controls",
            "_model_module_version": "1.5.0",
            "_model_name": "DescriptionStyleModel",
            "_view_count": null,
            "_view_module": "@jupyter-widgets/base",
            "_view_module_version": "1.2.0",
            "_view_name": "StyleView",
            "description_width": ""
          }
        },
        "3023ab1116364a6eb88030502023ad9f": {
          "model_module": "@jupyter-widgets/controls",
          "model_module_version": "1.5.0",
          "model_name": "DescriptionStyleModel",
          "state": {
            "_model_module": "@jupyter-widgets/controls",
            "_model_module_version": "1.5.0",
            "_model_name": "DescriptionStyleModel",
            "_view_count": null,
            "_view_module": "@jupyter-widgets/base",
            "_view_module_version": "1.2.0",
            "_view_name": "StyleView",
            "description_width": ""
          }
        },
        "360f622b0bc04c7dba0f8d5f24e4f257": {
          "model_module": "@jupyter-widgets/controls",
          "model_module_version": "1.5.0",
          "model_name": "HTMLModel",
          "state": {
            "_dom_classes": [],
            "_model_module": "@jupyter-widgets/controls",
            "_model_module_version": "1.5.0",
            "_model_name": "HTMLModel",
            "_view_count": null,
            "_view_module": "@jupyter-widgets/controls",
            "_view_module_version": "1.5.0",
            "_view_name": "HTMLView",
            "description": "",
            "description_tooltip": null,
            "layout": "IPY_MODEL_545a47a081b440609d9c28af5d723828",
            "placeholder": "​",
            "style": "IPY_MODEL_9d4e27ae26fa461e91ad0edd78f28c42",
            "value": "Downloading pytorch_model.bin: 100%"
          }
        },
        "3a6e15a84ef34415a150e8cb084af878": {
          "model_module": "@jupyter-widgets/controls",
          "model_module_version": "1.5.0",
          "model_name": "FloatProgressModel",
          "state": {
            "_dom_classes": [],
            "_model_module": "@jupyter-widgets/controls",
            "_model_module_version": "1.5.0",
            "_model_name": "FloatProgressModel",
            "_view_count": null,
            "_view_module": "@jupyter-widgets/controls",
            "_view_module_version": "1.5.0",
            "_view_name": "ProgressView",
            "bar_style": "",
            "description": "",
            "description_tooltip": null,
            "layout": "IPY_MODEL_9c2c642fbf7f49d88a69a483f9261bf2",
            "max": 1,
            "min": 0,
            "orientation": "horizontal",
            "style": "IPY_MODEL_f4b9661fb1f448c89670b88013298d07",
            "value": 1
          }
        },
        "42aaedb0fc90481bbac3f63920de592e": {
          "model_module": "@jupyter-widgets/base",
          "model_module_version": "1.2.0",
          "model_name": "LayoutModel",
          "state": {
            "_model_module": "@jupyter-widgets/base",
            "_model_module_version": "1.2.0",
            "_model_name": "LayoutModel",
            "_view_count": null,
            "_view_module": "@jupyter-widgets/base",
            "_view_module_version": "1.2.0",
            "_view_name": "LayoutView",
            "align_content": null,
            "align_items": null,
            "align_self": null,
            "border": null,
            "bottom": null,
            "display": null,
            "flex": null,
            "flex_flow": null,
            "grid_area": null,
            "grid_auto_columns": null,
            "grid_auto_flow": null,
            "grid_auto_rows": null,
            "grid_column": null,
            "grid_gap": null,
            "grid_row": null,
            "grid_template_areas": null,
            "grid_template_columns": null,
            "grid_template_rows": null,
            "height": null,
            "justify_content": null,
            "justify_items": null,
            "left": null,
            "margin": null,
            "max_height": null,
            "max_width": null,
            "min_height": null,
            "min_width": null,
            "object_fit": null,
            "object_position": null,
            "order": null,
            "overflow": null,
            "overflow_x": null,
            "overflow_y": null,
            "padding": null,
            "right": null,
            "top": null,
            "visibility": null,
            "width": null
          }
        },
        "44d9458c76284128b56a102ddfb8a198": {
          "model_module": "@jupyter-widgets/base",
          "model_module_version": "1.2.0",
          "model_name": "LayoutModel",
          "state": {
            "_model_module": "@jupyter-widgets/base",
            "_model_module_version": "1.2.0",
            "_model_name": "LayoutModel",
            "_view_count": null,
            "_view_module": "@jupyter-widgets/base",
            "_view_module_version": "1.2.0",
            "_view_name": "LayoutView",
            "align_content": null,
            "align_items": null,
            "align_self": null,
            "border": null,
            "bottom": null,
            "display": null,
            "flex": null,
            "flex_flow": null,
            "grid_area": null,
            "grid_auto_columns": null,
            "grid_auto_flow": null,
            "grid_auto_rows": null,
            "grid_column": null,
            "grid_gap": null,
            "grid_row": null,
            "grid_template_areas": null,
            "grid_template_columns": null,
            "grid_template_rows": null,
            "height": null,
            "justify_content": null,
            "justify_items": null,
            "left": null,
            "margin": null,
            "max_height": null,
            "max_width": null,
            "min_height": null,
            "min_width": null,
            "object_fit": null,
            "object_position": null,
            "order": null,
            "overflow": null,
            "overflow_x": null,
            "overflow_y": null,
            "padding": null,
            "right": null,
            "top": null,
            "visibility": null,
            "width": null
          }
        },
        "463ae3e95b694f61892a68d73efc971c": {
          "model_module": "@jupyter-widgets/controls",
          "model_module_version": "1.5.0",
          "model_name": "HTMLModel",
          "state": {
            "_dom_classes": [],
            "_model_module": "@jupyter-widgets/controls",
            "_model_module_version": "1.5.0",
            "_model_name": "HTMLModel",
            "_view_count": null,
            "_view_module": "@jupyter-widgets/controls",
            "_view_module_version": "1.5.0",
            "_view_name": "HTMLView",
            "description": "",
            "description_tooltip": null,
            "layout": "IPY_MODEL_2b53643ee3384dbca04e12724e9fabba",
            "placeholder": "​",
            "style": "IPY_MODEL_52c9a02c1add44438d2ece7e276cffd3",
            "value": "Downloading (…)solve/main/vocab.txt: 100%"
          }
        },
        "49020004634042c497c11f1ed4bec5e6": {
          "model_module": "@jupyter-widgets/base",
          "model_module_version": "1.2.0",
          "model_name": "LayoutModel",
          "state": {
            "_model_module": "@jupyter-widgets/base",
            "_model_module_version": "1.2.0",
            "_model_name": "LayoutModel",
            "_view_count": null,
            "_view_module": "@jupyter-widgets/base",
            "_view_module_version": "1.2.0",
            "_view_name": "LayoutView",
            "align_content": null,
            "align_items": null,
            "align_self": null,
            "border": null,
            "bottom": null,
            "display": null,
            "flex": null,
            "flex_flow": null,
            "grid_area": null,
            "grid_auto_columns": null,
            "grid_auto_flow": null,
            "grid_auto_rows": null,
            "grid_column": null,
            "grid_gap": null,
            "grid_row": null,
            "grid_template_areas": null,
            "grid_template_columns": null,
            "grid_template_rows": null,
            "height": null,
            "justify_content": null,
            "justify_items": null,
            "left": null,
            "margin": null,
            "max_height": null,
            "max_width": null,
            "min_height": null,
            "min_width": null,
            "object_fit": null,
            "object_position": null,
            "order": null,
            "overflow": null,
            "overflow_x": null,
            "overflow_y": null,
            "padding": null,
            "right": null,
            "top": null,
            "visibility": null,
            "width": null
          }
        },
        "4d54524b11464d55b03abfac3a886212": {
          "model_module": "@jupyter-widgets/base",
          "model_module_version": "1.2.0",
          "model_name": "LayoutModel",
          "state": {
            "_model_module": "@jupyter-widgets/base",
            "_model_module_version": "1.2.0",
            "_model_name": "LayoutModel",
            "_view_count": null,
            "_view_module": "@jupyter-widgets/base",
            "_view_module_version": "1.2.0",
            "_view_name": "LayoutView",
            "align_content": null,
            "align_items": null,
            "align_self": null,
            "border": null,
            "bottom": null,
            "display": null,
            "flex": null,
            "flex_flow": null,
            "grid_area": null,
            "grid_auto_columns": null,
            "grid_auto_flow": null,
            "grid_auto_rows": null,
            "grid_column": null,
            "grid_gap": null,
            "grid_row": null,
            "grid_template_areas": null,
            "grid_template_columns": null,
            "grid_template_rows": null,
            "height": null,
            "justify_content": null,
            "justify_items": null,
            "left": null,
            "margin": null,
            "max_height": null,
            "max_width": null,
            "min_height": null,
            "min_width": null,
            "object_fit": null,
            "object_position": null,
            "order": null,
            "overflow": null,
            "overflow_x": null,
            "overflow_y": null,
            "padding": null,
            "right": null,
            "top": null,
            "visibility": null,
            "width": null
          }
        },
        "51aecbd8be164eb290a87e0d0c4e57d9": {
          "model_module": "@jupyter-widgets/base",
          "model_module_version": "1.2.0",
          "model_name": "LayoutModel",
          "state": {
            "_model_module": "@jupyter-widgets/base",
            "_model_module_version": "1.2.0",
            "_model_name": "LayoutModel",
            "_view_count": null,
            "_view_module": "@jupyter-widgets/base",
            "_view_module_version": "1.2.0",
            "_view_name": "LayoutView",
            "align_content": null,
            "align_items": null,
            "align_self": null,
            "border": null,
            "bottom": null,
            "display": null,
            "flex": null,
            "flex_flow": null,
            "grid_area": null,
            "grid_auto_columns": null,
            "grid_auto_flow": null,
            "grid_auto_rows": null,
            "grid_column": null,
            "grid_gap": null,
            "grid_row": null,
            "grid_template_areas": null,
            "grid_template_columns": null,
            "grid_template_rows": null,
            "height": null,
            "justify_content": null,
            "justify_items": null,
            "left": null,
            "margin": null,
            "max_height": null,
            "max_width": null,
            "min_height": null,
            "min_width": null,
            "object_fit": null,
            "object_position": null,
            "order": null,
            "overflow": null,
            "overflow_x": null,
            "overflow_y": null,
            "padding": null,
            "right": null,
            "top": null,
            "visibility": null,
            "width": null
          }
        },
        "52c9a02c1add44438d2ece7e276cffd3": {
          "model_module": "@jupyter-widgets/controls",
          "model_module_version": "1.5.0",
          "model_name": "DescriptionStyleModel",
          "state": {
            "_model_module": "@jupyter-widgets/controls",
            "_model_module_version": "1.5.0",
            "_model_name": "DescriptionStyleModel",
            "_view_count": null,
            "_view_module": "@jupyter-widgets/base",
            "_view_module_version": "1.2.0",
            "_view_name": "StyleView",
            "description_width": ""
          }
        },
        "545a47a081b440609d9c28af5d723828": {
          "model_module": "@jupyter-widgets/base",
          "model_module_version": "1.2.0",
          "model_name": "LayoutModel",
          "state": {
            "_model_module": "@jupyter-widgets/base",
            "_model_module_version": "1.2.0",
            "_model_name": "LayoutModel",
            "_view_count": null,
            "_view_module": "@jupyter-widgets/base",
            "_view_module_version": "1.2.0",
            "_view_name": "LayoutView",
            "align_content": null,
            "align_items": null,
            "align_self": null,
            "border": null,
            "bottom": null,
            "display": null,
            "flex": null,
            "flex_flow": null,
            "grid_area": null,
            "grid_auto_columns": null,
            "grid_auto_flow": null,
            "grid_auto_rows": null,
            "grid_column": null,
            "grid_gap": null,
            "grid_row": null,
            "grid_template_areas": null,
            "grid_template_columns": null,
            "grid_template_rows": null,
            "height": null,
            "justify_content": null,
            "justify_items": null,
            "left": null,
            "margin": null,
            "max_height": null,
            "max_width": null,
            "min_height": null,
            "min_width": null,
            "object_fit": null,
            "object_position": null,
            "order": null,
            "overflow": null,
            "overflow_x": null,
            "overflow_y": null,
            "padding": null,
            "right": null,
            "top": null,
            "visibility": null,
            "width": null
          }
        },
        "5901243fb0ee4ac6bca9562c0644cf4d": {
          "model_module": "@jupyter-widgets/controls",
          "model_module_version": "1.5.0",
          "model_name": "HBoxModel",
          "state": {
            "_dom_classes": [],
            "_model_module": "@jupyter-widgets/controls",
            "_model_module_version": "1.5.0",
            "_model_name": "HBoxModel",
            "_view_count": null,
            "_view_module": "@jupyter-widgets/controls",
            "_view_module_version": "1.5.0",
            "_view_name": "HBoxView",
            "box_style": "",
            "children": [
              "IPY_MODEL_5b5684752db6417897507b3803c47975",
              "IPY_MODEL_273ad035de0e42a1a723af9a05250bd7",
              "IPY_MODEL_97b76b4d5add4f82b7b36ab5fbbcc8c7"
            ],
            "layout": "IPY_MODEL_246ae10f62a64106bd6a5d1270d8d9eb"
          }
        },
        "5b5684752db6417897507b3803c47975": {
          "model_module": "@jupyter-widgets/controls",
          "model_module_version": "1.5.0",
          "model_name": "HTMLModel",
          "state": {
            "_dom_classes": [],
            "_model_module": "@jupyter-widgets/controls",
            "_model_module_version": "1.5.0",
            "_model_name": "HTMLModel",
            "_view_count": null,
            "_view_module": "@jupyter-widgets/controls",
            "_view_module_version": "1.5.0",
            "_view_name": "HTMLView",
            "description": "",
            "description_tooltip": null,
            "layout": "IPY_MODEL_7e6995a8965d4a268c12097cff68f7da",
            "placeholder": "​",
            "style": "IPY_MODEL_74e80107423b46f6acbcdb3632f1f30e",
            "value": "Downloading pytorch_model.bin: 100%"
          }
        },
        "642ff23f52d2407c93eeeb1edf4aae52": {
          "model_module": "@jupyter-widgets/base",
          "model_module_version": "1.2.0",
          "model_name": "LayoutModel",
          "state": {
            "_model_module": "@jupyter-widgets/base",
            "_model_module_version": "1.2.0",
            "_model_name": "LayoutModel",
            "_view_count": null,
            "_view_module": "@jupyter-widgets/base",
            "_view_module_version": "1.2.0",
            "_view_name": "LayoutView",
            "align_content": null,
            "align_items": null,
            "align_self": null,
            "border": null,
            "bottom": null,
            "display": null,
            "flex": null,
            "flex_flow": null,
            "grid_area": null,
            "grid_auto_columns": null,
            "grid_auto_flow": null,
            "grid_auto_rows": null,
            "grid_column": null,
            "grid_gap": null,
            "grid_row": null,
            "grid_template_areas": null,
            "grid_template_columns": null,
            "grid_template_rows": null,
            "height": null,
            "justify_content": null,
            "justify_items": null,
            "left": null,
            "margin": null,
            "max_height": null,
            "max_width": null,
            "min_height": null,
            "min_width": null,
            "object_fit": null,
            "object_position": null,
            "order": null,
            "overflow": null,
            "overflow_x": null,
            "overflow_y": null,
            "padding": null,
            "right": null,
            "top": null,
            "visibility": null,
            "width": null
          }
        },
        "65b05e42c7d94b0395e6cc41d962a548": {
          "model_module": "@jupyter-widgets/controls",
          "model_module_version": "1.5.0",
          "model_name": "FloatProgressModel",
          "state": {
            "_dom_classes": [],
            "_model_module": "@jupyter-widgets/controls",
            "_model_module_version": "1.5.0",
            "_model_name": "FloatProgressModel",
            "_view_count": null,
            "_view_module": "@jupyter-widgets/controls",
            "_view_module_version": "1.5.0",
            "_view_name": "ProgressView",
            "bar_style": "success",
            "description": "",
            "description_tooltip": null,
            "layout": "IPY_MODEL_bfc82cf35449485585d1edd8bb6cc296",
            "max": 433355117,
            "min": 0,
            "orientation": "horizontal",
            "style": "IPY_MODEL_246eadc7ac9c48c9b42b9920c652fbfb",
            "value": 433355117
          }
        },
        "6a7ef71c4ece4bca8c416c7eac1563f4": {
          "model_module": "@jupyter-widgets/controls",
          "model_module_version": "1.5.0",
          "model_name": "HTMLModel",
          "state": {
            "_dom_classes": [],
            "_model_module": "@jupyter-widgets/controls",
            "_model_module_version": "1.5.0",
            "_model_name": "HTMLModel",
            "_view_count": null,
            "_view_module": "@jupyter-widgets/controls",
            "_view_module_version": "1.5.0",
            "_view_name": "HTMLView",
            "description": "",
            "description_tooltip": null,
            "layout": "IPY_MODEL_24d6053c76d248979c1ab1d1b157442b",
            "placeholder": "​",
            "style": "IPY_MODEL_f529e2bd9b6b439da030df6f8a81f8e5",
            "value": " 213k/213k [00:00&lt;00:00, 8.07MB/s]"
          }
        },
        "6c71ccb1adf945a481de8c00edcf8e8c": {
          "model_module": "@jupyter-widgets/controls",
          "model_module_version": "1.5.0",
          "model_name": "ProgressStyleModel",
          "state": {
            "_model_module": "@jupyter-widgets/controls",
            "_model_module_version": "1.5.0",
            "_model_name": "ProgressStyleModel",
            "_view_count": null,
            "_view_module": "@jupyter-widgets/base",
            "_view_module_version": "1.2.0",
            "_view_name": "StyleView",
            "bar_color": null,
            "description_width": ""
          }
        },
        "74e80107423b46f6acbcdb3632f1f30e": {
          "model_module": "@jupyter-widgets/controls",
          "model_module_version": "1.5.0",
          "model_name": "DescriptionStyleModel",
          "state": {
            "_model_module": "@jupyter-widgets/controls",
            "_model_module_version": "1.5.0",
            "_model_name": "DescriptionStyleModel",
            "_view_count": null,
            "_view_module": "@jupyter-widgets/base",
            "_view_module_version": "1.2.0",
            "_view_name": "StyleView",
            "description_width": ""
          }
        },
        "7e165a628c4245ea93a7e83956cb1c8e": {
          "model_module": "@jupyter-widgets/controls",
          "model_module_version": "1.5.0",
          "model_name": "HBoxModel",
          "state": {
            "_dom_classes": [],
            "_model_module": "@jupyter-widgets/controls",
            "_model_module_version": "1.5.0",
            "_model_name": "HBoxModel",
            "_view_count": null,
            "_view_module": "@jupyter-widgets/controls",
            "_view_module_version": "1.5.0",
            "_view_name": "HBoxView",
            "box_style": "",
            "children": [
              "IPY_MODEL_20426479d5a14f4d92a79a674b769143",
              "IPY_MODEL_cb5c0757e440403e937d5a47159b3d50",
              "IPY_MODEL_e079d077e969488e81cad08718eb239c"
            ],
            "layout": "IPY_MODEL_95fdcb7824344c539b378c174e512667"
          }
        },
        "7e6995a8965d4a268c12097cff68f7da": {
          "model_module": "@jupyter-widgets/base",
          "model_module_version": "1.2.0",
          "model_name": "LayoutModel",
          "state": {
            "_model_module": "@jupyter-widgets/base",
            "_model_module_version": "1.2.0",
            "_model_name": "LayoutModel",
            "_view_count": null,
            "_view_module": "@jupyter-widgets/base",
            "_view_module_version": "1.2.0",
            "_view_name": "LayoutView",
            "align_content": null,
            "align_items": null,
            "align_self": null,
            "border": null,
            "bottom": null,
            "display": null,
            "flex": null,
            "flex_flow": null,
            "grid_area": null,
            "grid_auto_columns": null,
            "grid_auto_flow": null,
            "grid_auto_rows": null,
            "grid_column": null,
            "grid_gap": null,
            "grid_row": null,
            "grid_template_areas": null,
            "grid_template_columns": null,
            "grid_template_rows": null,
            "height": null,
            "justify_content": null,
            "justify_items": null,
            "left": null,
            "margin": null,
            "max_height": null,
            "max_width": null,
            "min_height": null,
            "min_width": null,
            "object_fit": null,
            "object_position": null,
            "order": null,
            "overflow": null,
            "overflow_x": null,
            "overflow_y": null,
            "padding": null,
            "right": null,
            "top": null,
            "visibility": null,
            "width": null
          }
        },
        "82e01dd3357e44a081bacbcd7c1184a6": {
          "model_module": "@jupyter-widgets/controls",
          "model_module_version": "1.5.0",
          "model_name": "ProgressStyleModel",
          "state": {
            "_model_module": "@jupyter-widgets/controls",
            "_model_module_version": "1.5.0",
            "_model_name": "ProgressStyleModel",
            "_view_count": null,
            "_view_module": "@jupyter-widgets/base",
            "_view_module_version": "1.2.0",
            "_view_name": "StyleView",
            "bar_color": null,
            "description_width": ""
          }
        },
        "847f6b0794ac43868173c8a9ddc1b604": {
          "model_module": "@jupyter-widgets/base",
          "model_module_version": "1.2.0",
          "model_name": "LayoutModel",
          "state": {
            "_model_module": "@jupyter-widgets/base",
            "_model_module_version": "1.2.0",
            "_model_name": "LayoutModel",
            "_view_count": null,
            "_view_module": "@jupyter-widgets/base",
            "_view_module_version": "1.2.0",
            "_view_name": "LayoutView",
            "align_content": null,
            "align_items": null,
            "align_self": null,
            "border": null,
            "bottom": null,
            "display": null,
            "flex": null,
            "flex_flow": null,
            "grid_area": null,
            "grid_auto_columns": null,
            "grid_auto_flow": null,
            "grid_auto_rows": null,
            "grid_column": null,
            "grid_gap": null,
            "grid_row": null,
            "grid_template_areas": null,
            "grid_template_columns": null,
            "grid_template_rows": null,
            "height": null,
            "justify_content": null,
            "justify_items": null,
            "left": null,
            "margin": null,
            "max_height": null,
            "max_width": null,
            "min_height": null,
            "min_width": null,
            "object_fit": null,
            "object_position": null,
            "order": null,
            "overflow": null,
            "overflow_x": null,
            "overflow_y": null,
            "padding": null,
            "right": null,
            "top": null,
            "visibility": null,
            "width": null
          }
        },
        "8b26792ee19d4b9eb1db543e01ef33ff": {
          "model_module": "@jupyter-widgets/controls",
          "model_module_version": "1.5.0",
          "model_name": "HTMLModel",
          "state": {
            "_dom_classes": [],
            "_model_module": "@jupyter-widgets/controls",
            "_model_module_version": "1.5.0",
            "_model_name": "HTMLModel",
            "_view_count": null,
            "_view_module": "@jupyter-widgets/controls",
            "_view_module_version": "1.5.0",
            "_view_name": "HTMLView",
            "description": "",
            "description_tooltip": null,
            "layout": "IPY_MODEL_fc6817623e9440e591d38d20f0cacac1",
            "placeholder": "​",
            "style": "IPY_MODEL_3023ab1116364a6eb88030502023ad9f",
            "value": " 1.81k/1.81k [00:00&lt;00:00, 124kB/s]"
          }
        },
        "92e3b99a2567446ab7ed8fbd3bc32f69": {
          "model_module": "@jupyter-widgets/controls",
          "model_module_version": "1.5.0",
          "model_name": "LabelModel",
          "state": {
            "_dom_classes": [],
            "_model_module": "@jupyter-widgets/controls",
            "_model_module_version": "1.5.0",
            "_model_name": "LabelModel",
            "_view_count": null,
            "_view_module": "@jupyter-widgets/controls",
            "_view_module_version": "1.5.0",
            "_view_name": "LabelView",
            "description": "",
            "description_tooltip": null,
            "layout": "IPY_MODEL_b1a78843acd64780b1391d31631b6b0d",
            "placeholder": "​",
            "style": "IPY_MODEL_e5ba8b12303a4d9e9f7d3fb629f22be8",
            "value": "0.021 MB of 0.021 MB uploaded (0.000 MB deduped)\r"
          }
        },
        "95fdcb7824344c539b378c174e512667": {
          "model_module": "@jupyter-widgets/base",
          "model_module_version": "1.2.0",
          "model_name": "LayoutModel",
          "state": {
            "_model_module": "@jupyter-widgets/base",
            "_model_module_version": "1.2.0",
            "_model_name": "LayoutModel",
            "_view_count": null,
            "_view_module": "@jupyter-widgets/base",
            "_view_module_version": "1.2.0",
            "_view_name": "LayoutView",
            "align_content": null,
            "align_items": null,
            "align_self": null,
            "border": null,
            "bottom": null,
            "display": null,
            "flex": null,
            "flex_flow": null,
            "grid_area": null,
            "grid_auto_columns": null,
            "grid_auto_flow": null,
            "grid_auto_rows": null,
            "grid_column": null,
            "grid_gap": null,
            "grid_row": null,
            "grid_template_areas": null,
            "grid_template_columns": null,
            "grid_template_rows": null,
            "height": null,
            "justify_content": null,
            "justify_items": null,
            "left": null,
            "margin": null,
            "max_height": null,
            "max_width": null,
            "min_height": null,
            "min_width": null,
            "object_fit": null,
            "object_position": null,
            "order": null,
            "overflow": null,
            "overflow_x": null,
            "overflow_y": null,
            "padding": null,
            "right": null,
            "top": null,
            "visibility": null,
            "width": null
          }
        },
        "97b76b4d5add4f82b7b36ab5fbbcc8c7": {
          "model_module": "@jupyter-widgets/controls",
          "model_module_version": "1.5.0",
          "model_name": "HTMLModel",
          "state": {
            "_dom_classes": [],
            "_model_module": "@jupyter-widgets/controls",
            "_model_module_version": "1.5.0",
            "_model_name": "HTMLModel",
            "_view_count": null,
            "_view_module": "@jupyter-widgets/controls",
            "_view_module_version": "1.5.0",
            "_view_name": "HTMLView",
            "description": "",
            "description_tooltip": null,
            "layout": "IPY_MODEL_44d9458c76284128b56a102ddfb8a198",
            "placeholder": "​",
            "style": "IPY_MODEL_981c3df14c6d4ceebe8c1572a0636421",
            "value": " 436M/436M [00:02&lt;00:00, 123MB/s]"
          }
        },
        "97ca4fd93ea945aabaaaa632753cd5a9": {
          "model_module": "@jupyter-widgets/controls",
          "model_module_version": "1.5.0",
          "model_name": "HBoxModel",
          "state": {
            "_dom_classes": [],
            "_model_module": "@jupyter-widgets/controls",
            "_model_module_version": "1.5.0",
            "_model_name": "HBoxModel",
            "_view_count": null,
            "_view_module": "@jupyter-widgets/controls",
            "_view_module_version": "1.5.0",
            "_view_name": "HBoxView",
            "box_style": "",
            "children": [
              "IPY_MODEL_463ae3e95b694f61892a68d73efc971c",
              "IPY_MODEL_e3660e794a1c4698b5b969b342a49b3c",
              "IPY_MODEL_6a7ef71c4ece4bca8c416c7eac1563f4"
            ],
            "layout": "IPY_MODEL_42aaedb0fc90481bbac3f63920de592e"
          }
        },
        "981c3df14c6d4ceebe8c1572a0636421": {
          "model_module": "@jupyter-widgets/controls",
          "model_module_version": "1.5.0",
          "model_name": "DescriptionStyleModel",
          "state": {
            "_model_module": "@jupyter-widgets/controls",
            "_model_module_version": "1.5.0",
            "_model_name": "DescriptionStyleModel",
            "_view_count": null,
            "_view_module": "@jupyter-widgets/base",
            "_view_module_version": "1.2.0",
            "_view_name": "StyleView",
            "description_width": ""
          }
        },
        "9c2c642fbf7f49d88a69a483f9261bf2": {
          "model_module": "@jupyter-widgets/base",
          "model_module_version": "1.2.0",
          "model_name": "LayoutModel",
          "state": {
            "_model_module": "@jupyter-widgets/base",
            "_model_module_version": "1.2.0",
            "_model_name": "LayoutModel",
            "_view_count": null,
            "_view_module": "@jupyter-widgets/base",
            "_view_module_version": "1.2.0",
            "_view_name": "LayoutView",
            "align_content": null,
            "align_items": null,
            "align_self": null,
            "border": null,
            "bottom": null,
            "display": null,
            "flex": null,
            "flex_flow": null,
            "grid_area": null,
            "grid_auto_columns": null,
            "grid_auto_flow": null,
            "grid_auto_rows": null,
            "grid_column": null,
            "grid_gap": null,
            "grid_row": null,
            "grid_template_areas": null,
            "grid_template_columns": null,
            "grid_template_rows": null,
            "height": null,
            "justify_content": null,
            "justify_items": null,
            "left": null,
            "margin": null,
            "max_height": null,
            "max_width": null,
            "min_height": null,
            "min_width": null,
            "object_fit": null,
            "object_position": null,
            "order": null,
            "overflow": null,
            "overflow_x": null,
            "overflow_y": null,
            "padding": null,
            "right": null,
            "top": null,
            "visibility": null,
            "width": null
          }
        },
        "9d4e27ae26fa461e91ad0edd78f28c42": {
          "model_module": "@jupyter-widgets/controls",
          "model_module_version": "1.5.0",
          "model_name": "DescriptionStyleModel",
          "state": {
            "_model_module": "@jupyter-widgets/controls",
            "_model_module_version": "1.5.0",
            "_model_name": "DescriptionStyleModel",
            "_view_count": null,
            "_view_module": "@jupyter-widgets/base",
            "_view_module_version": "1.2.0",
            "_view_name": "StyleView",
            "description_width": ""
          }
        },
        "a28954bce6f1499290c827c6f67f42e1": {
          "model_module": "@jupyter-widgets/base",
          "model_module_version": "1.2.0",
          "model_name": "LayoutModel",
          "state": {
            "_model_module": "@jupyter-widgets/base",
            "_model_module_version": "1.2.0",
            "_model_name": "LayoutModel",
            "_view_count": null,
            "_view_module": "@jupyter-widgets/base",
            "_view_module_version": "1.2.0",
            "_view_name": "LayoutView",
            "align_content": null,
            "align_items": null,
            "align_self": null,
            "border": null,
            "bottom": null,
            "display": null,
            "flex": null,
            "flex_flow": null,
            "grid_area": null,
            "grid_auto_columns": null,
            "grid_auto_flow": null,
            "grid_auto_rows": null,
            "grid_column": null,
            "grid_gap": null,
            "grid_row": null,
            "grid_template_areas": null,
            "grid_template_columns": null,
            "grid_template_rows": null,
            "height": null,
            "justify_content": null,
            "justify_items": null,
            "left": null,
            "margin": null,
            "max_height": null,
            "max_width": null,
            "min_height": null,
            "min_width": null,
            "object_fit": null,
            "object_position": null,
            "order": null,
            "overflow": null,
            "overflow_x": null,
            "overflow_y": null,
            "padding": null,
            "right": null,
            "top": null,
            "visibility": null,
            "width": null
          }
        },
        "a3a85e1f72b8410ea80e85fb601a410b": {
          "model_module": "@jupyter-widgets/base",
          "model_module_version": "1.2.0",
          "model_name": "LayoutModel",
          "state": {
            "_model_module": "@jupyter-widgets/base",
            "_model_module_version": "1.2.0",
            "_model_name": "LayoutModel",
            "_view_count": null,
            "_view_module": "@jupyter-widgets/base",
            "_view_module_version": "1.2.0",
            "_view_name": "LayoutView",
            "align_content": null,
            "align_items": null,
            "align_self": null,
            "border": null,
            "bottom": null,
            "display": null,
            "flex": null,
            "flex_flow": null,
            "grid_area": null,
            "grid_auto_columns": null,
            "grid_auto_flow": null,
            "grid_auto_rows": null,
            "grid_column": null,
            "grid_gap": null,
            "grid_row": null,
            "grid_template_areas": null,
            "grid_template_columns": null,
            "grid_template_rows": null,
            "height": null,
            "justify_content": null,
            "justify_items": null,
            "left": null,
            "margin": null,
            "max_height": null,
            "max_width": null,
            "min_height": null,
            "min_width": null,
            "object_fit": null,
            "object_position": null,
            "order": null,
            "overflow": null,
            "overflow_x": null,
            "overflow_y": null,
            "padding": null,
            "right": null,
            "top": null,
            "visibility": null,
            "width": null
          }
        },
        "a62dc43f5b11406f8424ba771e4bde77": {
          "model_module": "@jupyter-widgets/controls",
          "model_module_version": "1.5.0",
          "model_name": "ProgressStyleModel",
          "state": {
            "_model_module": "@jupyter-widgets/controls",
            "_model_module_version": "1.5.0",
            "_model_name": "ProgressStyleModel",
            "_view_count": null,
            "_view_module": "@jupyter-widgets/base",
            "_view_module_version": "1.2.0",
            "_view_name": "StyleView",
            "bar_color": null,
            "description_width": ""
          }
        },
        "af0ab4426562437ebcf51f2dae28a2e3": {
          "model_module": "@jupyter-widgets/base",
          "model_module_version": "1.2.0",
          "model_name": "LayoutModel",
          "state": {
            "_model_module": "@jupyter-widgets/base",
            "_model_module_version": "1.2.0",
            "_model_name": "LayoutModel",
            "_view_count": null,
            "_view_module": "@jupyter-widgets/base",
            "_view_module_version": "1.2.0",
            "_view_name": "LayoutView",
            "align_content": null,
            "align_items": null,
            "align_self": null,
            "border": null,
            "bottom": null,
            "display": null,
            "flex": null,
            "flex_flow": null,
            "grid_area": null,
            "grid_auto_columns": null,
            "grid_auto_flow": null,
            "grid_auto_rows": null,
            "grid_column": null,
            "grid_gap": null,
            "grid_row": null,
            "grid_template_areas": null,
            "grid_template_columns": null,
            "grid_template_rows": null,
            "height": null,
            "justify_content": null,
            "justify_items": null,
            "left": null,
            "margin": null,
            "max_height": null,
            "max_width": null,
            "min_height": null,
            "min_width": null,
            "object_fit": null,
            "object_position": null,
            "order": null,
            "overflow": null,
            "overflow_x": null,
            "overflow_y": null,
            "padding": null,
            "right": null,
            "top": null,
            "visibility": null,
            "width": null
          }
        },
        "af1f143a62dd4d169e187b27e481c0ba": {
          "model_module": "@jupyter-widgets/controls",
          "model_module_version": "1.5.0",
          "model_name": "HTMLModel",
          "state": {
            "_dom_classes": [],
            "_model_module": "@jupyter-widgets/controls",
            "_model_module_version": "1.5.0",
            "_model_name": "HTMLModel",
            "_view_count": null,
            "_view_module": "@jupyter-widgets/controls",
            "_view_module_version": "1.5.0",
            "_view_name": "HTMLView",
            "description": "",
            "description_tooltip": null,
            "layout": "IPY_MODEL_a28954bce6f1499290c827c6f67f42e1",
            "placeholder": "​",
            "style": "IPY_MODEL_1a88f6f6613048d1bfea28c40230925c",
            "value": "Downloading (…)lve/main/config.json: 100%"
          }
        },
        "b1a78843acd64780b1391d31631b6b0d": {
          "model_module": "@jupyter-widgets/base",
          "model_module_version": "1.2.0",
          "model_name": "LayoutModel",
          "state": {
            "_model_module": "@jupyter-widgets/base",
            "_model_module_version": "1.2.0",
            "_model_name": "LayoutModel",
            "_view_count": null,
            "_view_module": "@jupyter-widgets/base",
            "_view_module_version": "1.2.0",
            "_view_name": "LayoutView",
            "align_content": null,
            "align_items": null,
            "align_self": null,
            "border": null,
            "bottom": null,
            "display": null,
            "flex": null,
            "flex_flow": null,
            "grid_area": null,
            "grid_auto_columns": null,
            "grid_auto_flow": null,
            "grid_auto_rows": null,
            "grid_column": null,
            "grid_gap": null,
            "grid_row": null,
            "grid_template_areas": null,
            "grid_template_columns": null,
            "grid_template_rows": null,
            "height": null,
            "justify_content": null,
            "justify_items": null,
            "left": null,
            "margin": null,
            "max_height": null,
            "max_width": null,
            "min_height": null,
            "min_width": null,
            "object_fit": null,
            "object_position": null,
            "order": null,
            "overflow": null,
            "overflow_x": null,
            "overflow_y": null,
            "padding": null,
            "right": null,
            "top": null,
            "visibility": null,
            "width": null
          }
        },
        "b4d8f39e34cd4dbaaaad9b35b326d520": {
          "model_module": "@jupyter-widgets/controls",
          "model_module_version": "1.5.0",
          "model_name": "VBoxModel",
          "state": {
            "_dom_classes": [],
            "_model_module": "@jupyter-widgets/controls",
            "_model_module_version": "1.5.0",
            "_model_name": "VBoxModel",
            "_view_count": null,
            "_view_module": "@jupyter-widgets/controls",
            "_view_module_version": "1.5.0",
            "_view_name": "VBoxView",
            "box_style": "",
            "children": [
              "IPY_MODEL_92e3b99a2567446ab7ed8fbd3bc32f69",
              "IPY_MODEL_3a6e15a84ef34415a150e8cb084af878"
            ],
            "layout": "IPY_MODEL_f0dd844dbdf4403ca93d3a36413bc58c"
          }
        },
        "bca21487c96f4821ab6c444d982ec776": {
          "model_module": "@jupyter-widgets/controls",
          "model_module_version": "1.5.0",
          "model_name": "DescriptionStyleModel",
          "state": {
            "_model_module": "@jupyter-widgets/controls",
            "_model_module_version": "1.5.0",
            "_model_name": "DescriptionStyleModel",
            "_view_count": null,
            "_view_module": "@jupyter-widgets/base",
            "_view_module_version": "1.2.0",
            "_view_name": "StyleView",
            "description_width": ""
          }
        },
        "bd81b21c5a5b4c749075d1aac56a730c": {
          "model_module": "@jupyter-widgets/controls",
          "model_module_version": "1.5.0",
          "model_name": "DescriptionStyleModel",
          "state": {
            "_model_module": "@jupyter-widgets/controls",
            "_model_module_version": "1.5.0",
            "_model_name": "DescriptionStyleModel",
            "_view_count": null,
            "_view_module": "@jupyter-widgets/base",
            "_view_module_version": "1.2.0",
            "_view_name": "StyleView",
            "description_width": ""
          }
        },
        "bfc82cf35449485585d1edd8bb6cc296": {
          "model_module": "@jupyter-widgets/base",
          "model_module_version": "1.2.0",
          "model_name": "LayoutModel",
          "state": {
            "_model_module": "@jupyter-widgets/base",
            "_model_module_version": "1.2.0",
            "_model_name": "LayoutModel",
            "_view_count": null,
            "_view_module": "@jupyter-widgets/base",
            "_view_module_version": "1.2.0",
            "_view_name": "LayoutView",
            "align_content": null,
            "align_items": null,
            "align_self": null,
            "border": null,
            "bottom": null,
            "display": null,
            "flex": null,
            "flex_flow": null,
            "grid_area": null,
            "grid_auto_columns": null,
            "grid_auto_flow": null,
            "grid_auto_rows": null,
            "grid_column": null,
            "grid_gap": null,
            "grid_row": null,
            "grid_template_areas": null,
            "grid_template_columns": null,
            "grid_template_rows": null,
            "height": null,
            "justify_content": null,
            "justify_items": null,
            "left": null,
            "margin": null,
            "max_height": null,
            "max_width": null,
            "min_height": null,
            "min_width": null,
            "object_fit": null,
            "object_position": null,
            "order": null,
            "overflow": null,
            "overflow_x": null,
            "overflow_y": null,
            "padding": null,
            "right": null,
            "top": null,
            "visibility": null,
            "width": null
          }
        },
        "cb5c0757e440403e937d5a47159b3d50": {
          "model_module": "@jupyter-widgets/controls",
          "model_module_version": "1.5.0",
          "model_name": "FloatProgressModel",
          "state": {
            "_dom_classes": [],
            "_model_module": "@jupyter-widgets/controls",
            "_model_module_version": "1.5.0",
            "_model_name": "FloatProgressModel",
            "_view_count": null,
            "_view_module": "@jupyter-widgets/controls",
            "_view_module_version": "1.5.0",
            "_view_name": "ProgressView",
            "bar_style": "success",
            "description": "",
            "description_tooltip": null,
            "layout": "IPY_MODEL_847f6b0794ac43868173c8a9ddc1b604",
            "max": 1110,
            "min": 0,
            "orientation": "horizontal",
            "style": "IPY_MODEL_82e01dd3357e44a081bacbcd7c1184a6",
            "value": 1110
          }
        },
        "e079d077e969488e81cad08718eb239c": {
          "model_module": "@jupyter-widgets/controls",
          "model_module_version": "1.5.0",
          "model_name": "HTMLModel",
          "state": {
            "_dom_classes": [],
            "_model_module": "@jupyter-widgets/controls",
            "_model_module_version": "1.5.0",
            "_model_name": "HTMLModel",
            "_view_count": null,
            "_view_module": "@jupyter-widgets/controls",
            "_view_module_version": "1.5.0",
            "_view_name": "HTMLView",
            "description": "",
            "description_tooltip": null,
            "layout": "IPY_MODEL_f38f1dedbe8e4e1ea190da8ded1ae468",
            "placeholder": "​",
            "style": "IPY_MODEL_bca21487c96f4821ab6c444d982ec776",
            "value": " 1.11k/1.11k [00:00&lt;00:00, 47.5kB/s]"
          }
        },
        "e083006a73794c88b1673925cddf81ed": {
          "model_module": "@jupyter-widgets/controls",
          "model_module_version": "1.5.0",
          "model_name": "HBoxModel",
          "state": {
            "_dom_classes": [],
            "_model_module": "@jupyter-widgets/controls",
            "_model_module_version": "1.5.0",
            "_model_name": "HBoxModel",
            "_view_count": null,
            "_view_module": "@jupyter-widgets/controls",
            "_view_module_version": "1.5.0",
            "_view_name": "HBoxView",
            "box_style": "",
            "children": [
              "IPY_MODEL_af1f143a62dd4d169e187b27e481c0ba",
              "IPY_MODEL_25e54af8d4764bb9a25f9f96428d2cd9",
              "IPY_MODEL_8b26792ee19d4b9eb1db543e01ef33ff"
            ],
            "layout": "IPY_MODEL_af0ab4426562437ebcf51f2dae28a2e3"
          }
        },
        "e3660e794a1c4698b5b969b342a49b3c": {
          "model_module": "@jupyter-widgets/controls",
          "model_module_version": "1.5.0",
          "model_name": "FloatProgressModel",
          "state": {
            "_dom_classes": [],
            "_model_module": "@jupyter-widgets/controls",
            "_model_module_version": "1.5.0",
            "_model_name": "FloatProgressModel",
            "_view_count": null,
            "_view_module": "@jupyter-widgets/controls",
            "_view_module_version": "1.5.0",
            "_view_name": "ProgressView",
            "bar_style": "success",
            "description": "",
            "description_tooltip": null,
            "layout": "IPY_MODEL_642ff23f52d2407c93eeeb1edf4aae52",
            "max": 213450,
            "min": 0,
            "orientation": "horizontal",
            "style": "IPY_MODEL_a62dc43f5b11406f8424ba771e4bde77",
            "value": 213450
          }
        },
        "e5ba8b12303a4d9e9f7d3fb629f22be8": {
          "model_module": "@jupyter-widgets/controls",
          "model_module_version": "1.5.0",
          "model_name": "DescriptionStyleModel",
          "state": {
            "_model_module": "@jupyter-widgets/controls",
            "_model_module_version": "1.5.0",
            "_model_name": "DescriptionStyleModel",
            "_view_count": null,
            "_view_module": "@jupyter-widgets/base",
            "_view_module_version": "1.2.0",
            "_view_name": "StyleView",
            "description_width": ""
          }
        },
        "f0dd844dbdf4403ca93d3a36413bc58c": {
          "model_module": "@jupyter-widgets/base",
          "model_module_version": "1.2.0",
          "model_name": "LayoutModel",
          "state": {
            "_model_module": "@jupyter-widgets/base",
            "_model_module_version": "1.2.0",
            "_model_name": "LayoutModel",
            "_view_count": null,
            "_view_module": "@jupyter-widgets/base",
            "_view_module_version": "1.2.0",
            "_view_name": "LayoutView",
            "align_content": null,
            "align_items": null,
            "align_self": null,
            "border": null,
            "bottom": null,
            "display": null,
            "flex": null,
            "flex_flow": null,
            "grid_area": null,
            "grid_auto_columns": null,
            "grid_auto_flow": null,
            "grid_auto_rows": null,
            "grid_column": null,
            "grid_gap": null,
            "grid_row": null,
            "grid_template_areas": null,
            "grid_template_columns": null,
            "grid_template_rows": null,
            "height": null,
            "justify_content": null,
            "justify_items": null,
            "left": null,
            "margin": null,
            "max_height": null,
            "max_width": null,
            "min_height": null,
            "min_width": null,
            "object_fit": null,
            "object_position": null,
            "order": null,
            "overflow": null,
            "overflow_x": null,
            "overflow_y": null,
            "padding": null,
            "right": null,
            "top": null,
            "visibility": null,
            "width": null
          }
        },
        "f38f1dedbe8e4e1ea190da8ded1ae468": {
          "model_module": "@jupyter-widgets/base",
          "model_module_version": "1.2.0",
          "model_name": "LayoutModel",
          "state": {
            "_model_module": "@jupyter-widgets/base",
            "_model_module_version": "1.2.0",
            "_model_name": "LayoutModel",
            "_view_count": null,
            "_view_module": "@jupyter-widgets/base",
            "_view_module_version": "1.2.0",
            "_view_name": "LayoutView",
            "align_content": null,
            "align_items": null,
            "align_self": null,
            "border": null,
            "bottom": null,
            "display": null,
            "flex": null,
            "flex_flow": null,
            "grid_area": null,
            "grid_auto_columns": null,
            "grid_auto_flow": null,
            "grid_auto_rows": null,
            "grid_column": null,
            "grid_gap": null,
            "grid_row": null,
            "grid_template_areas": null,
            "grid_template_columns": null,
            "grid_template_rows": null,
            "height": null,
            "justify_content": null,
            "justify_items": null,
            "left": null,
            "margin": null,
            "max_height": null,
            "max_width": null,
            "min_height": null,
            "min_width": null,
            "object_fit": null,
            "object_position": null,
            "order": null,
            "overflow": null,
            "overflow_x": null,
            "overflow_y": null,
            "padding": null,
            "right": null,
            "top": null,
            "visibility": null,
            "width": null
          }
        },
        "f4b9661fb1f448c89670b88013298d07": {
          "model_module": "@jupyter-widgets/controls",
          "model_module_version": "1.5.0",
          "model_name": "ProgressStyleModel",
          "state": {
            "_model_module": "@jupyter-widgets/controls",
            "_model_module_version": "1.5.0",
            "_model_name": "ProgressStyleModel",
            "_view_count": null,
            "_view_module": "@jupyter-widgets/base",
            "_view_module_version": "1.2.0",
            "_view_name": "StyleView",
            "bar_color": null,
            "description_width": ""
          }
        },
        "f529e2bd9b6b439da030df6f8a81f8e5": {
          "model_module": "@jupyter-widgets/controls",
          "model_module_version": "1.5.0",
          "model_name": "DescriptionStyleModel",
          "state": {
            "_model_module": "@jupyter-widgets/controls",
            "_model_module_version": "1.5.0",
            "_model_name": "DescriptionStyleModel",
            "_view_count": null,
            "_view_module": "@jupyter-widgets/base",
            "_view_module_version": "1.2.0",
            "_view_name": "StyleView",
            "description_width": ""
          }
        },
        "fb940bef1f7e4055b95bc3ac7d1d1e22": {
          "model_module": "@jupyter-widgets/controls",
          "model_module_version": "1.5.0",
          "model_name": "HBoxModel",
          "state": {
            "_dom_classes": [],
            "_model_module": "@jupyter-widgets/controls",
            "_model_module_version": "1.5.0",
            "_model_name": "HBoxModel",
            "_view_count": null,
            "_view_module": "@jupyter-widgets/controls",
            "_view_module_version": "1.5.0",
            "_view_name": "HBoxView",
            "box_style": "",
            "children": [
              "IPY_MODEL_360f622b0bc04c7dba0f8d5f24e4f257",
              "IPY_MODEL_65b05e42c7d94b0395e6cc41d962a548",
              "IPY_MODEL_16040ffa23fd450d92b3936259fdc330"
            ],
            "layout": "IPY_MODEL_49020004634042c497c11f1ed4bec5e6"
          }
        },
        "fc6817623e9440e591d38d20f0cacac1": {
          "model_module": "@jupyter-widgets/base",
          "model_module_version": "1.2.0",
          "model_name": "LayoutModel",
          "state": {
            "_model_module": "@jupyter-widgets/base",
            "_model_module_version": "1.2.0",
            "_model_name": "LayoutModel",
            "_view_count": null,
            "_view_module": "@jupyter-widgets/base",
            "_view_module_version": "1.2.0",
            "_view_name": "LayoutView",
            "align_content": null,
            "align_items": null,
            "align_self": null,
            "border": null,
            "bottom": null,
            "display": null,
            "flex": null,
            "flex_flow": null,
            "grid_area": null,
            "grid_auto_columns": null,
            "grid_auto_flow": null,
            "grid_auto_rows": null,
            "grid_column": null,
            "grid_gap": null,
            "grid_row": null,
            "grid_template_areas": null,
            "grid_template_columns": null,
            "grid_template_rows": null,
            "height": null,
            "justify_content": null,
            "justify_items": null,
            "left": null,
            "margin": null,
            "max_height": null,
            "max_width": null,
            "min_height": null,
            "min_width": null,
            "object_fit": null,
            "object_position": null,
            "order": null,
            "overflow": null,
            "overflow_x": null,
            "overflow_y": null,
            "padding": null,
            "right": null,
            "top": null,
            "visibility": null,
            "width": null
          }
        }
      }
    }
  },
  "nbformat": 4,
  "nbformat_minor": 5
}
